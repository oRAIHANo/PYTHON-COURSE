{
 "cells": [
  {
   "cell_type": "markdown",
   "id": "af7618e3",
   "metadata": {},
   "source": [
    "## Python Programming Language -> MCA 2nd Semester Syllabus"
   ]
  },
  {
   "cell_type": "markdown",
   "id": "82872972",
   "metadata": {},
   "source": [
    "## NumPy Library"
   ]
  },
  {
   "cell_type": "code",
   "execution_count": 2,
   "id": "9fa3ab73",
   "metadata": {},
   "outputs": [],
   "source": [
    "# Introduction to NumPy x \n",
    "# Creation of One-Dimensional Arrays x\n",
    "# Multi-Dimensional Arrays x\n",
    "# Array Manipulation Operations x\n",
    "# Arithematic operations x\n",
    "# Aggregate Operations x\n",
    "# Reshaping of an Array x\n",
    "# Array Indexing x\n",
    "# Array Slicing x\n",
    "# Iterating NumPy Arrays x\n",
    "# Element-wise Operations\n",
    "# Insert Row/Columns\n",
    "# Append Row/Columns"
   ]
  },
  {
   "cell_type": "markdown",
   "id": "a685868b",
   "metadata": {},
   "source": [
    "## What is NumPy"
   ]
  },
  {
   "cell_type": "code",
   "execution_count": 3,
   "id": "2b64547a",
   "metadata": {},
   "outputs": [],
   "source": [
    "# NumPy is a general-purpose array-processing package. \n",
    "# NumPy is a Python library used for working with arrays.\n",
    "# It provides a high-performance multidimensional array object and tools for working with these arrays. \n",
    "# It is the fundamental package for scientific computing with Python. \n",
    "# It also has wide variety of mathematical functions for working in domain of linear algebra, fourier transform, and matrices.\n",
    "# NumPy was created in 2005 by Travis Oliphant. It is an open source project and you can use it freely.\n",
    "# NumPy stands for Numerical Python. It is an open-source software."
   ]
  },
  {
   "cell_type": "markdown",
   "id": "3197c0dc",
   "metadata": {},
   "source": [
    "## Why Use NumPy"
   ]
  },
  {
   "cell_type": "code",
   "execution_count": 4,
   "id": "66c16ae8",
   "metadata": {},
   "outputs": [],
   "source": [
    "# In Python we have lists that serve the purpose of arrays, but they are slow to process.\n",
    "# NumPy aims to provide an array object that is up to 50x faster than traditional Python lists.\n",
    "# The array object in NumPy is called ndarray\n",
    "# It provides a lot of supporting functions that make working with ndarray very easy.\n",
    "# Arrays are very frequently used in data science, where speed and resources are very important.\n",
    "# Data Science: is a branch of CS where we study how to store, use and analyze data for deriving information from it."
   ]
  },
  {
   "cell_type": "markdown",
   "id": "e1ee0ee7",
   "metadata": {},
   "source": [
    "## Which Language is NumPy written in"
   ]
  },
  {
   "cell_type": "code",
   "execution_count": 5,
   "id": "a8dd1088",
   "metadata": {},
   "outputs": [],
   "source": [
    "# NumPy is a Python library and is written partially in Python.\n",
    "# But most of the parts that require fast computation are written in C or C++."
   ]
  },
  {
   "cell_type": "markdown",
   "id": "02d353b9",
   "metadata": {},
   "source": [
    "## Why is NumPy Faster Than Lists"
   ]
  },
  {
   "cell_type": "code",
   "execution_count": 6,
   "id": "98c55be1",
   "metadata": {},
   "outputs": [],
   "source": [
    "# NumPy is faster than Python lists primarily due to its implementation in C\n",
    "# Which allows for more efficient memory management and optimized operations. \n",
    "# NumPy arrays are stored at one continuous place in memory unlike lists.\n",
    "# So processes can access and manipulate them very efficiently.\n",
    "\n",
    "# Here are some reasons why NumPy outperforms lists:\n",
    "\n",
    "# Homogeneous Data Types: \n",
    "# NumPy arrays have elements of the same data type.\n",
    "# Which allows for more efficient memory storage and faster computation compared to Python lists.\n",
    "# Python list can contain elements of different types.\n",
    "\n",
    "# Vectorized Operations:\n",
    "# NumPy supports vectorized operations, which means that operations are applied to all elements of an array simultaneously.\n",
    "# Leveraging the highly optimized C and Fortran code behind NumPy's functions. \n",
    "# This avoids the need for explicit looping over elements, as required with Python lists.\n",
    "\n",
    "# Contiguous Memory Allocation:\n",
    "# NumPy arrays are stored in contiguous memory blocks, which allows for efficient memory access and faster computations.\n",
    "# Especially for large datasets. \n",
    "# Python lists, on the other hand, store references to objects scattered across memory, leading to slower access times.\n",
    "\n",
    "# Optimized Algorithms:\n",
    "# NumPy provides a wide range of optimized algorithms for common mathematical operations.\n",
    "# Such as linear algebra, Fourier transforms, and random number generation. \n",
    "# These algorithms are implemented in C and Fortran, making them significantly faster than Python lists.\n",
    "\n",
    "# Parallelism: \n",
    "# It is optimized to work with latest CPU architectures.\n",
    "# NumPy can take advantage of parallel processing capabilities of modern CPUs.\n",
    "# Through libraries like Intel MKL (Math Kernel Library) or OpenBLAS, further enhancing its performance for certain operations."
   ]
  },
  {
   "cell_type": "markdown",
   "id": "1eaa3c63",
   "metadata": {},
   "source": [
    "## Difference between Numpy array and Python list"
   ]
  },
  {
   "cell_type": "code",
   "execution_count": null,
   "id": "7bd986d5",
   "metadata": {},
   "outputs": [],
   "source": [
    "# Data type storage\n",
    "# Importing module\n",
    "# Numerical opertions\n",
    "# Modification capabilities\n",
    "# Consumes less memory\n",
    "# Faster as compared to python lists\n",
    "# Convinient to use"
   ]
  },
  {
   "cell_type": "markdown",
   "id": "aaa8b565",
   "metadata": {},
   "source": [
    "## Installation of numpy library  "
   ]
  },
  {
   "cell_type": "code",
   "execution_count": 1,
   "id": "a40b1db7",
   "metadata": {},
   "outputs": [
    {
     "name": "stdout",
     "output_type": "stream",
     "text": [
      "Requirement already satisfied: numpy in e:\\anaconda\\lib\\site-packages (1.23.5)\n"
     ]
    }
   ],
   "source": [
    "!pip install numpy"
   ]
  },
  {
   "cell_type": "code",
   "execution_count": 2,
   "id": "f8c53cf3",
   "metadata": {},
   "outputs": [],
   "source": [
    "import numpy as np"
   ]
  },
  {
   "cell_type": "markdown",
   "id": "18de728f",
   "metadata": {},
   "source": [
    "## Numpy array vs list"
   ]
  },
  {
   "cell_type": "code",
   "execution_count": 4,
   "id": "cf7494aa",
   "metadata": {},
   "outputs": [
    {
     "name": "stdout",
     "output_type": "stream",
     "text": [
      "<class 'numpy.ndarray'>\n",
      "[1 2 3 4 5]\n"
     ]
    }
   ],
   "source": [
    "# numpy array\n",
    "numbers = np.array([1,2,3,4,5])\n",
    "print(type(numbers))\n",
    "print(numbers)"
   ]
  },
  {
   "cell_type": "code",
   "execution_count": 3,
   "id": "c76e93b9",
   "metadata": {},
   "outputs": [
    {
     "name": "stdout",
     "output_type": "stream",
     "text": [
      "<class 'list'>\n",
      "[1, 2, 3, 4, 5]\n"
     ]
    }
   ],
   "source": [
    "# list\n",
    "numbers = [1,2,3,4,5]\n",
    "print(type(numbers))\n",
    "print(numbers)"
   ]
  },
  {
   "cell_type": "markdown",
   "id": "41bc7cbe",
   "metadata": {},
   "source": [
    "## How to Create NumPy Array"
   ]
  },
  {
   "cell_type": "code",
   "execution_count": 11,
   "id": "11d9a15e",
   "metadata": {},
   "outputs": [
    {
     "name": "stdout",
     "output_type": "stream",
     "text": [
      "<class 'numpy.ndarray'>\n",
      "[1 2 3 4 5]\n"
     ]
    }
   ],
   "source": [
    "# numpy array\n",
    "x = [1,2,3,4,5]\n",
    "numbers = np.array(x) # passing list as an argument after creating it seperately\n",
    "print(type(numbers))\n",
    "print(numbers)"
   ]
  },
  {
   "cell_type": "code",
   "execution_count": 8,
   "id": "57a4c2c8",
   "metadata": {},
   "outputs": [
    {
     "name": "stdout",
     "output_type": "stream",
     "text": [
      "<class 'numpy.ndarray'>\n",
      "[1 2 3 4 5]\n"
     ]
    }
   ],
   "source": [
    "# numpy array\n",
    "numbers = np.array([1,2,3,4,5]) # passing list as an argument directly\n",
    "print(type(numbers))\n",
    "print(numbers)"
   ]
  },
  {
   "cell_type": "code",
   "execution_count": 16,
   "id": "adbfa85d",
   "metadata": {},
   "outputs": [
    {
     "name": "stdout",
     "output_type": "stream",
     "text": [
      "Enter number at position 1 : 1\n",
      "Enter number at position 2 : 2\n",
      "Enter number at position 3 : 3\n",
      "Enter number at position 4 : 4\n",
      "Enter number at position 5 : 5\n",
      "<class 'numpy.ndarray'>\n",
      "[1 2 3 4 5]\n"
     ]
    }
   ],
   "source": [
    "# taking user input and storing it into numpy array\n",
    "num = []\n",
    "for i in range(1,6):\n",
    "    n = int(input(f\"Enter number at position {i} : \"))\n",
    "    num.append(n)\n",
    "\n",
    "numbers = np.array(num)\n",
    "print(type(numbers))\n",
    "print(numbers)"
   ]
  },
  {
   "cell_type": "markdown",
   "id": "9d7c27c1",
   "metadata": {},
   "source": [
    "## Types of numpy array"
   ]
  },
  {
   "cell_type": "code",
   "execution_count": 12,
   "id": "440dcc1e",
   "metadata": {},
   "outputs": [
    {
     "name": "stdout",
     "output_type": "stream",
     "text": [
      "<class 'numpy.ndarray'>\n",
      "This is a 1D array\n",
      "[1 2 3 4 5]\n"
     ]
    }
   ],
   "source": [
    "# 1d Array creation and checking\n",
    "x = [1,2,3,4,5]\n",
    "numbers = np.array(x)\n",
    "print(type(numbers))\n",
    "print(f\"This is a {numbers.ndim}D array\")\n",
    "print(numbers)"
   ]
  },
  {
   "cell_type": "code",
   "execution_count": 11,
   "id": "7d3707d1",
   "metadata": {},
   "outputs": [
    {
     "name": "stdout",
     "output_type": "stream",
     "text": [
      "<class 'numpy.ndarray'>\n",
      "This is a 2D array\n",
      "[[ 1  2  3  4  5]\n",
      " [ 6  7  8  9 10]]\n"
     ]
    }
   ],
   "source": [
    "# 2d Array creation and checking\n",
    "# x = [[1,2,3,4,5]]\n",
    "x = [[1,2,3,4,5],[6,7,8,9,10]]\n",
    "numbers = np.array(x)\n",
    "print(type(numbers))\n",
    "print(f\"This is a {numbers.ndim}D array\")\n",
    "print(numbers)"
   ]
  },
  {
   "cell_type": "code",
   "execution_count": 10,
   "id": "5a065ed8",
   "metadata": {},
   "outputs": [
    {
     "name": "stdout",
     "output_type": "stream",
     "text": [
      "<class 'numpy.ndarray'>\n",
      "This is a 3D array\n",
      "[[[ 1  2  3  4  5]\n",
      "  [ 6  7  8  9 10]\n",
      "  [11 12 13 14 15]]]\n"
     ]
    }
   ],
   "source": [
    "# 3d Array creation and checking\n",
    "# x = [[[1,2,3,4,5]]]\n",
    "x = [[[1,2,3,4,5],[6,7,8,9,10],[11,12,13,14,15]]]\n",
    "numbers = np.array(x)\n",
    "print(type(numbers))\n",
    "print(f\"This is a {numbers.ndim}D array\")\n",
    "print(numbers)"
   ]
  },
  {
   "cell_type": "code",
   "execution_count": 9,
   "id": "d80e2213",
   "metadata": {},
   "outputs": [
    {
     "name": "stdout",
     "output_type": "stream",
     "text": [
      "<class 'numpy.ndarray'>\n",
      "This is a 10D array\n",
      "[[[[[[[[[[1 2 3 4 5]]]]]]]]]]\n"
     ]
    }
   ],
   "source": [
    "# nd Array creation and checking\n",
    "x = [1,2,3,4,5]\n",
    "numbers = np.array(x, ndmin = 10)\n",
    "print(type(numbers)) \n",
    "print(f\"This is a {numbers.ndim}D array\")\n",
    "print(numbers)"
   ]
  },
  {
   "cell_type": "markdown",
   "id": "68227a68",
   "metadata": {},
   "source": [
    "## Special types of numpy arrays"
   ]
  },
  {
   "cell_type": "code",
   "execution_count": 41,
   "id": "e37537ef",
   "metadata": {},
   "outputs": [
    {
     "name": "stdout",
     "output_type": "stream",
     "text": [
      "[0. 0. 0. 0. 0.]\n",
      "\n",
      "[[0. 0. 0.]\n",
      " [0. 0. 0.]\n",
      " [0. 0. 0.]]\n"
     ]
    }
   ],
   "source": [
    "# Arrays filled with 0's\n",
    "array_1d_zero = np.zeros(5)\n",
    "print(array_1d_zero)\n",
    "print()\n",
    "array_2d_zero = np.zeros((3,3))\n",
    "print(array_2d_zero)"
   ]
  },
  {
   "cell_type": "code",
   "execution_count": 42,
   "id": "881751ea",
   "metadata": {},
   "outputs": [
    {
     "name": "stdout",
     "output_type": "stream",
     "text": [
      "[1. 1. 1. 1. 1.]\n",
      "\n",
      "[[1. 1. 1.]\n",
      " [1. 1. 1.]\n",
      " [1. 1. 1.]]\n"
     ]
    }
   ],
   "source": [
    "# Arrays filled with 1's\n",
    "array_1d_one = np.ones(5)\n",
    "print(array_1d_one)\n",
    "print()\n",
    "array_2d_one = np.ones((3,3))\n",
    "print(array_2d_one)"
   ]
  },
  {
   "cell_type": "code",
   "execution_count": 44,
   "id": "0c79f0bb",
   "metadata": {},
   "outputs": [
    {
     "name": "stdout",
     "output_type": "stream",
     "text": [
      "[1. 1. 1. 1. 1.]\n"
     ]
    }
   ],
   "source": [
    "# Empty array stores the values of previously created array thats why it is filled with 1\n",
    "numbers = np.empty(5)\n",
    "print(numbers)"
   ]
  },
  {
   "cell_type": "code",
   "execution_count": 47,
   "id": "11e8040a",
   "metadata": {},
   "outputs": [
    {
     "name": "stdout",
     "output_type": "stream",
     "text": [
      "[0 1 2 3 4]\n",
      "[1 2 3 4]\n"
     ]
    }
   ],
   "source": [
    "# Array with a given range of elements\n",
    "arr1 = np.arange(5)\n",
    "print(arr1)\n",
    "\n",
    "arr2 = np.arange(1,5)\n",
    "print(arr2)"
   ]
  },
  {
   "cell_type": "code",
   "execution_count": 50,
   "id": "a4235442",
   "metadata": {},
   "outputs": [
    {
     "name": "stdout",
     "output_type": "stream",
     "text": [
      "[[1. 0. 0. 0. 0.]\n",
      " [0. 1. 0. 0. 0.]\n",
      " [0. 0. 1. 0. 0.]\n",
      " [0. 0. 0. 1. 0.]\n",
      " [0. 0. 0. 0. 1.]]\n"
     ]
    }
   ],
   "source": [
    "# Array diagnal element filled with 1's | identity matrix\n",
    "numbers = np.eye(5)\n",
    "print(numbers)"
   ]
  },
  {
   "cell_type": "markdown",
   "id": "5c5e5c16",
   "metadata": {},
   "source": [
    "## How to Create NumPy Arrays with Random Numbers"
   ]
  },
  {
   "cell_type": "code",
   "execution_count": 52,
   "id": "c33ad978",
   "metadata": {},
   "outputs": [
    {
     "name": "stdout",
     "output_type": "stream",
     "text": [
      "[0.18237896 0.56063737 0.38818051 0.64332655 0.42259576]\n"
     ]
    }
   ],
   "source": [
    "# rand() functions is used to generate a random value between 0 and 1\n",
    "numbers = np.random.rand(5)\n",
    "print(numbers)"
   ]
  },
  {
   "cell_type": "code",
   "execution_count": 53,
   "id": "20d44b24",
   "metadata": {},
   "outputs": [
    {
     "name": "stdout",
     "output_type": "stream",
     "text": [
      "[-0.4822003   1.37091378  0.60688528 -1.01841444  1.11122839]\n"
     ]
    }
   ],
   "source": [
    "# randn() functions is used to generate a random value close to 0. This may return positive as well as negative number as well\n",
    "numbers = np.random.randn(5)\n",
    "print(numbers)"
   ]
  },
  {
   "cell_type": "code",
   "execution_count": 72,
   "id": "58b7b111",
   "metadata": {},
   "outputs": [
    {
     "name": "stdout",
     "output_type": "stream",
     "text": [
      "4\n"
     ]
    }
   ],
   "source": [
    "# randint() functions is used to generate a random value between a given range\n",
    "# systax -  np.random.randint(min, max, total_values)\n",
    "numbers = np.random.randint(1,5)\n",
    "print(numbers)"
   ]
  },
  {
   "cell_type": "code",
   "execution_count": 77,
   "id": "926a5599",
   "metadata": {},
   "outputs": [
    {
     "name": "stdout",
     "output_type": "stream",
     "text": [
      "[5 5 9 6 9]\n"
     ]
    }
   ],
   "source": [
    "numbers = np.random.randint(1,10,5)\n",
    "print(numbers)"
   ]
  },
  {
   "cell_type": "markdown",
   "id": "682de139",
   "metadata": {},
   "source": [
    "## What is Data Type of NumPy Array"
   ]
  },
  {
   "cell_type": "code",
   "execution_count": null,
   "id": "73a112a3",
   "metadata": {},
   "outputs": [],
   "source": [
    "# 1 bool_ = Boolean (True or False) stored as a byte\n",
    "# 2 int = Default integer type (same as C long; normally either int64 or int32)\n",
    "# 3 Intc = Identical to C int (normally int32 or int64)\n",
    "# 4 Intp = Integer used for indexing (same as C ssize_t; normall either int32 or int64)\n",
    "# 5 int8 = Byte (-128 to 127)\n",
    "# 6 int16 = Integer (-32768 to 32767)\n",
    "# 7 int32 = Integer (-2147483648 to 2147483647)\n",
    "# 8 int64 = Integer (-9223372036854775808 to 9223372036854775807)\n",
    "# 9 uint8 = Unsigned integer (0 to 255)\n",
    "# 10 uint16 = Unsigned integer (0 to 65535)\n",
    "# 11 uint32 = Unsigned integer (0 to 4294967295)\n",
    "# 12 uint64 = Unsigned integer (0 to 18446744073709551615)\n",
    "# 13 float = Shorthand for float64\n",
    "# 14 float16 = Half precision float: sign bit, 5 bits exponent, 10 bits mantissa\n",
    "# 15 float32 = Single precision float: sign bit, 8 bits exponent mantissats\n",
    "# 16 float64 = Double precision float: sign bit, 11 bits mantissa\n",
    "# 17 complex_ = Shorthand for complex128\n",
    "# 18 complex64 = Complex number, represented by two 32-bit floats (real and imaginary components)\n",
    "# 19 complex128 = Complex number, represented by two 64-bit floats (real and imaginary components)"
   ]
  },
  {
   "cell_type": "code",
   "execution_count": null,
   "id": "5fafbe4a",
   "metadata": {},
   "outputs": [],
   "source": [
    "# i - integer\n",
    "# b - boolean\n",
    "# u - unsigned integer\n",
    "# f - float\n",
    "# C - complex float\n",
    "# m - timedelta\n",
    "# M - datetime\n",
    "# 0 - object\n",
    "# S - string\n",
    "# U - Unicode string\n",
    "# V - the fixed chunk of memory for other types (void)"
   ]
  },
  {
   "cell_type": "code",
   "execution_count": 17,
   "id": "707fa34a",
   "metadata": {},
   "outputs": [
    {
     "name": "stdout",
     "output_type": "stream",
     "text": [
      "Data type is : int32\n",
      "[1 2 3 4 5]\n"
     ]
    }
   ],
   "source": [
    "# Array of integer data type\n",
    "var = np.array([1,2,3,4,5])\n",
    "print(f\"Data type is : {var.dtype}\")\n",
    "print(var)"
   ]
  },
  {
   "cell_type": "code",
   "execution_count": 18,
   "id": "b0758291",
   "metadata": {},
   "outputs": [
    {
     "name": "stdout",
     "output_type": "stream",
     "text": [
      "Data type is : float64\n",
      "[1. 2. 3. 4. 5.]\n"
     ]
    }
   ],
   "source": [
    "# Array of float data type\n",
    "var = np.array([1.0,2.0,3.0,4.0,5.0])\n",
    "print(f\"Data type is : {var.dtype}\")\n",
    "print(var)"
   ]
  },
  {
   "cell_type": "code",
   "execution_count": 19,
   "id": "8edc102a",
   "metadata": {},
   "outputs": [
    {
     "name": "stdout",
     "output_type": "stream",
     "text": [
      "Data type is : <U1\n",
      "['A' 'B' 'C' 'D' 'E']\n"
     ]
    }
   ],
   "source": [
    "# Array of character or string data type\n",
    "var = np.array([\"A\",\"B\",\"C\",\"D\",\"E\"])\n",
    "print(f\"Data type is : {var.dtype}\")\n",
    "print(var)"
   ]
  },
  {
   "cell_type": "code",
   "execution_count": 20,
   "id": "79b1af49",
   "metadata": {},
   "outputs": [
    {
     "name": "stdout",
     "output_type": "stream",
     "text": [
      "Data type is : <U11\n",
      "['1' '2' '3' '4' '5' 'A' 'B' 'C' 'D' 'E']\n"
     ]
    }
   ],
   "source": [
    "# Array of mixed data type\n",
    "var = np.array([1,2,3,4,5,\"A\",\"B\",\"C\",\"D\",\"E\"])\n",
    "print(f\"Data type is : {var.dtype}\")\n",
    "print(var)"
   ]
  },
  {
   "cell_type": "code",
   "execution_count": 14,
   "id": "31cdcd80",
   "metadata": {},
   "outputs": [
    {
     "name": "stdout",
     "output_type": "stream",
     "text": [
      "Data type is : int32\n",
      "[1 2 3 4 5]\n",
      "\n",
      "Data type is : int8\n",
      "[1 2 3 4 5]\n"
     ]
    }
   ],
   "source": [
    "# Array type conversion int32 to int8\n",
    "var = np.array([1,2,3,4,5])\n",
    "print(f\"Data type is : {var.dtype}\")\n",
    "print(var)\n",
    "print()\n",
    "var = np.array([1,2,3,4,5], dtype = np.int8) \n",
    "print(f\"Data type is : {var.dtype}\")\n",
    "print(var)"
   ]
  },
  {
   "cell_type": "code",
   "execution_count": 16,
   "id": "96d7b3f1",
   "metadata": {},
   "outputs": [
    {
     "name": "stdout",
     "output_type": "stream",
     "text": [
      "Data type is : float32\n",
      "[1. 2. 3. 4. 5.]\n"
     ]
    }
   ],
   "source": [
    "# Array type conversion int to float\n",
    "x = np.array([1,2,3,4,5], dtype = \"f\")\n",
    "print(f\"Data type is : {x.dtype}\")\n",
    "print(x)"
   ]
  },
  {
   "cell_type": "code",
   "execution_count": 23,
   "id": "3e6a198c",
   "metadata": {},
   "outputs": [
    {
     "name": "stdout",
     "output_type": "stream",
     "text": [
      "Data type is : int32\n",
      "[1 2 3 4 5]\n",
      "Data type is : float32\n",
      "[1. 2. 3. 4. 5.]\n"
     ]
    }
   ],
   "source": [
    "# Array type conversion using type conversion function\n",
    "x = np.array([1,2,3,4,5])\n",
    "var = np.float32(x)\n",
    "print(f\"Data type is : {x.dtype}\")\n",
    "print(x)\n",
    "\n",
    "print(f\"Data type is : {var.dtype}\")\n",
    "print(var)"
   ]
  },
  {
   "cell_type": "markdown",
   "id": "d0a475ba",
   "metadata": {},
   "source": [
    "## NumPy - Array Manipulation"
   ]
  },
  {
   "cell_type": "markdown",
   "id": "4cc7bd91",
   "metadata": {},
   "source": [
    "## NumPy Arithmetic Operations"
   ]
  },
  {
   "cell_type": "code",
   "execution_count": null,
   "id": "9b9fb93e",
   "metadata": {},
   "outputs": [],
   "source": [
    "# we can use symbols like +-*/ or inbuilt functions like add,subtract etc\n",
    "# a+b = np.add(a,b)\n",
    "# a-b = np.subtract(a,b)\n",
    "# a*b = np.multiply(a,b)\n",
    "# a/b = np.divide(a,b)\n",
    "# a%b = np.mod(a,b)\n",
    "# a**b = np.power(a,b)\n",
    "# 1/a = np.reciprocal(a)"
   ]
  },
  {
   "cell_type": "code",
   "execution_count": 3,
   "id": "52593977",
   "metadata": {},
   "outputs": [
    {
     "name": "stdout",
     "output_type": "stream",
     "text": [
      "[ 2  4  6  8 10]\n"
     ]
    }
   ],
   "source": [
    "# array addition using numpy arithematic operation\n",
    "a = np.array([1,2,3,4,5])\n",
    "b = np.array([1,2,3,4,5]) \n",
    "numpyadd = np.add(a,b) # We can also write numpyadd = a+b\n",
    "print(numpyadd)"
   ]
  },
  {
   "cell_type": "code",
   "execution_count": 4,
   "id": "17246d43",
   "metadata": {},
   "outputs": [
    {
     "name": "stdout",
     "output_type": "stream",
     "text": [
      "[0 0 0 0 0]\n"
     ]
    }
   ],
   "source": [
    "# array subtraction using numpy arithematic operation\n",
    "a = np.array([1,2,3,4,5])\n",
    "b = np.array([1,2,3,4,5]) \n",
    "numpysub = np.subtract(a,b)\n",
    "print(numpysub)"
   ]
  },
  {
   "cell_type": "code",
   "execution_count": 5,
   "id": "70b9cd09",
   "metadata": {},
   "outputs": [
    {
     "name": "stdout",
     "output_type": "stream",
     "text": [
      "[ 1  4  9 16 25]\n"
     ]
    }
   ],
   "source": [
    "# array multiplication using numpy arithematic operation\n",
    "a = np.array([1,2,3,4,5])\n",
    "b = np.array([1,2,3,4,5]) \n",
    "numpymul = np.multiply(a,b)\n",
    "print(numpymul)"
   ]
  },
  {
   "cell_type": "code",
   "execution_count": 6,
   "id": "cb3c0bbe",
   "metadata": {},
   "outputs": [
    {
     "name": "stdout",
     "output_type": "stream",
     "text": [
      "[1. 1. 1. 1. 1.]\n"
     ]
    }
   ],
   "source": [
    "# array division using numpy arithematic operation\n",
    "a = np.array([1,2,3,4,5])\n",
    "b = np.array([1,2,3,4,5]) \n",
    "numpydiv = np.divide(a,b)\n",
    "print(numpydiv)"
   ]
  },
  {
   "cell_type": "code",
   "execution_count": 10,
   "id": "7c8f47fc",
   "metadata": {},
   "outputs": [
    {
     "name": "stdout",
     "output_type": "stream",
     "text": [
      "[0 0 0 0 0]\n"
     ]
    }
   ],
   "source": [
    "# array mod using numpy arithematic operation\n",
    "a = np.array([1,2,3,4,5])\n",
    "b = np.array([1,2,3,4,5]) \n",
    "numpymod = np.mod(a,b)\n",
    "print(numpymod)"
   ]
  },
  {
   "cell_type": "code",
   "execution_count": 7,
   "id": "21deed7f",
   "metadata": {},
   "outputs": [
    {
     "name": "stdout",
     "output_type": "stream",
     "text": [
      "[   1    4   27  256 3125]\n"
     ]
    }
   ],
   "source": [
    "# array power using numpy arithematic operation\n",
    "a = np.array([1,2,3,4,5])\n",
    "b = np.array([1,2,3,4,5]) \n",
    "numpypow = np.power(a,b)\n",
    "print(numpypow)"
   ]
  },
  {
   "cell_type": "code",
   "execution_count": 13,
   "id": "d54d79b6",
   "metadata": {},
   "outputs": [
    {
     "name": "stdout",
     "output_type": "stream",
     "text": [
      "[1 0 0 0 0]\n"
     ]
    }
   ],
   "source": [
    "# array reciprocal using numpy arithematic operation\n",
    "a = np.array([1,2,3,4,5])\n",
    "b = np.array([1,2,3,4,5]) \n",
    "numpyrec = np.reciprocal(a,b)\n",
    "print(numpyrec)"
   ]
  },
  {
   "cell_type": "markdown",
   "id": "c381eec6",
   "metadata": {},
   "source": [
    "## NumPy Aggregation Operations"
   ]
  },
  {
   "cell_type": "code",
   "execution_count": 12,
   "id": "f832cafd",
   "metadata": {},
   "outputs": [],
   "source": [
    "# np.min(x)\n",
    "# np.max(x)\n",
    "# np.argmin(x)\n",
    "# np.argmax(x)\n",
    "# np.mean(x)\n",
    "# np.median(x)\n",
    "# np.sqrt(x)\n",
    "# np.sin(x)\n",
    "# np.cos(x)\n",
    "# np.cumsum(x)"
   ]
  },
  {
   "cell_type": "code",
   "execution_count": 13,
   "id": "7f793e5a",
   "metadata": {},
   "outputs": [
    {
     "name": "stdout",
     "output_type": "stream",
     "text": [
      "Minimum element : 1\n",
      "Index of minimum element : 0\n"
     ]
    }
   ],
   "source": [
    "# code to find the minimum element from the numpy array and its position in the array \n",
    "var = np.array([1,2,3,4,5])\n",
    "print(f\"Minimum element : {np.min(var)}\")\n",
    "print(f\"Index of minimum element : {np.argmin(var)}\")"
   ]
  },
  {
   "cell_type": "code",
   "execution_count": 14,
   "id": "2236d71e",
   "metadata": {},
   "outputs": [
    {
     "name": "stdout",
     "output_type": "stream",
     "text": [
      "Maximum element : 5\n",
      "Index of maximum element : 4\n"
     ]
    }
   ],
   "source": [
    "# code to find the maximum element from the numpy array and its position in the array \n",
    "var = np.array([1,2,3,4,5])\n",
    "print(f\"Maximum element : {np.max(var)}\")\n",
    "print(f\"Index of maximum element : {np.argmax(var)}\")"
   ]
  },
  {
   "cell_type": "code",
   "execution_count": 18,
   "id": "bf5c17da",
   "metadata": {},
   "outputs": [
    {
     "name": "stdout",
     "output_type": "stream",
     "text": [
      "Mean : 3.0\n"
     ]
    }
   ],
   "source": [
    "# code to find the mean of the array elements\n",
    "var = np.array([1,2,3,4,5])\n",
    "print(f\"Mean : {np.mean(var)}\")"
   ]
  },
  {
   "cell_type": "code",
   "execution_count": 19,
   "id": "09f8952a",
   "metadata": {},
   "outputs": [
    {
     "name": "stdout",
     "output_type": "stream",
     "text": [
      "Median : 3.0\n"
     ]
    }
   ],
   "source": [
    "# code to find the median of the array elements\n",
    "var = np.array([1,2,3,4,5])\n",
    "print(f\"Median : {np.median(var)}\")"
   ]
  },
  {
   "cell_type": "code",
   "execution_count": 15,
   "id": "ee84b057",
   "metadata": {},
   "outputs": [
    {
     "name": "stdout",
     "output_type": "stream",
     "text": [
      "Square root : [1.         1.41421356 1.73205081 2.         2.23606798]\n"
     ]
    }
   ],
   "source": [
    "var = np.array([1,2,3,4,5])\n",
    "print(f\"Square root : {np.sqrt(var)}\")"
   ]
  },
  {
   "cell_type": "code",
   "execution_count": 16,
   "id": "6dfbe0fa",
   "metadata": {},
   "outputs": [
    {
     "name": "stdout",
     "output_type": "stream",
     "text": [
      "Sin value : [ 0.84147098  0.90929743  0.14112001 -0.7568025  -0.95892427]\n"
     ]
    }
   ],
   "source": [
    "var = np.array([1,2,3,4,5])\n",
    "print(f\"Sin value : {np.sin(var)}\")"
   ]
  },
  {
   "cell_type": "code",
   "execution_count": 17,
   "id": "af63e59e",
   "metadata": {},
   "outputs": [
    {
     "name": "stdout",
     "output_type": "stream",
     "text": [
      "Cos value : [ 0.54030231 -0.41614684 -0.9899925  -0.65364362  0.28366219]\n"
     ]
    }
   ],
   "source": [
    "var = np.array([1,2,3,4,5])\n",
    "print(f\"Cos value : {np.cos(var)}\")"
   ]
  },
  {
   "cell_type": "markdown",
   "id": "18a8e485",
   "metadata": {},
   "source": [
    "## Shape and Reshaping in NumPy Arrays"
   ]
  },
  {
   "cell_type": "code",
   "execution_count": 8,
   "id": "f2ecc4c1",
   "metadata": {},
   "outputs": [
    {
     "name": "stdout",
     "output_type": "stream",
     "text": [
      "[[1 2 3 4 5]\n",
      " [1 2 3 4 5]]\n",
      "\n",
      "Shape of the array is : (2, 5)\n"
     ]
    }
   ],
   "source": [
    "var = np.array([[1,2,3,4,5],[1,2,3,4,5]])\n",
    "print(var)\n",
    "print()\n",
    "print(f\"Shape of the array is : {var.shape}\") # Returns the number of rows and columns of an array"
   ]
  },
  {
   "cell_type": "code",
   "execution_count": 8,
   "id": "f06f70ff",
   "metadata": {},
   "outputs": [
    {
     "name": "stdout",
     "output_type": "stream",
     "text": [
      "This is a 5D array\n",
      "[[[[[1 2 3 4 5]]]]]\n",
      "\n",
      "Shape of the array is : (1, 1, 1, 1, 5)\n"
     ]
    }
   ],
   "source": [
    "# how to create a multidimentional array\n",
    "var = np.array([1,2,3,4,5], ndmin = 5)\n",
    "print(f\"This is a {var.ndim}D array\")\n",
    "print(var)\n",
    "print()\n",
    "print(f\"Shape of the array is : {var.shape}\")"
   ]
  },
  {
   "cell_type": "code",
   "execution_count": 28,
   "id": "8beb9787",
   "metadata": {},
   "outputs": [
    {
     "name": "stdout",
     "output_type": "stream",
     "text": [
      "This is a 1D array\n",
      "[1 2 3 4 5 6]\n",
      "\n",
      "This is a 2D array\n",
      "[[1 2]\n",
      " [3 4]\n",
      " [5 6]]\n",
      "\n",
      "This is a 2D array\n",
      "[[1 2 3]\n",
      " [4 5 6]]\n"
     ]
    }
   ],
   "source": [
    "# how to convert a 1d array to a 2d array\n",
    "var = np.array([1,2,3,4,5,6])\n",
    "print(f\"This is a {var.ndim}D array\")\n",
    "print(var)\n",
    "print()\n",
    "\n",
    "x = var.reshape(3,2)\n",
    "print(f\"This is a {x.ndim}D array\")\n",
    "print(x)\n",
    "print()\n",
    "\n",
    "y = var.reshape(2,3)\n",
    "print(f\"This is a {y.ndim}D array\")\n",
    "print(y)"
   ]
  },
  {
   "cell_type": "code",
   "execution_count": 13,
   "id": "7d22b9a0",
   "metadata": {},
   "outputs": [
    {
     "name": "stdout",
     "output_type": "stream",
     "text": [
      "This is a 1D array\n",
      "[ 1  2  3  4  5  6  7  8  9 10 11 12]\n",
      "\n",
      "This is a 3D array\n",
      "[[[ 1  2]\n",
      "  [ 3  4]\n",
      "  [ 5  6]]\n",
      "\n",
      " [[ 7  8]\n",
      "  [ 9 10]\n",
      "  [11 12]]]\n"
     ]
    }
   ],
   "source": [
    "# how to convert a 1d array to a 3d array\n",
    "var = np.array([1,2,3,4,5,6,7,8,9,10,11,12])\n",
    "print(f\"This is a {var.ndim}D array\")\n",
    "print(var)\n",
    "print()\n",
    "\n",
    "x = var.reshape(2,3,2)\n",
    "print(f\"This is a {x.ndim}D array\")\n",
    "print(x)"
   ]
  },
  {
   "cell_type": "code",
   "execution_count": 14,
   "id": "a4bc22ed",
   "metadata": {},
   "outputs": [
    {
     "name": "stdout",
     "output_type": "stream",
     "text": [
      "This is a 1D array\n",
      "[1 2 3 4 5 6]\n",
      "\n",
      "This is a 2D array\n",
      "[[1 2 3]\n",
      " [4 5 6]]\n",
      "\n",
      "This is a 1D array\n",
      "[1 2 3 4 5 6]\n"
     ]
    }
   ],
   "source": [
    "# how to convert a 2d array to a 1d array (Reverse process)\n",
    "var = np.array([1,2,3,4,5,6])\n",
    "print(f\"This is a {var.ndim}D array\")\n",
    "print(var)\n",
    "print()\n",
    "\n",
    "x = var.reshape(2,3)\n",
    "print(f\"This is a {x.ndim}D array\")\n",
    "print(x)\n",
    "print()\n",
    "\n",
    "y = x.reshape(-1)\n",
    "print(f\"This is a {y.ndim}D array\")\n",
    "print(y)"
   ]
  },
  {
   "cell_type": "code",
   "execution_count": 15,
   "id": "e72b01fe",
   "metadata": {},
   "outputs": [
    {
     "name": "stdout",
     "output_type": "stream",
     "text": [
      "This is a 1D array\n",
      "[ 1  2  3  4  5  6  7  8  9 10 11 12]\n",
      "\n",
      "This is a 3D array\n",
      "[[[ 1  2]\n",
      "  [ 3  4]\n",
      "  [ 5  6]]\n",
      "\n",
      " [[ 7  8]\n",
      "  [ 9 10]\n",
      "  [11 12]]]\n",
      "\n",
      "This is a 1D array\n",
      "[ 1  2  3  4  5  6  7  8  9 10 11 12]\n"
     ]
    }
   ],
   "source": [
    "# how to convert a 3d array to a 1d array (Reverse process)\n",
    "var = np.array([1,2,3,4,5,6,7,8,9,10,11,12])\n",
    "print(f\"This is a {var.ndim}D array\")\n",
    "print(var)\n",
    "print()\n",
    "\n",
    "x = var.reshape(2,3,2)\n",
    "print(f\"This is a {x.ndim}D array\")\n",
    "print(x)\n",
    "print()\n",
    "\n",
    "y = x.reshape(-1)\n",
    "print(f\"This is a {y.ndim}D array\")\n",
    "print(y)"
   ]
  },
  {
   "cell_type": "markdown",
   "id": "ea297e66",
   "metadata": {},
   "source": [
    "## Broadcasting In Numpy Arrays"
   ]
  },
  {
   "cell_type": "code",
   "execution_count": 26,
   "id": "caf203e9",
   "metadata": {},
   "outputs": [
    {
     "ename": "ValueError",
     "evalue": "operands could not be broadcast together with shapes (5,) (4,) ",
     "output_type": "error",
     "traceback": [
      "\u001b[1;31m---------------------------------------------------------------------------\u001b[0m",
      "\u001b[1;31mValueError\u001b[0m                                Traceback (most recent call last)",
      "Cell \u001b[1;32mIn[26], line 4\u001b[0m\n\u001b[0;32m      1\u001b[0m x \u001b[38;5;241m=\u001b[39m np\u001b[38;5;241m.\u001b[39marray([\u001b[38;5;241m1\u001b[39m,\u001b[38;5;241m2\u001b[39m,\u001b[38;5;241m3\u001b[39m,\u001b[38;5;241m4\u001b[39m,\u001b[38;5;241m5\u001b[39m])\n\u001b[0;32m      2\u001b[0m y \u001b[38;5;241m=\u001b[39m np\u001b[38;5;241m.\u001b[39marray([\u001b[38;5;241m1\u001b[39m,\u001b[38;5;241m2\u001b[39m,\u001b[38;5;241m3\u001b[39m,\u001b[38;5;241m4\u001b[39m])\n\u001b[1;32m----> 4\u001b[0m \u001b[38;5;28mprint\u001b[39m(\u001b[43mx\u001b[49m\u001b[38;5;241;43m+\u001b[39;49m\u001b[43my\u001b[49m)\n",
      "\u001b[1;31mValueError\u001b[0m: operands could not be broadcast together with shapes (5,) (4,) "
     ]
    }
   ],
   "source": [
    "x = np.array([1,2,3,4,5])\n",
    "y = np.array([1,2,3,4])\n",
    "\n",
    "print(x+y)"
   ]
  },
  {
   "cell_type": "code",
   "execution_count": 27,
   "id": "da7f6d67",
   "metadata": {},
   "outputs": [
    {
     "name": "stdout",
     "output_type": "stream",
     "text": [
      "[ 2  4  6  8 10]\n"
     ]
    }
   ],
   "source": [
    "x = np.array([1,2,3,4,5])\n",
    "y = np.array([1,2,3,4,5])\n",
    "\n",
    "print(x+y)"
   ]
  },
  {
   "cell_type": "code",
   "execution_count": 20,
   "id": "637961f6",
   "metadata": {
    "scrolled": true
   },
   "outputs": [
    {
     "name": "stdout",
     "output_type": "stream",
     "text": [
      "Shape of the array is : (5,)\n",
      "[1 2 3 4 5]\n",
      "\n",
      "Shape of the array is : (5, 1)\n",
      "[[1]\n",
      " [2]\n",
      " [3]\n",
      " [4]\n",
      " [5]]\n",
      "\n",
      "Shape of the array is : (5, 5)\n",
      "[[ 2  3  4  5  6]\n",
      " [ 3  4  5  6  7]\n",
      " [ 4  5  6  7  8]\n",
      " [ 5  6  7  8  9]\n",
      " [ 6  7  8  9 10]]\n"
     ]
    }
   ],
   "source": [
    "x = np.array([1,2,3,4,5])\n",
    "print(f\"Shape of the array is : {x.shape}\")\n",
    "print(x)\n",
    "print()\n",
    "\n",
    "y = np.array([[1],[2],[3],[4],[5]])\n",
    "print(f\"Shape of the array is : {y.shape}\")\n",
    "print(y)\n",
    "print()\n",
    "\n",
    "z = x+y\n",
    "print(f\"Shape of the array is : {z.shape}\")\n",
    "print(z)"
   ]
  },
  {
   "cell_type": "code",
   "execution_count": 21,
   "id": "8845b8a7",
   "metadata": {},
   "outputs": [
    {
     "name": "stdout",
     "output_type": "stream",
     "text": [
      "Shape of the array is : (5,)\n",
      "[1 2 3 4 5]\n",
      "\n",
      "Shape of the array is : (5, 1)\n",
      "[[1]\n",
      " [2]\n",
      " [3]\n",
      " [4]\n",
      " [5]]\n",
      "\n",
      "Shape of the array is : (5, 5)\n",
      "[[ 2  3  4  5  6]\n",
      " [ 3  4  5  6  7]\n",
      " [ 4  5  6  7  8]\n",
      " [ 5  6  7  8  9]\n",
      " [ 6  7  8  9 10]]\n"
     ]
    }
   ],
   "source": [
    "x = np.array([1,2,3,4,5])\n",
    "print(f\"Shape of the array is : {x.shape}\")\n",
    "print(x)\n",
    "print()\n",
    "\n",
    "y = np.array([[1],[2],[3],[4],[5]])\n",
    "print(f\"Shape of the array is : {y.shape}\")\n",
    "print(y)\n",
    "print()\n",
    "\n",
    "z = np.add(x,y)\n",
    "print(f\"Shape of the array is : {z.shape}\")\n",
    "print(z)"
   ]
  },
  {
   "cell_type": "markdown",
   "id": "bfef6ec4",
   "metadata": {},
   "source": [
    "## Indexing In NumPy Arrays"
   ]
  },
  {
   "cell_type": "code",
   "execution_count": 16,
   "id": "0617e010",
   "metadata": {},
   "outputs": [
    {
     "name": "stdout",
     "output_type": "stream",
     "text": [
      "6\n",
      "6\n"
     ]
    }
   ],
   "source": [
    "# 1d Array\n",
    "# Indexing      \n",
    "# Array =             [ 9 , 8 , 7 , 6 , 5 ]\n",
    "# Positive Indexing =   0 , 1 , 2 , 3 , 4\n",
    "# Negative Indexing =  -5, -4, -3, -2, -1\n",
    "\n",
    "var = np.array([9,8,7,6,5])\n",
    "print(var[3])\n",
    "print(var[-2])"
   ]
  },
  {
   "cell_type": "code",
   "execution_count": 21,
   "id": "7908ddfd",
   "metadata": {},
   "outputs": [
    {
     "name": "stdout",
     "output_type": "stream",
     "text": [
      "This is a 2D array\n",
      "[[ 1  2  3  4  5]\n",
      " [ 6  7  8  9 10]]\n",
      "\n",
      "5\n",
      "10\n"
     ]
    }
   ],
   "source": [
    "# 2d Array\n",
    "var = np.array([[1,2,3,4,5],[6,7,8,9,10]])\n",
    "print(f\"This is a {var.ndim}D array\")\n",
    "print(var)\n",
    "print()\n",
    "print(var[0,4]) # We can use this notation for indexing in a 2d array\n",
    "print(var[1][4]) # we can also use this notation for indexing in a 2d array"
   ]
  },
  {
   "cell_type": "code",
   "execution_count": 37,
   "id": "ebcb175b",
   "metadata": {},
   "outputs": [
    {
     "name": "stdout",
     "output_type": "stream",
     "text": [
      "This is a 3D array\n",
      "[[[1 2]\n",
      "  [3 4]]\n",
      "\n",
      " [[5 6]\n",
      "  [7 8]]]\n",
      "\n",
      "2\n",
      "4\n",
      "6\n",
      "8\n"
     ]
    }
   ],
   "source": [
    "# 3d Array\n",
    "# var = np.array([1,2,3,4,5], ndmin = 3)\n",
    "var = np.array([[[1,2],[3,4]],[[5,6],[7,8]]])\n",
    "print(f\"This is a {var.ndim}D array\")\n",
    "print(var)\n",
    "print()\n",
    "print(var[0,0,1])\n",
    "print(var[0,1,1])\n",
    "print(var[1,0,1])\n",
    "print(var[1,1,1])"
   ]
  },
  {
   "cell_type": "markdown",
   "id": "54c20903",
   "metadata": {},
   "source": [
    "## Slicing In NumPy Arrays"
   ]
  },
  {
   "cell_type": "code",
   "execution_count": 52,
   "id": "616d65d6",
   "metadata": {},
   "outputs": [
    {
     "name": "stdout",
     "output_type": "stream",
     "text": [
      "[1 2 3 4 5]\n",
      "[2 3]\n",
      "[2 3 4 5]\n",
      "[1 2 3]\n",
      "[1 3 5]\n",
      "[1 3 5]\n",
      "[5 4 3 2 1]\n"
     ]
    }
   ],
   "source": [
    "var = np.array([1,2,3,4,5])\n",
    "print(var)\n",
    "print(var[1:3])\n",
    "print(var[1:])\n",
    "print(var[:3]) \n",
    "print(var[::2]) # print array by skipping 1 value or step\n",
    "print(var[0:5:2]) # print array by skipping 1 value\n",
    "print(var[::-1]) # print array reverse"
   ]
  },
  {
   "cell_type": "code",
   "execution_count": 67,
   "id": "2e1f2489",
   "metadata": {},
   "outputs": [
    {
     "name": "stdout",
     "output_type": "stream",
     "text": [
      "This is a 2D array\n",
      "[[ 1  2  3  4  5]\n",
      " [ 6  7  8  9 10]\n",
      " [11 12 13 14 15]]\n",
      "\n",
      "[2 3 4]\n",
      "\n",
      "[7 8 9]\n",
      "\n",
      "[12 13 14]\n"
     ]
    }
   ],
   "source": [
    "# Slicing in 2d array\n",
    "var = np.array([[1,2,3,4,5],[6,7,8,9,10],[11,12,13,14,15]])\n",
    "print(f\"This is a {var.ndim}D array\")\n",
    "print(var)\n",
    "print()\n",
    "print(var[0,1:4])\n",
    "print()\n",
    "print(var[1,1:4])\n",
    "print()\n",
    "print(var[2,1:4])"
   ]
  },
  {
   "cell_type": "markdown",
   "id": "ac83564a",
   "metadata": {},
   "source": [
    "## Iterating NumPy Arrays"
   ]
  },
  {
   "cell_type": "code",
   "execution_count": 81,
   "id": "22cabeb9",
   "metadata": {},
   "outputs": [
    {
     "name": "stdout",
     "output_type": "stream",
     "text": [
      "Printing values horizontally\n",
      "11 12 13 14 15 \n",
      "Printing values vertically\n",
      "11\n",
      "12\n",
      "13\n",
      "14\n",
      "15\n"
     ]
    }
   ],
   "source": [
    "# Iteration of 1d array\n",
    "var = np.array([11,12,13,14,15])\n",
    "print(\"Printing values horizontally\")\n",
    "for i in var:\n",
    "    print(i,end=\" \")\n",
    "    \n",
    "print()\n",
    "print(\"Printing values vertically\")\n",
    "for i in range(0,5):\n",
    "    print(var[i])"
   ]
  },
  {
   "cell_type": "code",
   "execution_count": 91,
   "id": "553603f6",
   "metadata": {},
   "outputs": [
    {
     "name": "stdout",
     "output_type": "stream",
     "text": [
      "[[ 1  2  3  4  5]\n",
      " [ 6  7  8  9 10]]\n",
      "\n",
      "1 2 3 4 5 \n",
      "6 7 8 9 10 \n"
     ]
    }
   ],
   "source": [
    "# Iteration of 2d array\n",
    "var = np.array([[1,2,3,4,5],[6,7,8,9,10]])\n",
    "print(var)\n",
    "print()\n",
    "\n",
    "for i in var:\n",
    "    for j in i:\n",
    "        print(j, end = \" \")\n",
    "    print()"
   ]
  },
  {
   "cell_type": "code",
   "execution_count": 96,
   "id": "c4e37922",
   "metadata": {},
   "outputs": [
    {
     "name": "stdout",
     "output_type": "stream",
     "text": [
      "[[[1 2]\n",
      "  [3 4]]\n",
      "\n",
      " [[5 6]\n",
      "  [7 8]]]\n",
      "\n",
      "1 2 \n",
      "3 4 \n",
      "5 6 \n",
      "7 8 \n"
     ]
    }
   ],
   "source": [
    "# Iteration of 3d array\n",
    "# var = np.array([[[1,2,3,4,5],[6,7,8,9,10]]])\n",
    "var = np.array([[[1,2],[3,4]],[[5,6],[7,8]]])\n",
    "print(var)\n",
    "print()\n",
    "\n",
    "for i in var:\n",
    "    for j in i:\n",
    "        for k in j:\n",
    "            print(k, end = \" \")\n",
    "        print()"
   ]
  },
  {
   "cell_type": "code",
   "execution_count": 101,
   "id": "f0c6d724",
   "metadata": {},
   "outputs": [
    {
     "name": "stdout",
     "output_type": "stream",
     "text": [
      "1\n",
      "2\n",
      "3\n",
      "4\n",
      "5\n",
      "6\n",
      "7\n",
      "8\n",
      "9\n",
      "10\n"
     ]
    }
   ],
   "source": [
    "# Using numpy's inbuilt function (nditer) for iteration \n",
    "var = np.array([[[1,2,3,4,5],[6,7,8,9,10]]])\n",
    "for i in np.nditer(var):\n",
    "    print(i)"
   ]
  },
  {
   "cell_type": "code",
   "execution_count": 103,
   "id": "1cb9274a",
   "metadata": {},
   "outputs": [
    {
     "name": "stdout",
     "output_type": "stream",
     "text": [
      "(0, 0, 0) 1\n",
      "(0, 0, 1) 2\n",
      "(0, 0, 2) 3\n",
      "(0, 0, 3) 4\n",
      "(0, 0, 4) 5\n",
      "(0, 1, 0) 6\n",
      "(0, 1, 1) 7\n",
      "(0, 1, 2) 8\n",
      "(0, 1, 3) 9\n",
      "(0, 1, 4) 10\n"
     ]
    }
   ],
   "source": [
    "# Printing values with index using numpy's inbuilt function\n",
    "var = np.array([[[1,2,3,4,5],[6,7,8,9,10]]])\n",
    "for i,d in np.ndenumerate(var):\n",
    "    print(i,d)"
   ]
  },
  {
   "cell_type": "code",
   "execution_count": null,
   "id": "e792b8ff",
   "metadata": {},
   "outputs": [],
   "source": []
  }
 ],
 "metadata": {
  "kernelspec": {
   "display_name": "Python 3 (ipykernel)",
   "language": "python",
   "name": "python3"
  },
  "language_info": {
   "codemirror_mode": {
    "name": "ipython",
    "version": 3
   },
   "file_extension": ".py",
   "mimetype": "text/x-python",
   "name": "python",
   "nbconvert_exporter": "python",
   "pygments_lexer": "ipython3",
   "version": "3.10.9"
  }
 },
 "nbformat": 4,
 "nbformat_minor": 5
}
