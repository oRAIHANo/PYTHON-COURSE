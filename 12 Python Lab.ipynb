{
 "cells": [
  {
   "cell_type": "markdown",
   "id": "0ad63c5b",
   "metadata": {},
   "source": [
    "## UNIT 1"
   ]
  },
  {
   "cell_type": "markdown",
   "id": "ce1c1d00",
   "metadata": {},
   "source": [
    "## ASSIGNMENT - A User Input"
   ]
  },
  {
   "cell_type": "markdown",
   "id": "c8dc1e18",
   "metadata": {},
   "source": [
    "### 1) Any number is input through keyboard. WAP to find it is an odd or an eve number."
   ]
  },
  {
   "cell_type": "code",
   "execution_count": 3,
   "id": "029b17de",
   "metadata": {},
   "outputs": [
    {
     "name": "stdout",
     "output_type": "stream",
     "text": [
      "Enter a number : 4\n",
      "Entered number is even\n"
     ]
    }
   ],
   "source": [
    "a = int(input(\"Enter a number : \"))\n",
    "if a%2==0:\n",
    "    print(\"Entered number is even\")\n",
    "else:\n",
    "    print(\"Entered number is odd\")"
   ]
  },
  {
   "cell_type": "markdown",
   "id": "27e2d88d",
   "metadata": {},
   "source": [
    "### 2) WAP to check if the year is a leap year."
   ]
  },
  {
   "cell_type": "code",
   "execution_count": 3,
   "id": "e644c2e6",
   "metadata": {},
   "outputs": [
    {
     "name": "stdout",
     "output_type": "stream",
     "text": [
      "Enter a year : 2040\n",
      "Entered year is a leap year\n"
     ]
    }
   ],
   "source": [
    "year = int(input(\"Enter a year : \"))\n",
    "if (year%400==0) and (year%100==0):\n",
    "    print(\"Enteredyear is a leap year\")\n",
    "elif (year%4==0) and (year%100!=0):\n",
    "    print(\"Entered year is a leap year\")\n",
    "else:\n",
    "    print(\"Entered year is not a leap year\")"
   ]
  },
  {
   "cell_type": "markdown",
   "id": "065fb05b",
   "metadata": {},
   "source": [
    "### 3) WAP to check if a triangle is valid or not. When the three angle is entered through keyboard."
   ]
  },
  {
   "cell_type": "code",
   "execution_count": 3,
   "id": "8490496b",
   "metadata": {},
   "outputs": [
    {
     "name": "stdout",
     "output_type": "stream",
     "text": [
      "Enter the first angle : 60\n",
      "Enter the second angle : 60\n",
      "Enter the third angle : 60\n",
      "Triangle is valid\n"
     ]
    }
   ],
   "source": [
    "angle1 = int(input(\"Enter the first angle : \"))\n",
    "angle2 = int(input(\"Enter the second angle : \"))\n",
    "angle3 = int(input(\"Enter the third angle : \"))\n",
    "sum_of_angle = angle1 + angle2 + angle3\n",
    "if (sum_of_angle == 180):\n",
    "    print(\"Triangle is valid\")\n",
    "else:\n",
    "    print(\"Triangle is not valid\")"
   ]
  },
  {
   "cell_type": "markdown",
   "id": "8ebffb3f",
   "metadata": {},
   "source": [
    "### 4) WAP to find absolute value of a number entered through the keyboard."
   ]
  },
  {
   "cell_type": "code",
   "execution_count": 5,
   "id": "0e45f3cd",
   "metadata": {},
   "outputs": [
    {
     "name": "stdout",
     "output_type": "stream",
     "text": [
      "Enter a number : -500\n",
      "Absolute value -500 is 500\n"
     ]
    }
   ],
   "source": [
    "a = int(input(\"Enter a number : \"))\n",
    "print(f\"Absolute value {a} is {abs(a)}\")"
   ]
  },
  {
   "cell_type": "markdown",
   "id": "bf6b3e26",
   "metadata": {},
   "source": [
    "### 5) Calculate the area of the Circle. "
   ]
  },
  {
   "cell_type": "code",
   "execution_count": 5,
   "id": "6981c19f",
   "metadata": {},
   "outputs": [
    {
     "name": "stdout",
     "output_type": "stream",
     "text": [
      "Enter the radius : 5\n",
      "Area of circle is 78.5\n",
      "Enter the length : 10\n",
      "Enter the breadth : 5\n",
      "Area of rectangle is 50\n"
     ]
    }
   ],
   "source": [
    "def circle():\n",
    "    pi = 3.14\n",
    "    radius = int(input(\"Enter the radius : \"))\n",
    "    area = pi*(radius**2)\n",
    "    print(f\"Area of circle is {area}\")\n",
    "\n",
    "def rectangle(): \n",
    "    l = int(input(\"Enter the length : \"))\n",
    "    b = int(input(\"Enter the breadth : \"))\n",
    "    area = l*b\n",
    "    print(f\"Area of rectangle is {area}\")\n",
    "    \n",
    "circle()\n",
    "rectangle()"
   ]
  },
  {
   "cell_type": "markdown",
   "id": "2bd9c838",
   "metadata": {},
   "source": [
    "## ASSIGNMENT - B Loops"
   ]
  },
  {
   "cell_type": "markdown",
   "id": "b142e5b0",
   "metadata": {},
   "source": [
    "### 6) WAP that recieves 3 sets of p, n, r and calculates the simple interest."
   ]
  },
  {
   "cell_type": "code",
   "execution_count": 41,
   "id": "56dc0070",
   "metadata": {},
   "outputs": [
    {
     "name": "stdout",
     "output_type": "stream",
     "text": [
      "Enter p : 2000\n",
      "Enter n : 3\n",
      "Enter r : 23\n",
      "Simple interest for 1 set of values : 1380.0\n",
      "Enter p : 3000\n",
      "Enter n : 2\n",
      "Enter r : 12\n",
      "Simple interest for 2 set of values : 720.0\n",
      "Enter p : 5000\n",
      "Enter n : 4\n",
      "Enter r : 20\n",
      "Simple interest for 3 set of values : 4000.0\n"
     ]
    }
   ],
   "source": [
    "i = 1\n",
    "while(i<=3):\n",
    "    p = int(input(\"Enter p : \"))\n",
    "    n = int(input(\"Enter n : \"))\n",
    "    r = int(input(\"Enter r : \"))\n",
    "    si=(p*n*r)/100;\n",
    "    print(f\"Simple interest for {i} set of values : {si}\")\n",
    "    i = i + 1"
   ]
  },
  {
   "cell_type": "markdown",
   "id": "18296552",
   "metadata": {},
   "source": [
    "### 7) WAP that prints the number from 1 to 10 all on the same line."
   ]
  },
  {
   "cell_type": "code",
   "execution_count": 37,
   "id": "65232ecd",
   "metadata": {},
   "outputs": [
    {
     "name": "stdout",
     "output_type": "stream",
     "text": [
      "1 2 3 4 5 6 7 8 9 10 "
     ]
    }
   ],
   "source": [
    "for i in range(1,11):\n",
    "    print(i, end= \" \")"
   ]
  },
  {
   "cell_type": "markdown",
   "id": "1140e007",
   "metadata": {},
   "source": [
    "### 8) WAP to calculate the factorial of any number."
   ]
  },
  {
   "cell_type": "code",
   "execution_count": 34,
   "id": "d6d3d964",
   "metadata": {},
   "outputs": [
    {
     "name": "stdout",
     "output_type": "stream",
     "text": [
      "Enter a number : 5\n",
      "Factorial of 5 is 120\n"
     ]
    }
   ],
   "source": [
    "num = int(input(\"Enter a number : \"))\n",
    "factorial = 1\n",
    "if (num==1 or num==0):\n",
    "    print(f\"Factorial of {num} is {1}\")\n",
    "else:\n",
    "    for i in range(1,num+1):\n",
    "        factorial = factorial*i\n",
    "    print(f\"Factorial of {num} is {factorial}\")"
   ]
  },
  {
   "cell_type": "markdown",
   "id": "daf819d5",
   "metadata": {},
   "source": [
    "### 9) WAP to print the prime number from 1 to 300. "
   ]
  },
  {
   "cell_type": "code",
   "execution_count": 17,
   "id": "08b7e486",
   "metadata": {},
   "outputs": [
    {
     "name": "stdout",
     "output_type": "stream",
     "text": [
      "Prime numbers from 1 to 300:\n",
      "2 3 5 7 11 13 17 19 23 29 31 37 41 43 47 53 59 61 67 71 73 79 83 89 97 101 103 107 109 113 127 131 137 139 149 151 157 163 167 173 179 181 191 193 197 199 211 223 227 229 233 239 241 251 257 263 269 271 277 281 283 293 "
     ]
    }
   ],
   "source": [
    "def is_prime(n):\n",
    "    if n <= 1:\n",
    "        return False\n",
    "    if n == 2:\n",
    "        return True\n",
    "    if n % 2 == 0:\n",
    "        return False\n",
    "    i = 3\n",
    "    while i * i <= n:\n",
    "        if n % i == 0:\n",
    "            return False\n",
    "        i += 2\n",
    "    return True\n",
    "\n",
    "print(\"Prime numbers from 1 to 300:\")\n",
    "for num in range(1, 301):\n",
    "    if is_prime(num):\n",
    "        print(num, end=\" \")        "
   ]
  },
  {
   "cell_type": "markdown",
   "id": "55233e7e",
   "metadata": {},
   "source": [
    "### 10) WAP to print the multiplication table of any number entered by the user"
   ]
  },
  {
   "cell_type": "code",
   "execution_count": 12,
   "id": "9edc48bd",
   "metadata": {},
   "outputs": [
    {
     "name": "stdout",
     "output_type": "stream",
     "text": [
      "Enter a number : 5\n",
      "1x5 = 5\n",
      "2x5 = 10\n",
      "3x5 = 15\n",
      "4x5 = 20\n",
      "5x5 = 25\n",
      "6x5 = 30\n",
      "7x5 = 35\n",
      "8x5 = 40\n",
      "9x5 = 45\n",
      "10x5 = 50\n"
     ]
    }
   ],
   "source": [
    "num = int(input(\"Enter a number : \"))\n",
    "i = 1\n",
    "while(i<=10):\n",
    "    print(f\"{num}x{i} = {i*num}\")\n",
    "    i = i + 1"
   ]
  },
  {
   "cell_type": "code",
   "execution_count": 13,
   "id": "d6cb75e6",
   "metadata": {},
   "outputs": [
    {
     "name": "stdout",
     "output_type": "stream",
     "text": [
      "Enter a number : 5\n",
      "1x5 = 5\n",
      "2x5 = 10\n",
      "3x5 = 15\n",
      "4x5 = 20\n",
      "5x5 = 25\n",
      "6x5 = 30\n",
      "7x5 = 35\n",
      "8x5 = 40\n",
      "9x5 = 45\n",
      "10x5 = 50\n"
     ]
    }
   ],
   "source": [
    "num = int(input(\"Enter a number : \"))\n",
    "for i in range(1,11):\n",
    "    print(f\"{num}x{i} = {i*num}\")"
   ]
  },
  {
   "cell_type": "markdown",
   "id": "7c235c82",
   "metadata": {},
   "source": [
    "### 11) Calculate the salary of the person by asking various salary components like DA, HRA, TA"
   ]
  },
  {
   "cell_type": "code",
   "execution_count": 9,
   "id": "785f0c56",
   "metadata": {},
   "outputs": [
    {
     "name": "stdout",
     "output_type": "stream",
     "text": [
      "Enter basic salary of the employee : 50000\n",
      "Daily allowance of the employee is : 12500.0\n",
      "House rent allowance of the employee is : 7500.0\n",
      "Travelling allowance of the employee is : 2500.0\n",
      "Gross salary of the employee is : 72500.0\n"
     ]
    }
   ],
   "source": [
    "def gross_salary():\n",
    "    basic_salary = float(input(\"Enter basic salary of the employee : \"))\n",
    "    DA = basic_salary*(25/100)\n",
    "    print(f\"Daily allowance of the employee is : {DA}\")\n",
    "    HRA = basic_salary*(15/100)\n",
    "    print(f\"House rent allowance of the employee is : {HRA}\")\n",
    "    TA = basic_salary*(5/100)\n",
    "    print(f\"Travelling allowance of the employee is : {TA}\")\n",
    "    gross_salary = basic_salary + DA + HRA + TA\n",
    "    print(f\"Gross salary of the employee is : {gross_salary}\")\n",
    "    \n",
    "gross_salary()"
   ]
  },
  {
   "cell_type": "markdown",
   "id": "e5b5d95a",
   "metadata": {},
   "source": [
    "## ASSIGNMENT - C Functions"
   ]
  },
  {
   "cell_type": "markdown",
   "id": "83905168",
   "metadata": {},
   "source": [
    "### 12) WAP to input three integers from the keyboard and get their sum and product calculated"
   ]
  },
  {
   "cell_type": "code",
   "execution_count": 11,
   "id": "49d5107a",
   "metadata": {},
   "outputs": [
    {
     "name": "stdout",
     "output_type": "stream",
     "text": [
      "Enter the 1st number : 5\n",
      "Enter the 2nd number : 10\n",
      "Enter the 2rd number : 15\n",
      "Sum of three integers is : 30\n",
      "Product of three integers is : 750\n"
     ]
    }
   ],
   "source": [
    "def userinput():\n",
    "    a = int(input(\"Enter the 1st number : \"))\n",
    "    b = int(input(\"Enter the 2nd number : \"))\n",
    "    c = int(input(\"Enter the 2rd number : \"))\n",
    "    return a, b, c\n",
    "\n",
    "def calculate_sum(a, b, c):\n",
    "    Sum = a + b + c\n",
    "    print(f\"Sum of three integers is : {Sum}\")\n",
    "\n",
    "def calculate_product(a, b, c):\n",
    "    Product = a * b * c\n",
    "    print(f\"Product of three integers is : {Product}\")\n",
    "\n",
    "integers = userinput()\n",
    "calculate_sum(*integers)\n",
    "calculate_product(*integers)"
   ]
  },
  {
   "cell_type": "markdown",
   "id": "207b1f8c",
   "metadata": {},
   "source": [
    "### 13) Define a function leap and implement it"
   ]
  },
  {
   "cell_type": "code",
   "execution_count": 4,
   "id": "6bed9422",
   "metadata": {},
   "outputs": [
    {
     "name": "stdout",
     "output_type": "stream",
     "text": [
      "Enter a year : 2040\n",
      "Entered year is a leap year\n"
     ]
    }
   ],
   "source": [
    "def leap():\n",
    "    year = int(input(\"Enter a year : \"))\n",
    "    if (year%400==0) and (year%100==0):\n",
    "        print(\"Enteredyear is a leap year\")\n",
    "    elif (year%4==0) and (year%100!=0):\n",
    "        print(\"Entered year is a leap year\")\n",
    "    else:\n",
    "        print(\"Entered year is not a leap year\")\n",
    "\n",
    "leap()"
   ]
  },
  {
   "cell_type": "markdown",
   "id": "d9b7ef7d",
   "metadata": {},
   "source": [
    "### 14) WAP to calculate the largest among the three numbers"
   ]
  },
  {
   "cell_type": "code",
   "execution_count": 18,
   "id": "29cf6695",
   "metadata": {},
   "outputs": [
    {
     "name": "stdout",
     "output_type": "stream",
     "text": [
      "Enter the 1st number : 5\n",
      "Enter the 2nd number : 4\n",
      "Enter the 2rd number : 10\n",
      "10 is the largest number\n"
     ]
    }
   ],
   "source": [
    "def largest():\n",
    "    a = int(input(\"Enter the 1st number : \"))\n",
    "    b = int(input(\"Enter the 2nd number : \"))\n",
    "    c = int(input(\"Enter the 2rd number : \"))\n",
    "    if a>b and a>c:\n",
    "        print(f\"{a} is the largest number\")\n",
    "    elif b>a and b>c:\n",
    "        print(f\"{b} is the largest number\")\n",
    "    else:\n",
    "        print(f\"{c} is the largest number\")\n",
    "\n",
    "largest()       "
   ]
  },
  {
   "cell_type": "markdown",
   "id": "55078d90",
   "metadata": {},
   "source": [
    "### 15) WAP to calculate the LCM of few numbers"
   ]
  },
  {
   "cell_type": "code",
   "execution_count": 4,
   "id": "e975da66",
   "metadata": {},
   "outputs": [
    {
     "name": "stdout",
     "output_type": "stream",
     "text": [
      "Enter 1st number : 5\n",
      "Enter 2nd number : 6\n",
      "LCM : 30\n"
     ]
    }
   ],
   "source": [
    "def lcm():\n",
    "    x = int(input(\"Enter 1st number : \"))\n",
    "    y = int(input(\"Enter 2nd number : \"))\n",
    "    \n",
    "    if x>y:\n",
    "        g=x\n",
    "    else:\n",
    "        g=y\n",
    "    while(1):\n",
    "        if (g%x==0) and (g%y==0):\n",
    "            lcm = g\n",
    "            break\n",
    "        g+=1\n",
    "    print(f\"LCM : {g}\")\n",
    "\n",
    "lcm()"
   ]
  },
  {
   "cell_type": "markdown",
   "id": "2ab2b709",
   "metadata": {},
   "source": [
    "### 16) WAP to check if the number is odd or even"
   ]
  },
  {
   "cell_type": "code",
   "execution_count": 19,
   "id": "834c90f4",
   "metadata": {},
   "outputs": [
    {
     "name": "stdout",
     "output_type": "stream",
     "text": [
      "Enter a number : 5\n",
      "Entered number is odd\n"
     ]
    }
   ],
   "source": [
    "def oddeven():\n",
    "    a = int(input(\"Enter a number : \"))\n",
    "    if a%2==0:\n",
    "        print(\"Entered number is even\")\n",
    "    else:\n",
    "        print(\"Entered number is odd\")\n",
    "        \n",
    "oddeven()"
   ]
  },
  {
   "cell_type": "markdown",
   "id": "eb501754",
   "metadata": {},
   "source": [
    "## ASSIGNMENT - D Recursion"
   ]
  },
  {
   "cell_type": "markdown",
   "id": "f6a2c69c",
   "metadata": {},
   "source": [
    "### 17) WAP a recursive function for factorial"
   ]
  },
  {
   "cell_type": "code",
   "execution_count": 3,
   "id": "e3ef6249",
   "metadata": {},
   "outputs": [
    {
     "name": "stdout",
     "output_type": "stream",
     "text": [
      "Enter the number : 5\n",
      "Factorial of 5 is 120\n"
     ]
    }
   ],
   "source": [
    "def factorial(n):\n",
    "    if n==0:\n",
    "        return 1\n",
    "    else:\n",
    "        return n * factorial(n-1)\n",
    "    \n",
    "num = int(input(\"Enter the number : \")) \n",
    "f = factorial(num)\n",
    "print(f\"Factorial of {num} is {f}\")"
   ]
  },
  {
   "cell_type": "markdown",
   "id": "5e0fb122",
   "metadata": {},
   "source": [
    "### 18) Practice use of global variables"
   ]
  },
  {
   "cell_type": "code",
   "execution_count": 6,
   "id": "3ad080c3",
   "metadata": {},
   "outputs": [
    {
     "name": "stdout",
     "output_type": "stream",
     "text": [
      "Value of 3.14 before updation\n",
      "Perimeter of Circle is :  31.400000000000002\n",
      "Area of Circle is :  78.5\n",
      "Value of 3.14159 after updation\n"
     ]
    }
   ],
   "source": [
    "PI = 3.14\n",
    "print(f\"Value of {PI} before updation\")\n",
    "\n",
    "def perimeter(r):\n",
    "    return 2*PI*r\n",
    "\n",
    "def area(r):\n",
    "    return PI*r*r\n",
    "\n",
    "def updatePI():\n",
    "    global PI\n",
    "    PI = 3.14159\n",
    "    print(f\"Value of {PI} after updation\")\n",
    "\n",
    "per = perimeter(5)\n",
    "print(\"Perimeter of Circle is : \", per)\n",
    "area = area(5)\n",
    "print(f\"Area of Circle is : \", area)\n",
    "updatePI()"
   ]
  },
  {
   "cell_type": "markdown",
   "id": "fed18e03",
   "metadata": {},
   "source": [
    "### 19) Apply recursion in one more problem fibonacci series"
   ]
  },
  {
   "cell_type": "code",
   "execution_count": 9,
   "id": "7e0ed41c",
   "metadata": {},
   "outputs": [
    {
     "name": "stdout",
     "output_type": "stream",
     "text": [
      "0\n",
      "1\n",
      "1\n",
      "2\n",
      "3\n",
      "5\n",
      "8\n",
      "13\n",
      "21\n"
     ]
    }
   ],
   "source": [
    "def fibonacci(n):\n",
    "    if n==0:\n",
    "        return 0\n",
    "    elif n==1:\n",
    "        return 1\n",
    "    else:\n",
    "        return fibonacci(n-1) + fibonacci(n-2)\n",
    "    \n",
    "def printfibonacci(n):\n",
    "    for i in range(0, n+1):\n",
    "        print(fibonacci(i))\n",
    "\n",
    "printfibonacci(8)"
   ]
  },
  {
   "cell_type": "markdown",
   "id": "489614db",
   "metadata": {},
   "source": [
    "## ASSIGNMENT E"
   ]
  },
  {
   "cell_type": "markdown",
   "id": "ea3f8748",
   "metadata": {},
   "source": [
    "### 20) WAP to print the digit at one's place of a number"
   ]
  },
  {
   "cell_type": "code",
   "execution_count": 7,
   "id": "746e860b",
   "metadata": {},
   "outputs": [
    {
     "name": "stdout",
     "output_type": "stream",
     "text": [
      "Enter a number: 3452786\n",
      "\n",
      " The digit at one's place of 3452786 is 6\n"
     ]
    }
   ],
   "source": [
    "n=int(input(\"Enter a number: \"))\n",
    "d=n%10\n",
    "print(\"\\n The digit at one's place of\",n,\"is\",d)"
   ]
  },
  {
   "cell_type": "markdown",
   "id": "31d8128b",
   "metadata": {},
   "source": [
    "### 21) WAP to calculate the bill amount for an item given in quantity sold, value, discout and tax (use default argument function, with default value of discount and tax)"
   ]
  },
  {
   "cell_type": "code",
   "execution_count": 13,
   "id": "29b11110",
   "metadata": {},
   "outputs": [
    {
     "name": "stdout",
     "output_type": "stream",
     "text": [
      "Enter quantity of the item : 5\n",
      "Enter value of the item : 100\n",
      "Total amount payable after discount is : 525.0\n",
      "Enter quantity of the item : 5\n",
      "Enter value of the item : 100\n",
      "Total amount payable after discount is : 500.0\n"
     ]
    }
   ],
   "source": [
    "def bill(discount = 0.15, tax = 0.2):\n",
    "    quantity = int(input(\"Enter quantity of the item : \"))\n",
    "    value = int(input(\"Enter value of the item : \"))\n",
    "    total_amount = quantity*value\n",
    "    bill_amount = (total_amount) - (total_amount*discount) + (total_amount*tax)\n",
    "    print(f\"Total amount payable after discount is : {bill_amount}\")\n",
    "\n",
    "bill()\n",
    "bill(0.5,0.5)"
   ]
  },
  {
   "cell_type": "markdown",
   "id": "63665f2d",
   "metadata": {},
   "source": [
    "### 22) WAP to calculate students results based on two examination, one sports event and three activities conducted. The weightage of activites = 30%, sports = 20% and examination = 50%"
   ]
  },
  {
   "cell_type": "code",
   "execution_count": 18,
   "id": "d6665fac",
   "metadata": {},
   "outputs": [
    {
     "name": "stdout",
     "output_type": "stream",
     "text": [
      "Enter score for exam 1: 50\n",
      "Enter score for exam 2: 60\n",
      "Enter score for sports event: 70\n",
      "Enter score for activity 1: 80\n",
      "Enter score for activity 2: 75\n",
      "Enter score for activity 3: 60\n",
      "Total Result: 63.0\n"
     ]
    }
   ],
   "source": [
    "def calculate_result(exam1_score, exam2_score, sports_score, activity_scores):\n",
    "    # Calculate weighted scores\n",
    "    exam_weight = 0.5\n",
    "    sports_weight = 0.2\n",
    "    activity_weight = 0.3\n",
    "\n",
    "    total_activity_score = sum(activity_scores)\n",
    "    \n",
    "    weighted_exam_score = (exam1_score + exam2_score) / 2 * exam_weight\n",
    "    weighted_sports_score = sports_score * sports_weight\n",
    "    weighted_activity_score = total_activity_score / len(activity_scores) * activity_weight\n",
    "    \n",
    "    total_score = weighted_exam_score + weighted_sports_score + weighted_activity_score\n",
    "    return total_score\n",
    "\n",
    "def main():\n",
    "    # Input scores\n",
    "    exam1_score = float(input(\"Enter score for exam 1: \"))\n",
    "    exam2_score = float(input(\"Enter score for exam 2: \"))\n",
    "    sports_score = float(input(\"Enter score for sports event: \"))\n",
    "    \n",
    "    activity_scores = []\n",
    "    for i in range(3):\n",
    "        score = float(input(f\"Enter score for activity {i+1}: \"))\n",
    "        activity_scores.append(score)\n",
    "\n",
    "    # Calculate result\n",
    "    result = calculate_result(exam1_score, exam2_score, sports_score, activity_scores)\n",
    "    print(\"Total Result:\", result)\n",
    "\n",
    "if __name__ == \"__main__\":\n",
    "    main()"
   ]
  },
  {
   "cell_type": "markdown",
   "id": "6a5aca2f",
   "metadata": {},
   "source": [
    "### 23) WAP to print the ASCII value of character (ord('a'), char(65))"
   ]
  },
  {
   "cell_type": "code",
   "execution_count": 18,
   "id": "ff5026fe",
   "metadata": {},
   "outputs": [
    {
     "name": "stdout",
     "output_type": "stream",
     "text": [
      "The ASCII value of 'a' is : 97\n",
      "The character for ASCII value 65 is : A\n"
     ]
    }
   ],
   "source": [
    "# Print ASCII value of a character\n",
    "alphabet = 'a'\n",
    "ascii_value = ord(alphabet)\n",
    "print(f\"The ASCII value of '{alphabet}' is : {ascii_value}\")\n",
    "\n",
    "# Print character from ASCII value\n",
    "number = 65\n",
    "ascii_value = chr(number)\n",
    "print(f\"The character for ASCII value {number} is : {ascii_value}\")"
   ]
  },
  {
   "cell_type": "markdown",
   "id": "ed24e1e7",
   "metadata": {},
   "source": [
    "### 24) WAP to read a character in uppercase and then print it in lowercase using lower() and upper() string methods"
   ]
  },
  {
   "cell_type": "code",
   "execution_count": 22,
   "id": "a319eb2f",
   "metadata": {},
   "outputs": [
    {
     "name": "stdout",
     "output_type": "stream",
     "text": [
      "Enter a character in upper case (ie K) : R\n",
      "Character in lower case :  r\n"
     ]
    }
   ],
   "source": [
    "character = input(\"Enter a character in upper case (ie K) : \")\n",
    "print(\"Character in lower case : \",character.lower())"
   ]
  },
  {
   "cell_type": "markdown",
   "id": "04cfb79e",
   "metadata": {},
   "source": [
    "### 25) Income Tax for individual is computer on slab rates as follows"
   ]
  },
  {
   "cell_type": "code",
   "execution_count": 1,
   "id": "870577fa",
   "metadata": {},
   "outputs": [
    {
     "name": "stdout",
     "output_type": "stream",
     "text": [
      "Enter your salary : 150000\n",
      "Salary of the user is : 150000\n",
      "Income Tax payable is 15000.0\n"
     ]
    }
   ],
   "source": [
    "def income_tax():\n",
    "    salary = int(input(\"Enter your salary : \"))\n",
    "    print(f\"Salary of the user is : {salary}\")\n",
    "    tax = 0\n",
    "    if (salary<=50000):\n",
    "        print(\"Incone Tax Payable is 0\");\n",
    "    elif (salary>50000 and salary<=60000):\n",
    "        tax = (salary-50000)*10/100\n",
    "        print(f\"Income Tax payable is {tax}\")\n",
    "    elif (salary>60000 and salary<=100000):\n",
    "        tax = (salary-60000)*20/100\n",
    "        print(f\"Income Tax payable is {tax}\")\n",
    "    elif (salary>100000):\n",
    "        tax = (salary-100000)*30/100\n",
    "        print(f\"Income Tax payable is {tax}\")\n",
    "    else:\n",
    "        print(\"Invalid Input\")\n",
    "\n",
    "income_tax()"
   ]
  },
  {
   "cell_type": "markdown",
   "id": "a75baefe",
   "metadata": {},
   "source": [
    "### 26) WAP to check a number entered is perfect or not"
   ]
  },
  {
   "cell_type": "code",
   "execution_count": 2,
   "id": "09a0e48e",
   "metadata": {},
   "outputs": [
    {
     "name": "stdout",
     "output_type": "stream",
     "text": [
      "Enter a number : 6\n",
      "6 is a perfect number\n"
     ]
    }
   ],
   "source": [
    "num = int(input(\"Enter a number : \"))\n",
    "sum = 0\n",
    "for i in range(1,num):\n",
    "    if num %i == 0:\n",
    "        sum += i\n",
    "        \n",
    "if sum == num:\n",
    "    print(f\"{num} is a perfect number\")\n",
    "else:\n",
    "    print(f\"{num} is not a perfect number\")"
   ]
  },
  {
   "cell_type": "markdown",
   "id": "3a6ae3ee",
   "metadata": {},
   "source": [
    "### 27) WAP to check a number entered is circular or not"
   ]
  },
  {
   "cell_type": "code",
   "execution_count": 1,
   "id": "f9ea81ea",
   "metadata": {},
   "outputs": [
    {
     "name": "stdout",
     "output_type": "stream",
     "text": [
      "Enter a number : 13\n",
      "13 is a prime number\n"
     ]
    }
   ],
   "source": [
    "number = int(input(\"Enter a number : \"))\n",
    "flag = False\n",
    "\n",
    "# prime number is greater than 1\n",
    "if number > 1:\n",
    "    for i in range(2,number):\n",
    "        if (number%i)==0:\n",
    "            # if factor is found set flag to True\n",
    "            flag = True\n",
    "            break\n",
    "\n",
    "# check if flag is True\n",
    "if flag:\n",
    "    print(f\"{number} is not a prime number\")\n",
    "else:\n",
    "    print(f\"{number} is a prime number\")"
   ]
  },
  {
   "cell_type": "markdown",
   "id": "5330487d",
   "metadata": {},
   "source": [
    "### 28) WAP to check a number entered is palindrome or not"
   ]
  },
  {
   "cell_type": "code",
   "execution_count": 5,
   "id": "c90f5cd1",
   "metadata": {},
   "outputs": [
    {
     "name": "stdout",
     "output_type": "stream",
     "text": [
      "Enter a number : 64246\n",
      "Reverse of number : 64246\n",
      "Number is a palindrome\n"
     ]
    }
   ],
   "source": [
    "number = int(input(\"Enter a number : \"))\n",
    "temp = number\n",
    "reverse = 0\n",
    "\n",
    "while(number>0):\n",
    "    digit = number%10\n",
    "    reverse = reverse*10 + digit\n",
    "    number = number//10\n",
    "    \n",
    "print(f\"Reverse of number : {reverse}\")\n",
    "\n",
    "if temp == reverse:\n",
    "    print(\"Number is a palindrome\")\n",
    "else:\n",
    "    print(\"Number is not a palindrome\")"
   ]
  },
  {
   "cell_type": "markdown",
   "id": "6a1e0b17",
   "metadata": {},
   "source": [
    "### 29) Check a number for Armstrong number eg: 153 is an Armstrong number (1x1x1+5x5x5+3x3x3 = 153)"
   ]
  },
  {
   "cell_type": "code",
   "execution_count": 5,
   "id": "3f10c9f0",
   "metadata": {},
   "outputs": [
    {
     "name": "stdout",
     "output_type": "stream",
     "text": [
      "Enter a number : 153\n",
      "153 is an Armstrong number\n"
     ]
    }
   ],
   "source": [
    "num = int(input(\"Enter a number : \"))\n",
    "order = len(str(num))\n",
    "sum = 0\n",
    "temp = num\n",
    "\n",
    "while(temp>0):\n",
    "    digit = temp % 10\n",
    "    sum += digit ** order\n",
    "    temp //= 10\n",
    "    \n",
    "if num == sum:\n",
    "    print(f\"{num} is an Armstrong number\")\n",
    "else:\n",
    "    print(f\"{num} is not an Armstrong number\")"
   ]
  },
  {
   "cell_type": "markdown",
   "id": "c30e2978",
   "metadata": {},
   "source": [
    "## ASSIGNMENT F"
   ]
  },
  {
   "cell_type": "markdown",
   "id": "60b769c2",
   "metadata": {},
   "source": [
    "### 30) WAP to swap two numbers entered by the user. You are not allowed to use a third variable "
   ]
  },
  {
   "cell_type": "code",
   "execution_count": 10,
   "id": "de331a5d",
   "metadata": {},
   "outputs": [
    {
     "name": "stdout",
     "output_type": "stream",
     "text": [
      "Enter first number : 5\n",
      "Enter second number : 10\n",
      "Before swapping: \n",
      "Value of x : 5\n",
      "value of y : 10\n",
      "After swapping: \n",
      "Value of x : 10\n",
      "value of y : 5\n"
     ]
    }
   ],
   "source": [
    "a = int(input(\"Enter first number : \"))\n",
    "b = int(input(\"Enter second number : \"))\n",
    " \n",
    "print (\"Before swapping: \")\n",
    "print(f\"Value of x : {a}\")\n",
    "print(f\"value of y : {b}\")\n",
    " \n",
    "# code to swap 'x' and 'y'\n",
    "a, b = b, a\n",
    " \n",
    "print (\"After swapping: \")\n",
    "print(f\"Value of x : {a}\")\n",
    "print(f\"value of y : {b}\")"
   ]
  },
  {
   "cell_type": "markdown",
   "id": "8abf6810",
   "metadata": {},
   "source": [
    "### 31) WAP that has a user defined function to accept the coefficient of quadratic equation in variable and calculate its determinent"
   ]
  },
  {
   "cell_type": "code",
   "execution_count": 1,
   "id": "0870699c",
   "metadata": {},
   "outputs": [
    {
     "name": "stdout",
     "output_type": "stream",
     "text": [
      "Enter the value of a : 5\n",
      "Enter the value of b : 8\n",
      "Enter the value of c : 2\n",
      "Determinent is : 24\n",
      "Quadratic Equation has real roots\n"
     ]
    }
   ],
   "source": [
    "def determinent():\n",
    "    a = int(input(\"Enter the value of a : \"))\n",
    "    b = int(input(\"Enter the value of b : \"))\n",
    "    c = int(input(\"Enter the value of c : \"))\n",
    "    d = (b**2)-(4*a*c)\n",
    "    print(f\"Determinent is : {d}\")\n",
    "    if (d>0):\n",
    "        print(\"Quadratic Equation has real roots\")\n",
    "    else:\n",
    "        print(\"Quadratic Equation has no real roots\")\n",
    "\n",
    "determinent()"
   ]
  },
  {
   "cell_type": "markdown",
   "id": "68281026",
   "metadata": {},
   "source": [
    "## ASSIGNMENT G"
   ]
  },
  {
   "cell_type": "markdown",
   "id": "8d8d1c95",
   "metadata": {},
   "source": [
    "### 32) Make a calculator.py file and import various functions in other file"
   ]
  },
  {
   "cell_type": "code",
   "execution_count": 7,
   "id": "8b51eae3",
   "metadata": {},
   "outputs": [
    {
     "name": "stdout",
     "output_type": "stream",
     "text": [
      "Enter first number : 5\n",
      "Enter second number : 7\n",
      "Operators : +,-,/,*,**\n",
      "Enter operator : -\n",
      "5 - 7 = -2\n",
      "\n",
      "Enter first number : 9\n",
      "Enter second number : 76\n",
      "Operators : +,-,/,*,**\n",
      "Enter operator : '\n",
      "Invalid Operator entered\n",
      "Exiting program\n"
     ]
    }
   ],
   "source": [
    "def calculator():\n",
    "    while(1):\n",
    "        a = int(input(\"Enter first number : \"))\n",
    "        b = int(input(\"Enter second number : \"))\n",
    "        print(\"Operators : +,-,/,*,**\")\n",
    "        operator = input(\"Enter operator : \")\n",
    "        if operator == \"+\":\n",
    "            print(f\"{a} + {b} = {a+b}\\n\")\n",
    "        elif operator == \"-\":\n",
    "            print(f\"{a} - {b} = {a-b}\\n\")\n",
    "        elif operator == \"/\":\n",
    "            print(f\"{a} / {b} = {a/b}\\n\")\n",
    "        elif operator == \"*\":\n",
    "            print(f\"{a} * {b} = {a*b}\\n\")\n",
    "        elif operator == \"**\":\n",
    "            print(f\"{a} ** {b} = {a**b}\\n\")\n",
    "        else:\n",
    "            print(\"Invalid Operator entered\")\n",
    "            print(\"Exiting program\")\n",
    "            break\n",
    "\n",
    "import calculator\n",
    "calculator.calculator()"
   ]
  },
  {
   "cell_type": "markdown",
   "id": "e8f42855",
   "metadata": {},
   "source": [
    "### 33) Implement command line arguments (display all the arguments)"
   ]
  },
  {
   "cell_type": "code",
   "execution_count": 12,
   "id": "beceebe8",
   "metadata": {},
   "outputs": [],
   "source": [
    "import sys\n",
    " \n",
    "# total arguments\n",
    "n = len(sys.argv)\n",
    "print(\"Total arguments passed:\", n)\n",
    " \n",
    "# Arguments passed\n",
    "for i in range(0,n):\n",
    "    print(f\"Argumnet {i} is : {sys.argv[i]}\")"
   ]
  },
  {
   "cell_type": "markdown",
   "id": "aa571c0c",
   "metadata": {},
   "source": [
    "### 34) Implment command line arguments (add all the numbers passed on cmd)"
   ]
  },
  {
   "cell_type": "code",
   "execution_count": null,
   "id": "5a580316",
   "metadata": {},
   "outputs": [],
   "source": [
    "import sys\n",
    " \n",
    "# total arguments\n",
    "n = len(sys.argv)\n",
    "print(\"Total arguments passed:\", n)\n",
    " \n",
    "# Arguments passed\n",
    "print(\"\\nName of Python script:\", sys.argv[0])\n",
    " \n",
    "print(\"\\nArguments passed:\", end = \" \")\n",
    "for i in range(1, n):\n",
    "    print(sys.argv[i], end = \" \")\n",
    "     \n",
    "# Addition of numbers\n",
    "Sum = 0\n",
    "# Using argparse module\n",
    "for i in range(1, n):\n",
    "    Sum += int(sys.argv[i])\n",
    "     \n",
    "print(\"\\n\\nResult:\", Sum)"
   ]
  },
  {
   "cell_type": "markdown",
   "id": "70de6b33",
   "metadata": {},
   "source": [
    "### 35) Implement a calculator using command line arguments using parser"
   ]
  },
  {
   "cell_type": "code",
   "execution_count": null,
   "id": "44eeafb5",
   "metadata": {},
   "outputs": [],
   "source": [
    "import argparse\n",
    " \n",
    "#Addition function\n",
    "def add(a,b):\n",
    "    val = a+b\n",
    "    return val\n",
    " \n",
    "#Subtraction function\n",
    "def sub(a,b):\n",
    "    val = a-b\n",
    "    return val\n",
    " \n",
    "#Division function\n",
    "def div(a,b):\n",
    "    val = a/b\n",
    "    return val\n",
    " \n",
    "#Multiplication function\n",
    "def multi(a,b):\n",
    "    val = a*b\n",
    "    return val\n",
    " \n",
    "#Main function\n",
    "def Main():\n",
    "    parser = argparse.ArgumentParser()\n",
    " \n",
    "    group = parser.add_mutually_exclusive_group()\n",
    "    group.add_argument(\"-fa\",\"--fadd\",help=\"Performs addition\",action=\"store_true\")\n",
    "    group.add_argument(\"-fs\",\"--fsub\",help=\"Performs subtraction\",action=\"store_true\")\n",
    "    group.add_argument(\"-fd\",\"--fdiv\",help=\"Performs division\",action=\"store_true\")\n",
    "    group.add_argument(\"-fm\",\"--fmulti\",help=\"Performs multiplication\",action=\"store_true\")\n",
    " \n",
    "    parser.add_argument(\"num1\",help=\"Number1 to calculate\",type=int)\n",
    "    parser.add_argument(\"num2\",help=\"Number2 to calculate\",type=int)\n",
    " \n",
    "    args = parser.parse_args()\n",
    "     \n",
    "#Optional arguments \n",
    "    if args.fadd:\n",
    "        print(\"The addition result of {} and {} is {}\".format(args.num1,args.num2,(add(args.num1,args.num2))))\n",
    "    elif args.fsub:\n",
    "        print(\"The subtraction result of {} and {} is {}\".format(args.num1,args.num2,(sub(args.num1,args.num2))))\n",
    "    elif args.fdiv:\n",
    "        print(\"The division result of {} and {} is {}\".format(args.num1,args.num2,(div(args.num1,args.num2))))\n",
    "    elif args.fmulti:\n",
    "        print(\"The multiplication result of {} and {} is {}\".format(args.num1,args.num2,(multi(args.num1,args.num2))))\n",
    "    else:\n",
    "        print(\"Error:Requires an argument to perform an action\")\n",
    "\n",
    "if __name__ == '__main__':\n",
    "    Main()"
   ]
  },
  {
   "cell_type": "markdown",
   "id": "1d880fed",
   "metadata": {},
   "source": [
    "## UNIT 2"
   ]
  },
  {
   "cell_type": "markdown",
   "id": "9dab657e",
   "metadata": {},
   "source": [
    "## Assignment A - String"
   ]
  },
  {
   "cell_type": "markdown",
   "id": "2946f0be",
   "metadata": {},
   "source": [
    "### 36) From the string “Bamboozled”. WAP to obtain the following output"
   ]
  },
  {
   "cell_type": "code",
   "execution_count": 17,
   "id": "e2b44e3d",
   "metadata": {},
   "outputs": [
    {
     "name": "stdout",
     "output_type": "stream",
     "text": [
      "Ba\n",
      "ed\n",
      "Ed\n",
      "Mboozled\n",
      "Bamboo\n"
     ]
    }
   ],
   "source": [
    "word = \"Bamboozled\"\n",
    "# Output 1\n",
    "print(word[0:2])\n",
    "\n",
    "# Output 2\n",
    "print(word[8:10])\n",
    "\n",
    "# Output 3\n",
    "a = word[8:10] \n",
    "b = a.capitalize()\n",
    "print(b)\n",
    "\n",
    "# Output 4\n",
    "a = word[2:10] \n",
    "b = a.capitalize()\n",
    "print(b)\n",
    "\n",
    "# Output 5\n",
    "a = word[0:6] \n",
    "b = a.capitalize()\n",
    "print(b)"
   ]
  },
  {
   "cell_type": "markdown",
   "id": "fd6a55b7",
   "metadata": {},
   "source": [
    "### 37) Find all the occurrence of 'T' int the string 'The Terrible Tiger Tore The Towel'. Count them and print also replace them with 't'"
   ]
  },
  {
   "cell_type": "code",
   "execution_count": 24,
   "id": "8923dff7",
   "metadata": {},
   "outputs": [
    {
     "name": "stdout",
     "output_type": "stream",
     "text": [
      "The Terrible Tiger Tore The Towel\n",
      "Number of times 'T' occured : 6\n",
      "the terrible tiger tore the towel\n"
     ]
    }
   ],
   "source": [
    "sentence = \"The Terrible Tiger Tore The Towel\"\n",
    "print(sentence)\n",
    "print(f\"Number of times 'T' occured : {sentence.count('T')}\")\n",
    "s = sentence.replace(\"T\", \"t\")\n",
    "print(s)"
   ]
  },
  {
   "cell_type": "markdown",
   "id": "bf3da76d",
   "metadata": {},
   "source": [
    "### 38) WAP to reverse a string"
   ]
  },
  {
   "cell_type": "code",
   "execution_count": 28,
   "id": "66fdcafa",
   "metadata": {},
   "outputs": [
    {
     "name": "stdout",
     "output_type": "stream",
     "text": [
      "regnorts uoy sekam ylpmis uoy llik t'nseod tahw eveileb I\n"
     ]
    }
   ],
   "source": [
    "sentence = \"I believe what doesn't kill you simply makes you stronger\"\n",
    "print(sentence[::-1])"
   ]
  },
  {
   "cell_type": "markdown",
   "id": "fb78dd7a",
   "metadata": {},
   "source": [
    "### 39) WAP to check if the string is palindrome"
   ]
  },
  {
   "cell_type": "code",
   "execution_count": 32,
   "id": "22413024",
   "metadata": {},
   "outputs": [
    {
     "name": "stdout",
     "output_type": "stream",
     "text": [
      "Enter a string: malayalam\n",
      "String is a palindrome\n"
     ]
    }
   ],
   "source": [
    "word = input(\"Enter a string: \")\n",
    "if word == word[::-1]:\n",
    "    print(\"String is a palindrome\")\n",
    "else:\n",
    "    print(\"String is not a palindrome\")"
   ]
  },
  {
   "cell_type": "markdown",
   "id": "376286e5",
   "metadata": {},
   "source": [
    "### 40) WAP to calculate the length of the string"
   ]
  },
  {
   "cell_type": "code",
   "execution_count": 39,
   "id": "db7fc875",
   "metadata": {},
   "outputs": [
    {
     "name": "stdout",
     "output_type": "stream",
     "text": [
      "Enter a string : \"You either die a hero or live long enough to see yourself become the villain.\"\n",
      "Length of the string is : 79\n"
     ]
    }
   ],
   "source": [
    "word = input(\"Enter a string : \")\n",
    "print(f\"Length of the string is : {len(word)}\")"
   ]
  },
  {
   "cell_type": "markdown",
   "id": "82375a46",
   "metadata": {},
   "source": [
    "### 41) WAP to count the number of characters (character frequency) in a string "
   ]
  },
  {
   "cell_type": "code",
   "execution_count": 51,
   "id": "b0d711bc",
   "metadata": {},
   "outputs": [
    {
     "name": "stdout",
     "output_type": "stream",
     "text": [
      "Count of all characters in Batman is : {'B': 1, 'a': 2, 't': 1, 'm': 1, 'n': 1}\n"
     ]
    }
   ],
   "source": [
    "word = \"Batman\"\n",
    "\n",
    "frequency = {}\n",
    " \n",
    "for i in word:\n",
    "    if i in frequency:\n",
    "        frequency[i] += 1\n",
    "    else:\n",
    "        frequency[i] = 1\n",
    "print(f\"Count of all characters in {word} is : {frequency}\")"
   ]
  },
  {
   "cell_type": "markdown",
   "id": "45288e5d",
   "metadata": {},
   "source": [
    "### 42) WAP to get a single string from two strings separated by a space and swap the first two characters of each string"
   ]
  },
  {
   "cell_type": "code",
   "execution_count": 9,
   "id": "4cf4d5a0",
   "metadata": {},
   "outputs": [
    {
     "name": "stdout",
     "output_type": "stream",
     "text": [
      "Enter the 1st string : abc\n",
      "Enter the 2nd string : xyz\n",
      "Value after swapping is : abc xyz\n",
      "Value after swapping is : xyc abz\n"
     ]
    }
   ],
   "source": [
    "a = input(\"Enter the 1st string : \")\n",
    "b = input(\"Enter the 2nd string : \")\n",
    "print(f\"Value after swapping is : {a} {b}\")\n",
    "temp = a[0:2]\n",
    "a = b[0:2] + a[2:]\n",
    "b = temp + b[2:]\n",
    "print(f\"Value after swapping is : {a} {b}\")"
   ]
  },
  {
   "cell_type": "markdown",
   "id": "1b9fca9e",
   "metadata": {},
   "source": [
    "## Assignment B - String"
   ]
  },
  {
   "cell_type": "markdown",
   "id": "c7fe7b5e",
   "metadata": {},
   "source": [
    "### 43) WAP to accept a string and count the total number of vowels"
   ]
  },
  {
   "cell_type": "code",
   "execution_count": 12,
   "id": "548d62fd",
   "metadata": {},
   "outputs": [
    {
     "name": "stdout",
     "output_type": "stream",
     "text": [
      "Enter a string : Muhammed Raihan\n",
      "6\n"
     ]
    }
   ],
   "source": [
    "string = input(\"Enter a string : \")\n",
    "vowels = ['a', 'e', 'i', 'o', 'u']\n",
    "count = 0\n",
    "for i in string:\n",
    "    if i in vowels:\n",
    "        count = count + 1\n",
    "print(count)"
   ]
  },
  {
   "cell_type": "markdown",
   "id": "9bac6d39",
   "metadata": {},
   "source": [
    "### 44) WAP to search a character in the string"
   ]
  },
  {
   "cell_type": "code",
   "execution_count": 16,
   "id": "e6927e40",
   "metadata": {},
   "outputs": [
    {
     "name": "stdout",
     "output_type": "stream",
     "text": [
      "Enter a string : Muhammed Raihan\n",
      "Enter character that you want to search : n\n",
      "n is present\n"
     ]
    }
   ],
   "source": [
    "string = input(\"Enter a string : \")\n",
    "character = input(\"Enter character that you want to search : \")\n",
    "if character in string:\n",
    "    print(f\"{character} is present\")\n",
    "else:\n",
    "    print(f\"{character} is not present\")"
   ]
  },
  {
   "cell_type": "markdown",
   "id": "e53d4d85",
   "metadata": {},
   "source": [
    "### 45) WAP to read the email id of the person in the format expected"
   ]
  },
  {
   "cell_type": "code",
   "execution_count": 27,
   "id": "e20dabe5",
   "metadata": {},
   "outputs": [
    {
     "name": "stdout",
     "output_type": "stream",
     "text": [
      "What is your email address? : xyz@gmail.co\n",
      "xyz@gmail.co is a not valid email\n"
     ]
    }
   ],
   "source": [
    "email_address = input(\"What is your email address? : \")\n",
    "reverse = email_address[::-1]\n",
    "if reverse[0:10] == \"moc.liamg@\":\n",
    "    print(f\"{email_address} is a valid email\")\n",
    "else:\n",
    "    print(f\"{email_address} is a not valid email\")\n",
    "\n",
    "# while \"@\" not in email_address:\n",
    "#     email_address = input(\"Your email address must have '@' in it\\nPlease write your email address again: \")\n",
    "#     if len(email_address) <= 6 :\n",
    "#         email_address = input(\"Your email address is too short\\nPlease write your email address again: \")\n",
    "#     if \".\" not in email_address:\n",
    "#         email_address = input(\"Your email address must have '.' in it\\nPlease write your email address again: \")\n",
    "# while \".\" not in email_address:\n",
    "#     email_address = input(\"Your email address must have '.' in it\\nPlease write your email address again: \")\n",
    "#     if len(email_address) <= 6 :\n",
    "#         email_address = input(\"Your email address is too short\\nPlease write your email address again: \")\n",
    "#     if \"@\" not in email_address:\n",
    "#         email_address = input(\"Your email address must have '@' in it\\nPlease write your email address again: \")"
   ]
  },
  {
   "cell_type": "markdown",
   "id": "98b1d396",
   "metadata": {},
   "source": [
    "## Assignment C - List"
   ]
  },
  {
   "cell_type": "markdown",
   "id": "a4249113",
   "metadata": {},
   "source": [
    "### 46) WAP to perform following on the list\n",
    "#### 1) Create a list of 5 names\n",
    "#### 2) Insert a name Anuj before Aditya\n",
    "#### 3) Append a name Zulu\n",
    "#### 4) Delete Avi from the list\n",
    "#### 5) Replace Anil with Anil Kumar"
   ]
  },
  {
   "cell_type": "code",
   "execution_count": 14,
   "id": "73b85c7f",
   "metadata": {},
   "outputs": [
    {
     "name": "stdout",
     "output_type": "stream",
     "text": [
      "Output 1 : ['Anil', 'Anmol', 'Aditya', 'Avi', 'Alka']\n",
      "Output 2 : ['Anil', 'Anmol', 'Anuj', 'Aditya', 'Avi', 'Alka']\n",
      "Output 3 : ['Anil', 'Anmol', 'Anuj', 'Aditya', 'Avi', 'Alka', 'Zulu']\n",
      "Output 4 : ['Anil', 'Anmol', 'Anuj', 'Aditya', 'Alka', 'Zulu']\n",
      "Output 5 : ['Anil Kumar', 'Anmol', 'Anuj', 'Aditya', 'Alka', 'Zulu']\n"
     ]
    }
   ],
   "source": [
    "# 1) Create a list of 5 names\n",
    "name = ['Anil', 'Anmol', 'Aditya', 'Avi', 'Alka']\n",
    "print(f\"Output 1 : {name}\")\n",
    "\n",
    "# 2) Insert a name Anuj before Aditya\n",
    "name.insert(2,'Anuj')\n",
    "print(f\"Output 2 : {name}\")\n",
    "\n",
    "# 3) Append a name Zulu\n",
    "name.append('Zulu')\n",
    "print(f\"Output 3 : {name}\")\n",
    "\n",
    "# 4) Delete Avi from the list\n",
    "name.remove('Avi')\n",
    "print(f\"Output 4 : {name}\")\n",
    "\n",
    "# 5) Replace Anil with Anil Kumar\n",
    "name[0] = 'Anil Kumar'\n",
    "print(f\"Output 5 : {name}\")"
   ]
  },
  {
   "cell_type": "markdown",
   "id": "a9de0404",
   "metadata": {},
   "source": [
    "### 47) WAP to implement stack data structure which is LIFO"
   ]
  },
  {
   "cell_type": "code",
   "execution_count": 22,
   "id": "6f3434b9",
   "metadata": {},
   "outputs": [
    {
     "name": "stdout",
     "output_type": "stream",
     "text": [
      "Initial stack : [1, 2, 3, 4, 5]\n",
      "\n",
      "Enter element that you want to push into the stack : 6\n",
      "Pushed 6 into the stack\n",
      "Stack after push operation : [1, 2, 3, 4, 5, 6]\n",
      "\n",
      "Popped 6 from the stack\n",
      "Stack after pop operation : [1, 2, 3, 4, 5]\n",
      "\n"
     ]
    }
   ],
   "source": [
    "stack = [1, 2, 3, 4, 5]\n",
    "print(f\"Initial stack : {stack}\")\n",
    "print()\n",
    "\n",
    "def Push():\n",
    "    element = int(input(\"Enter element that you want to push into the stack : \"))\n",
    "    stack.append(element)\n",
    "    print(f\"Pushed {element} into the stack\")\n",
    "    print(f\"Stack after push operation : {stack}\")\n",
    "    print()\n",
    "    \n",
    "def Pop(): \n",
    "    element = stack.pop()\n",
    "    print(f\"Popped {element} from the stack\")\n",
    "    print(f\"Stack after pop operation : {stack}\")\n",
    "    print()\n",
    "    \n",
    "Push()\n",
    "Pop()"
   ]
  },
  {
   "cell_type": "markdown",
   "id": "86db1a56",
   "metadata": {},
   "source": [
    "### 48) Suppose a list has 20 numbers. WAP that removes all duplicates from the list"
   ]
  },
  {
   "cell_type": "code",
   "execution_count": 28,
   "id": "9c3188ca",
   "metadata": {},
   "outputs": [
    {
     "name": "stdout",
     "output_type": "stream",
     "text": [
      "Original List : [1, 1, 2, 3, 4, 5, 6, 7, 8, 9, 6, 5, 8, 4, 9, 0, 10, 10, 3, 6]\n",
      "List after removing duplicates : [0, 1, 2, 3, 4, 5, 6, 7, 8, 9, 10]\n",
      "Original List : [1, 1, 2, 3, 4, 5, 6, 7, 8, 9, 6, 5, 8, 4, 9, 0, 10, 10, 3, 6]\n",
      "List after removing duplicates : [1, 2, 3, 4, 5, 6, 7, 8, 9, 0, 10]\n"
     ]
    }
   ],
   "source": [
    "# 1st Method\n",
    "numbers = [1, 1, 2, 3, 4, 5, 6, 7, 8, 9, 6, 5, 8, 4, 9, 0, 10, 10, 3, 6]\n",
    "unique_numbers = list(set(numbers)) \n",
    "print(f\"Original List : {numbers}\")\n",
    "print(f\"List after removing duplicates : {unique_numbers}\")\n",
    "\n",
    "# 2nd Method\n",
    "numbers = [1, 1, 2, 3, 4, 5, 6, 7, 8, 9, 6, 5, 8, 4, 9, 0, 10, 10, 3, 6]\n",
    "\n",
    "# Remove duplicates using a loop\n",
    "unique_numbers = []\n",
    "for num in numbers:\n",
    "    if num not in unique_numbers:\n",
    "        unique_numbers.append(num)\n",
    "\n",
    "print(f\"Original List : {numbers}\")\n",
    "print(f\"List after removing duplicates : {unique_numbers}\")\n"
   ]
  },
  {
   "cell_type": "markdown",
   "id": "581ef988",
   "metadata": {},
   "source": [
    "### 49) WAP to obtain the median value of the list of numbers, without disturbing the order of numbers in the list"
   ]
  },
  {
   "cell_type": "code",
   "execution_count": 6,
   "id": "f3988087",
   "metadata": {},
   "outputs": [
    {
     "name": "stdout",
     "output_type": "stream",
     "text": [
      "Original list : [7, 3, 9, 2, 5, 1, 8, 6, 4]\n",
      "Median of numbers is : 5\n"
     ]
    }
   ],
   "source": [
    "def find_median():\n",
    "    numbers = [7, 3, 9, 2, 5, 1, 8, 6, 4]\n",
    "    print(f\"Original list : {numbers}\")\n",
    "    sorted_list = sorted(numbers)\n",
    "    n = len(sorted_list)\n",
    "    if n % 2 == 0:\n",
    "        # For even number of elements, median is the average of middle two elements\n",
    "        mid1 = n // 2\n",
    "        mid2 = mid1 - 1\n",
    "        median = (sorted_list[mid1] + sorted_list[mid2]) / 2\n",
    "    else:\n",
    "        # For odd number of elements, median is the middle element\n",
    "        median = sorted_list[n // 2]\n",
    "    print(f\"Median of numbers is : {median}\")\n",
    "\n",
    "find_median()"
   ]
  },
  {
   "cell_type": "markdown",
   "id": "0f0425ed",
   "metadata": {},
   "source": [
    "## Assignment D - Dictionary"
   ]
  },
  {
   "cell_type": "markdown",
   "id": "33dac755",
   "metadata": {},
   "source": [
    "### 50) WAP to count the occurrence of each character entered by the user and store them in a dictionary"
   ]
  },
  {
   "cell_type": "code",
   "execution_count": 9,
   "id": "5b6f09fc",
   "metadata": {},
   "outputs": [
    {
     "name": "stdout",
     "output_type": "stream",
     "text": [
      "Enter a string: Raihan is a good boy\n",
      "Character count:\n",
      "'R': 1\n",
      "'a': 3\n",
      "'i': 2\n",
      "'h': 1\n",
      "'n': 1\n",
      "' ': 4\n",
      "'s': 1\n",
      "'g': 1\n",
      "'o': 3\n",
      "'d': 1\n",
      "'b': 1\n",
      "'y': 1\n"
     ]
    }
   ],
   "source": [
    "def count_characters(input_string):\n",
    "    char_count = {}\n",
    "    for char in input_string:\n",
    "        if char in char_count:\n",
    "            char_count[char] += 1\n",
    "        else:\n",
    "            char_count[char] = 1\n",
    "    return char_count\n",
    "\n",
    "user_input = input(\"Enter a string: \")\n",
    "result = count_characters(user_input)\n",
    "print(\"Character count:\")\n",
    "for char, count in result.items():\n",
    "    print(f\"'{char}': {count}\")"
   ]
  },
  {
   "cell_type": "markdown",
   "id": "356ffa37",
   "metadata": {},
   "source": [
    "### 51) WAP to create two dictionaries, concatenate them and create a third dictionary"
   ]
  },
  {
   "cell_type": "code",
   "execution_count": 11,
   "id": "fef4fc6a",
   "metadata": {},
   "outputs": [
    {
     "name": "stdout",
     "output_type": "stream",
     "text": [
      "First dictionary : {'a': 1, 'b': 2, 'c': 3}\n",
      "Second dictionary : {'d': 4, 'e': 5, 'f': 6}\n",
      "Concatenated dictionary : {'a': 1, 'b': 2, 'c': 3, 'd': 4, 'e': 5, 'f': 6}\n"
     ]
    }
   ],
   "source": [
    "def concatenate_dicts():\n",
    "    # Creating two dictionaries\n",
    "    dict1 = {'a': 1, 'b': 2, 'c': 3}\n",
    "    print(f\"First dictionary : {dict1}\")\n",
    "    dict2 = {'d': 4, 'e': 5, 'f': 6}\n",
    "    print(f\"Second dictionary : {dict2}\")\n",
    "    concatenated_dict = dict1\n",
    "    concatenated_dict.update(dict2)\n",
    "    print(f\"Concatenated dictionary : {concatenated_dict}\")\n",
    "\n",
    "concatenate_dicts()"
   ]
  },
  {
   "cell_type": "markdown",
   "id": "c5dacc4b",
   "metadata": {},
   "source": [
    "### 52) WAP to check weather a given key exists in the dictionary"
   ]
  },
  {
   "cell_type": "code",
   "execution_count": 20,
   "id": "50b73157",
   "metadata": {},
   "outputs": [
    {
     "name": "stdout",
     "output_type": "stream",
     "text": [
      "Enter key that you want to search : 4\n",
      "Key 4 exists and if value is : Rajat\n"
     ]
    }
   ],
   "source": [
    "name = {1:'Raihan', 2:'Rohan', 3:'Raman', 4:'Rajat', 5:'Roshan'}\n",
    "index = int(input(\"Enter key that you want to search : \"))\n",
    "\n",
    "for key,value in name.items():\n",
    "    if key == index:\n",
    "        print(f\"Key {key} exists and if value is : {value}\")"
   ]
  },
  {
   "cell_type": "markdown",
   "id": "cbb4db24",
   "metadata": {},
   "source": [
    "### 53) WAP to remove a particular key from the dictionary"
   ]
  },
  {
   "cell_type": "code",
   "execution_count": 28,
   "id": "3b2d70d3",
   "metadata": {},
   "outputs": [
    {
     "name": "stdout",
     "output_type": "stream",
     "text": [
      "Dictionary before updation : {1: 'Raihan', 2: 'Rohan', 3: 'Raman', 4: 'Rajat', 5: 'Roshan'}\n",
      "Enter key that you want to remove : 2\n",
      "Key '2' removed successfully\n",
      "Dictionary after updation : {1: 'Raihan', 3: 'Raman', 4: 'Rajat', 5: 'Roshan'}\n"
     ]
    }
   ],
   "source": [
    "def remove_key():\n",
    "    name = {1:'Raihan', 2:'Rohan', 3:'Raman', 4:'Rajat', 5:'Roshan'}\n",
    "    print(f\"Dictionary before updation : {name}\")\n",
    "    key = int(input(\"Enter key that you want to remove : \"))\n",
    "    if key in name:\n",
    "        name.pop(key)\n",
    "        print(f\"Key '{key}' removed successfully\")\n",
    "    else:\n",
    "        print(f\"Key '{key}' not found in the dictionary\")\n",
    "    print(f\"Dictionary after updation : {name}\")\n",
    "        \n",
    "remove_key()"
   ]
  },
  {
   "cell_type": "markdown",
   "id": "28e6d318",
   "metadata": {},
   "source": [
    "### 54) WAP to display the minimum and maximum in a dictionary"
   ]
  },
  {
   "cell_type": "code",
   "execution_count": 30,
   "id": "0883cc0e",
   "metadata": {},
   "outputs": [
    {
     "name": "stdout",
     "output_type": "stream",
     "text": [
      "Minimum value : 5\n",
      "Maximum value : 20\n"
     ]
    }
   ],
   "source": [
    "def min_max_values():\n",
    "    dictionary = {'a': 10, 'b': 5, 'c': 20, 'd': 15}\n",
    "    if not dictionary:\n",
    "        print(\"Dictionary is empty.\")\n",
    "        return\n",
    "    \n",
    "    min_value = min(dictionary.values())\n",
    "    print(f\"Minimum value : {min_value}\")\n",
    "    max_value = max(dictionary.values())\n",
    "    print(f\"Maximum value : {max_value}\")\n",
    "\n",
    "min_max_values()"
   ]
  },
  {
   "cell_type": "markdown",
   "id": "c5f4e6b7",
   "metadata": {},
   "source": [
    "## Assignment E - Sets & Tuple"
   ]
  },
  {
   "cell_type": "markdown",
   "id": "d02178c2",
   "metadata": {},
   "source": [
    "### 55) WAP to reverse a tuple"
   ]
  },
  {
   "cell_type": "code",
   "execution_count": 2,
   "id": "c6849559",
   "metadata": {},
   "outputs": [
    {
     "name": "stdout",
     "output_type": "stream",
     "text": [
      "<class 'tuple'>\n",
      "(1, 2, 3, 4, 5)\n",
      "(5, 4, 3, 2, 1)\n"
     ]
    }
   ],
   "source": [
    "numbers = (1,2,3,4,5)\n",
    "print(type(numbers))\n",
    "reverse = numbers[::-1]\n",
    "print(numbers)\n",
    "print(reverse)"
   ]
  },
  {
   "cell_type": "markdown",
   "id": "5b70df47",
   "metadata": {},
   "source": [
    "### 56) WAP to calculate the product by multiplying all the numbers of a tuple"
   ]
  },
  {
   "cell_type": "code",
   "execution_count": 3,
   "id": "7eef2af5",
   "metadata": {},
   "outputs": [
    {
     "name": "stdout",
     "output_type": "stream",
     "text": [
      "Product of these numbers are : 120\n"
     ]
    }
   ],
   "source": [
    "def product():\n",
    "    numbers = (1,2,3,4,5)\n",
    "    product = 1\n",
    "    for i in numbers:\n",
    "        product = product * i\n",
    "    print(f\"Product of these numbers are : {product}\")\n",
    "    \n",
    "product()"
   ]
  },
  {
   "cell_type": "markdown",
   "id": "69ee5a89",
   "metadata": {},
   "source": [
    "### 57) WAP to check if the number exists in the tuple"
   ]
  },
  {
   "cell_type": "code",
   "execution_count": 9,
   "id": "282b468b",
   "metadata": {},
   "outputs": [
    {
     "name": "stdout",
     "output_type": "stream",
     "text": [
      "Enter number that you want to search : 5\n",
      "5 is present\n"
     ]
    }
   ],
   "source": [
    "numbers = (1,2,3,4,5,6,7,8,9,10)\n",
    "search = int(input(\"Enter number that you want to search : \"))\n",
    "\n",
    "if search in numbers:\n",
    "    print(f\"{search} is present\")\n",
    "else:\n",
    "    print(f\"{search} is not present\")"
   ]
  },
  {
   "cell_type": "markdown",
   "id": "dea5c54e",
   "metadata": {},
   "source": [
    "### 58) WAP to check if two sets have any elements in common. if yes display the common elements"
   ]
  },
  {
   "cell_type": "code",
   "execution_count": 9,
   "id": "204061e5",
   "metadata": {},
   "outputs": [
    {
     "name": "stdout",
     "output_type": "stream",
     "text": [
      "<class 'set'>\n",
      "Common elements between both the sets are : {4, 5}\n"
     ]
    }
   ],
   "source": [
    "number = {1,2,3,4,5}\n",
    "numbers = {4,5,6,7,8}\n",
    "common = number.intersection(numbers)\n",
    "print(type(number))\n",
    "print(f\"Common elements between both the sets are : {common}\")"
   ]
  },
  {
   "cell_type": "markdown",
   "id": "b8592611",
   "metadata": {},
   "source": [
    "### 59) Update set1 by adding items from set2, except common elements"
   ]
  },
  {
   "cell_type": "code",
   "execution_count": 11,
   "id": "c0b193af",
   "metadata": {},
   "outputs": [
    {
     "name": "stdout",
     "output_type": "stream",
     "text": [
      "Union of both the sets are : {4, 5}\n"
     ]
    }
   ],
   "source": [
    "number = {1,2,3,4,5}\n",
    "numbers = {4,5,6,7,8}\n",
    "union = number.union(numbers)\n",
    "print(f\"Union of both the sets are : {common}\")"
   ]
  },
  {
   "cell_type": "markdown",
   "id": "8324fea1",
   "metadata": {},
   "source": [
    "### 60) Remove items from set1 that are not common to both set1 and set2"
   ]
  },
  {
   "cell_type": "code",
   "execution_count": 5,
   "id": "f24b47d0",
   "metadata": {},
   "outputs": [
    {
     "name": "stdout",
     "output_type": "stream",
     "text": [
      "{4, 5}\n"
     ]
    }
   ],
   "source": [
    "number = {1,2,3,4,5}\n",
    "numbers = {4,5,6,7,8}\n",
    "set_difference = number.difference(numbers)\n",
    "number = number - set_difference\n",
    "print(number)"
   ]
  },
  {
   "cell_type": "markdown",
   "id": "a6fef7ce",
   "metadata": {},
   "source": [
    "### 61) WAP to print tuples which are not empty"
   ]
  },
  {
   "cell_type": "code",
   "execution_count": 11,
   "id": "1ed0e083",
   "metadata": {},
   "outputs": [
    {
     "name": "stdout",
     "output_type": "stream",
     "text": [
      "Tuple is empty\n"
     ]
    }
   ],
   "source": [
    "numbers = (1, 2, 3, 4, 5)\n",
    "alphabets = ('a', 'b', 'c', 'd', 'e')\n",
    "empty = ()\n",
    "\n",
    "if len(empty) == 0:\n",
    "    print(\"Tuple is empty\")\n",
    "else:\n",
    "    print(\"Tuple is not empty\")"
   ]
  },
  {
   "cell_type": "markdown",
   "id": "0c69debe",
   "metadata": {},
   "source": [
    "## Assignment E - File Handling"
   ]
  },
  {
   "cell_type": "markdown",
   "id": "b6ccc6a3",
   "metadata": {},
   "source": [
    "### 62) WAP to open an file try.txt, add some text into it and close it"
   ]
  },
  {
   "cell_type": "code",
   "execution_count": 9,
   "id": "6a72f528",
   "metadata": {},
   "outputs": [],
   "source": [
    "aboutme = open('try.txt', 'a')"
   ]
  },
  {
   "cell_type": "code",
   "execution_count": 10,
   "id": "8b273ae7",
   "metadata": {},
   "outputs": [
    {
     "data": {
      "text/plain": [
       "420"
      ]
     },
     "execution_count": 10,
     "metadata": {},
     "output_type": "execute_result"
    }
   ],
   "source": [
    "aboutme.write('I am a graduate with a passion for continuous learning in the fields of Space, Artificial intelligence, Machine learning, Deep learning, Computer vision and Programming. Currently, I am enrolled as a postgraduate student pursuing a Masters in Computer Application (MCA) at Vivekananda Institute Of Professional Studies (VIPS, GGSIPU). I am committed to expanding my knowledge and skills in the field of computer science.')"
   ]
  },
  {
   "cell_type": "code",
   "execution_count": 11,
   "id": "b14a377c",
   "metadata": {},
   "outputs": [],
   "source": [
    "aboutme.close()"
   ]
  },
  {
   "cell_type": "markdown",
   "id": "92c3ea0d",
   "metadata": {},
   "source": [
    "### 63) WAP to read the above file and print that on the screen"
   ]
  },
  {
   "cell_type": "code",
   "execution_count": 12,
   "id": "2236232d",
   "metadata": {},
   "outputs": [],
   "source": [
    "aboutme = open('try.txt', 'r')"
   ]
  },
  {
   "cell_type": "code",
   "execution_count": 13,
   "id": "d11b3a3a",
   "metadata": {},
   "outputs": [
    {
     "data": {
      "text/plain": [
       "'I am a graduate with a passion for continuous learning in the fields of Space, Artificial intelligence, Machine learning, Deep learning, Computer vision and Programming. Currently, I am enrolled as a postgraduate student pursuing a Masters in Computer Application (MCA) at Vivekananda Institute Of Professional Studies (VIPS, GGSIPU). I am committed to expanding my knowledge and skills in the field of computer science.'"
      ]
     },
     "execution_count": 13,
     "metadata": {},
     "output_type": "execute_result"
    }
   ],
   "source": [
    "aboutme.read()"
   ]
  },
  {
   "cell_type": "code",
   "execution_count": 18,
   "id": "963c07ba",
   "metadata": {},
   "outputs": [],
   "source": [
    "aboutme.close()"
   ]
  },
  {
   "cell_type": "markdown",
   "id": "6135440b",
   "metadata": {},
   "source": [
    "### 64) WAP that writes four integers to a file called numbers Go to the following position and return\n",
    "### a) 10 positions from the beginning\n",
    "### b) 2 position to the right of current position\n",
    "### c) 10 position to the left from the end"
   ]
  },
  {
   "cell_type": "code",
   "execution_count": 7,
   "id": "1e65ac91",
   "metadata": {},
   "outputs": [
    {
     "data": {
      "text/plain": [
       "b'100,200,300,400'"
      ]
     },
     "execution_count": 7,
     "metadata": {},
     "output_type": "execute_result"
    }
   ],
   "source": [
    "file = open(\"numbers.txt\", \"w\")\n",
    "file.write(\"100,200,300,400\")\n",
    "file = open(\"numbers.txt\", \"rb\")\n",
    "file.read()"
   ]
  },
  {
   "cell_type": "code",
   "execution_count": 8,
   "id": "0ccfad16",
   "metadata": {},
   "outputs": [
    {
     "data": {
      "text/plain": [
       "b'0,400'"
      ]
     },
     "execution_count": 8,
     "metadata": {},
     "output_type": "execute_result"
    }
   ],
   "source": [
    "# 10 positions from the beginning\n",
    "file.seek(10,0)\n",
    "file.read()"
   ]
  },
  {
   "cell_type": "code",
   "execution_count": 10,
   "id": "932eec9e",
   "metadata": {},
   "outputs": [
    {
     "data": {
      "text/plain": [
       "b''"
      ]
     },
     "execution_count": 10,
     "metadata": {},
     "output_type": "execute_result"
    }
   ],
   "source": [
    "# 2 position to the right of current position\n",
    "file.seek(2,1)\n",
    "file.read()"
   ]
  },
  {
   "cell_type": "markdown",
   "id": "71f2d686",
   "metadata": {},
   "source": [
    "### 65) WAP to implement inheritance using shape class and also make rectangle as a derived class. declare a function area to calculate the area of rectangle and also show the colour of the rectangle. Also make required constructor"
   ]
  },
  {
   "cell_type": "markdown",
   "id": "878b90dc",
   "metadata": {},
   "source": [
    "### 66) WAP to implement Multiple Inheritance using the example of employee class, waged employee and salaried employee. Write Appropriate constructors and functions to calculate pay."
   ]
  },
  {
   "cell_type": "markdown",
   "id": "89c61774",
   "metadata": {},
   "source": [
    "### 67) Implement operator overloading for + operator "
   ]
  },
  {
   "cell_type": "markdown",
   "id": "638035db",
   "metadata": {},
   "source": [
    "### 68) Implement operator overloading for less than equal to operator for user defined class"
   ]
  },
  {
   "cell_type": "markdown",
   "id": "389f41d2",
   "metadata": {},
   "source": [
    "### 69) Implement operator overloading for - operator"
   ]
  },
  {
   "cell_type": "markdown",
   "id": "1abaf6db",
   "metadata": {},
   "source": [
    "### 70) Implement operator overloading for unary operator ++ and -- operator"
   ]
  },
  {
   "cell_type": "markdown",
   "id": "9d4348ab",
   "metadata": {},
   "source": [
    "### 71) Implement exception handling for divide by 0 exception"
   ]
  },
  {
   "cell_type": "markdown",
   "id": "14606a7d",
   "metadata": {},
   "source": [
    "### 72) Implement exception handling using raise statement"
   ]
  },
  {
   "cell_type": "markdown",
   "id": "e153f5a7",
   "metadata": {},
   "source": [
    "### 73) Implement threading"
   ]
  },
  {
   "cell_type": "markdown",
   "id": "faaf241a",
   "metadata": {},
   "source": [
    "### 74) WAP to construct a 3d array of dimension 4x2x3. Initialize the array to some value. Find the maximum along each axis (k,413)"
   ]
  },
  {
   "cell_type": "code",
   "execution_count": 27,
   "id": "ca6015e8",
   "metadata": {},
   "outputs": [
    {
     "name": "stdout",
     "output_type": "stream",
     "text": [
      "Initialized 3D array:\n",
      "[[[ 0  1  2]\n",
      "  [ 3  4  5]]\n",
      "\n",
      " [[ 6  7  8]\n",
      "  [ 9 10 11]]\n",
      "\n",
      " [[12 13 14]\n",
      "  [15 16 17]]\n",
      "\n",
      " [[18 19 20]\n",
      "  [21 22 23]]]\n",
      "\n",
      "Maximum along axis 0:\n",
      "[[18 19 20]\n",
      " [21 22 23]]\n",
      "\n",
      "Maximum along axis 1:\n",
      "[[ 3  4  5]\n",
      " [ 9 10 11]\n",
      " [15 16 17]\n",
      " [21 22 23]]\n",
      "\n",
      "Maximum along axis 2:\n",
      "[[ 2  5]\n",
      " [ 8 11]\n",
      " [14 17]\n",
      " [20 23]]\n"
     ]
    }
   ],
   "source": [
    "import numpy as np\n",
    "\n",
    "# Construct a 3D array with dimensions 4x2x3\n",
    "a = np.arange(0,24)\n",
    "a = a.reshape(4,2,3)\n",
    "\n",
    "# Print the initialized 3D array\n",
    "print(\"Initialized 3D array:\")\n",
    "print(a)\n",
    "\n",
    "# Find the maximum values along each axis\n",
    "max_along_axis0 = np.max(a, axis=0)\n",
    "max_along_axis1 = np.max(a, axis=1)\n",
    "max_along_axis2 = np.max(a, axis=2)\n",
    "\n",
    "# Print the maximum values along each axis\n",
    "print(\"\\nMaximum along axis 0:\")\n",
    "print(max_along_axis0)\n",
    "print(\"\\nMaximum along axis 1:\")\n",
    "print(max_along_axis1)\n",
    "print(\"\\nMaximum along axis 2:\")\n",
    "print(max_along_axis2)"
   ]
  },
  {
   "cell_type": "markdown",
   "id": "5f68c0a7",
   "metadata": {},
   "source": [
    "### 75) Create a program to achieve the following(K, 414)\n",
    "- Create an array of size 10 with each element of it set to a value 3\n",
    "- Find the memory size of this array and its individual element\n",
    "- Create an array b of size 10 with values ranging from 0 to 90 evenly spaced.\n",
    "- Reverse elements of array b\n",
    "- Add arrays a and b and store the result in c"
   ]
  },
  {
   "cell_type": "code",
   "execution_count": 29,
   "id": "c8052d4d",
   "metadata": {},
   "outputs": [
    {
     "name": "stdout",
     "output_type": "stream",
     "text": [
      "Array a:\n",
      "[3 3 3 3 3 3 3 3 3 3]\n",
      "\n",
      "Memory size of the entire array 'a': 40 bytes\n",
      "Memory size of each element in array 'a': 4 bytes\n",
      "\n",
      "Array b:\n",
      "[ 0. 10. 20. 30. 40. 50. 60. 70. 80. 90.]\n",
      "\n",
      "Reversed array b:\n",
      "[90. 80. 70. 60. 50. 40. 30. 20. 10.  0.]\n",
      "\n",
      "Resulting array c (a + b):\n",
      "[ 3. 13. 23. 33. 43. 53. 63. 73. 83. 93.]\n"
     ]
    }
   ],
   "source": [
    "import numpy as np\n",
    "\n",
    "# Step 1: Create an array of size 10 with each element set to 3\n",
    "a = np.full(10, 3)\n",
    "print(\"Array a:\")\n",
    "print(a)\n",
    "\n",
    "# Step 2: Find the memory size of the array and its individual element\n",
    "memory_size_of_array = a.nbytes\n",
    "memory_size_of_element = a.itemsize\n",
    "print(\"\\nMemory size of the entire array 'a':\", memory_size_of_array, \"bytes\")\n",
    "print(\"Memory size of each element in array 'a':\", memory_size_of_element, \"bytes\")\n",
    "\n",
    "# Step 3: Create an array b of size 10 with values ranging from 0 to 90 evenly spaced\n",
    "b = np.linspace(0, 90, 10)\n",
    "print(\"\\nArray b:\")\n",
    "print(b)\n",
    "\n",
    "# Step 4: Reverse the elements of array b\n",
    "b_reversed = b[::-1]\n",
    "print(\"\\nReversed array b:\")\n",
    "print(b_reversed)\n",
    "\n",
    "# Step 5: Add arrays a and b_reversed and store the result in c\n",
    "c = a + b\n",
    "print(\"\\nResulting array c (a + b):\")\n",
    "print(c)\n"
   ]
  },
  {
   "cell_type": "markdown",
   "id": "104dbaaa",
   "metadata": {},
   "source": [
    "### 76) Declare a matrix o 3x3 and calculate its transpose"
   ]
  },
  {
   "cell_type": "code",
   "execution_count": 40,
   "id": "d9792d49",
   "metadata": {},
   "outputs": [
    {
     "name": "stdout",
     "output_type": "stream",
     "text": [
      "[[0 1 2]\n",
      " [3 4 5]\n",
      " [6 7 8]]\n",
      "\n",
      "[[0 3 6]\n",
      " [1 4 7]\n",
      " [2 5 8]]\n"
     ]
    }
   ],
   "source": [
    "import numpy as np\n",
    "a = np.arange(0,9)\n",
    "a = a.reshape(3,3)\n",
    "print(a)\n",
    "b = a.transpose()\n",
    "print()\n",
    "print(b)"
   ]
  },
  {
   "cell_type": "markdown",
   "id": "d7dab13b",
   "metadata": {},
   "source": [
    "### 77) Write a menu driven program to perform all the matrix operation"
   ]
  },
  {
   "cell_type": "code",
   "execution_count": 62,
   "id": "ac9436cc",
   "metadata": {},
   "outputs": [
    {
     "name": "stdout",
     "output_type": "stream",
     "text": [
      "\n",
      "Matrix Operations Menu:\n",
      "1. Add matrices\n",
      "2. Subtract matrices\n",
      "3. Multiply matrices\n",
      "4. Transpose a matrix\n",
      "5. Find the determinant of a matrix\n",
      "6. Exit\n",
      "Enter your choice: 1\n",
      "Enter the first matrix:\n",
      "Enter the number of rows: 2\n",
      "Enter the number of columns: 2\n",
      "Enter element 1: 1\n",
      "Enter element 2: 2\n",
      "Enter element 3: 3\n",
      "Enter element 4: 4\n",
      "The matrix is : \n",
      "[[1 2]\n",
      " [3 4]]\n",
      "Enter the second matrix:\n",
      "Enter the number of rows: 2\n",
      "Enter the number of columns: 2\n",
      "Enter element 1: 5\n",
      "Enter element 2: 6\n",
      "Enter element 3: 7\n",
      "Enter element 4: 8\n",
      "The matrix is : \n",
      "[[5 6]\n",
      " [7 8]]\n",
      "Result of addition:\n",
      "[[ 6  8]\n",
      " [10 12]]\n",
      "\n",
      "Matrix Operations Menu:\n",
      "1. Add matrices\n",
      "2. Subtract matrices\n",
      "3. Multiply matrices\n",
      "4. Transpose a matrix\n",
      "5. Find the determinant of a matrix\n",
      "6. Exit\n",
      "Enter your choice: 6\n",
      "Exiting the program.\n"
     ]
    }
   ],
   "source": [
    "import numpy as np\n",
    "\n",
    "def get_matrix(prompt):\n",
    "    print(prompt)\n",
    "    rows = int(input(\"Enter the number of rows: \"))\n",
    "    cols = int(input(\"Enter the number of columns: \"))\n",
    "    n = rows * cols\n",
    "    elements = []\n",
    "    for i in range(n):\n",
    "        value = int(input(f\"Enter element {i+1}: \"))\n",
    "        elements.append(value)\n",
    "    elements = np.array(elements)\n",
    "    matrix = elements.reshape(rows, cols)\n",
    "    print(\"The matrix is : \")\n",
    "    print(matrix)\n",
    "    return matrix\n",
    "\n",
    "def add_matrices():\n",
    "    matrix1 = get_matrix(\"Enter the first matrix:\")\n",
    "    matrix2 = get_matrix(\"Enter the second matrix:\")\n",
    "    if matrix1.shape == matrix2.shape:\n",
    "        result = np.add(matrix1, matrix2)\n",
    "        print(\"Result of addition:\")\n",
    "        print(result)\n",
    "    else:\n",
    "        print(\"Matrices must have the same dimensions to be added.\")\n",
    "\n",
    "def subtract_matrices():\n",
    "    matrix1 = get_matrix(\"Enter the first matrix:\")\n",
    "    matrix2 = get_matrix(\"Enter the second matrix:\")\n",
    "    if matrix1.shape == matrix2.shape:\n",
    "        result = np.subtract(matrix1, matrix2)\n",
    "        print(\"Result of subtraction:\")\n",
    "        print(result)\n",
    "    else:\n",
    "        print(\"Matrices must have the same dimensions to be subtracted.\")\n",
    "\n",
    "def multiply_matrices():\n",
    "    matrix1 = get_matrix(\"Enter the first matrix:\")\n",
    "    matrix2 = get_matrix(\"Enter the second matrix:\")\n",
    "    if matrix1.shape[1] == matrix2.shape[0]:\n",
    "        result = np.dot(matrix1, matrix2)\n",
    "        print(\"Result of multiplication:\")\n",
    "        print(result)\n",
    "    else:\n",
    "        print(\"Number of columns in the first matrix must be equal to the number of rows in the second matrix.\")\n",
    "\n",
    "def transpose_matrix():\n",
    "    matrix = get_matrix(\"Enter the matrix:\")\n",
    "    result = np.transpose(matrix)\n",
    "    print(\"Transpose of the matrix:\")\n",
    "    print(result)\n",
    "\n",
    "def determinant_matrix():\n",
    "    matrix = get_matrix(\"Enter the matrix:\")\n",
    "    if matrix.shape[0] == matrix.shape[1]:\n",
    "        result = np.linalg.det(matrix)\n",
    "        print(\"Determinant of the matrix:\")\n",
    "        print(result)\n",
    "    else:\n",
    "        print(\"Determinant can only be calculated for square matrices.\")\n",
    "\n",
    "def main():\n",
    "    while True:\n",
    "        print(\"\\nMatrix Operations Menu:\")\n",
    "        print(\"1. Add matrices\")\n",
    "        print(\"2. Subtract matrices\")\n",
    "        print(\"3. Multiply matrices\")\n",
    "        print(\"4. Transpose a matrix\")\n",
    "        print(\"5. Find the determinant of a matrix\")\n",
    "        print(\"6. Exit\")\n",
    "        choice = int(input(\"Enter your choice: \"))\n",
    "        if choice == 1:\n",
    "            add_matrices()\n",
    "        elif choice == 2:\n",
    "            subtract_matrices()\n",
    "        elif choice == 3:\n",
    "            multiply_matrices()\n",
    "        elif choice == 4:\n",
    "            transpose_matrix()\n",
    "        elif choice == 5:\n",
    "            determinant_matrix()\n",
    "        elif choice == 6:\n",
    "            print(\"Exiting the program.\")\n",
    "            break\n",
    "        else:\n",
    "            print(\"Invalid choice. Please try again.\")\n",
    "\n",
    "if __name__ == \"__main__\":\n",
    "    main()"
   ]
  },
  {
   "cell_type": "markdown",
   "id": "3b3e616d",
   "metadata": {},
   "source": [
    "### 78) WAP to count all the odd numbers in 1d array"
   ]
  },
  {
   "cell_type": "code",
   "execution_count": 68,
   "id": "bcb487bd",
   "metadata": {},
   "outputs": [
    {
     "name": "stdout",
     "output_type": "stream",
     "text": [
      "1\n",
      "3\n",
      "5\n",
      "7\n",
      "9\n",
      "11\n",
      "13\n",
      "15\n",
      "17\n",
      "19\n",
      "Total numbers of odd numbers in the array is : 10\n"
     ]
    }
   ],
   "source": [
    "import numpy as np\n",
    "numbers = np.arange(0,20)\n",
    "count = 0\n",
    "for i in numbers:\n",
    "    if i%2==0:\n",
    "        continue\n",
    "    else:\n",
    "        print(i)\n",
    "        count = count+1\n",
    "print(f\"Total numbers of odd numbers in the array is : {count}\")"
   ]
  },
  {
   "cell_type": "markdown",
   "id": "078fc5d2",
   "metadata": {},
   "source": [
    "### 79) WAP to check if none of the elements is zero in the array"
   ]
  },
  {
   "cell_type": "code",
   "execution_count": 72,
   "id": "4a1355c0",
   "metadata": {},
   "outputs": [
    {
     "name": "stdout",
     "output_type": "stream",
     "text": [
      "Enter the first element of the array : -5\n",
      "Enter the last element of the array : 5\n",
      "Array : [-5 -4 -3 -2 -1  0  1  2  3  4  5]\n",
      "Element at index 5 is 0\n"
     ]
    }
   ],
   "source": [
    "import numpy as np\n",
    "first = int(input(\"Enter the first element of the array : \"))\n",
    "last = int(input(\"Enter the last element of the array : \"))\n",
    "numbers= np.arange(first,last+1)\n",
    "print(f\"Array : {numbers}\")\n",
    "\n",
    "for i in numbers:\n",
    "    if numbers[i] == 0:\n",
    "        print(f\"Element at index {i} is {numbers[i]}\")"
   ]
  },
  {
   "cell_type": "markdown",
   "id": "69caf687",
   "metadata": {},
   "source": [
    "### 80) WAP to extract all the prime numbers from an array"
   ]
  },
  {
   "cell_type": "code",
   "execution_count": 80,
   "id": "b44a519e",
   "metadata": {},
   "outputs": [
    {
     "name": "stdout",
     "output_type": "stream",
     "text": [
      "Enter the first element of the array : 0\n",
      "Enter the last element of the array : 15\n",
      "Array : [ 0  1  2  3  4  5  6  7  8  9 10 11 12 13 14 15]\n",
      "Prime numbers in the array:\n",
      "2, 3, 5, 7, 11, 13, "
     ]
    }
   ],
   "source": [
    "import numpy as np\n",
    "\n",
    "first = int(input(\"Enter the first element of the array : \"))\n",
    "last = int(input(\"Enter the last element of the array : \"))\n",
    "array= np.arange(first, last+1)\n",
    "print(f\"Array : {array}\")\n",
    "\n",
    "def is_prime(num):\n",
    "    if num <= 1:\n",
    "        return False\n",
    "    for i in range(2, int(num**0.5) + 1):\n",
    "        if num % i == 0:\n",
    "            return False\n",
    "    return True\n",
    "\n",
    "def print_primes(array):\n",
    "    print(\"Prime numbers in the array:\")\n",
    "    for num in array:\n",
    "        if is_prime(num):\n",
    "            print(num, end=\", \")\n",
    "\n",
    "print_primes(array)"
   ]
  },
  {
   "cell_type": "markdown",
   "id": "8fb8b5d4",
   "metadata": {},
   "source": [
    "### 81) Pre-process and perform different operations on data using Numpy and Pandas library"
   ]
  },
  {
   "cell_type": "code",
   "execution_count": 81,
   "id": "ebf19c83",
   "metadata": {},
   "outputs": [],
   "source": [
    "import pandas as pd\n",
    "import numpy as np"
   ]
  },
  {
   "cell_type": "code",
   "execution_count": 97,
   "id": "20bfdec2",
   "metadata": {},
   "outputs": [],
   "source": [
    "# Read in data\n",
    "df = pd.read_csv('Reviews.csv')"
   ]
  },
  {
   "cell_type": "code",
   "execution_count": 98,
   "id": "f04ad1fa",
   "metadata": {},
   "outputs": [
    {
     "data": {
      "text/plain": [
       "(568454, 10)"
      ]
     },
     "execution_count": 98,
     "metadata": {},
     "output_type": "execute_result"
    }
   ],
   "source": [
    "df.shape"
   ]
  },
  {
   "cell_type": "code",
   "execution_count": 99,
   "id": "cd442801",
   "metadata": {},
   "outputs": [
    {
     "data": {
      "text/html": [
       "<div>\n",
       "<style scoped>\n",
       "    .dataframe tbody tr th:only-of-type {\n",
       "        vertical-align: middle;\n",
       "    }\n",
       "\n",
       "    .dataframe tbody tr th {\n",
       "        vertical-align: top;\n",
       "    }\n",
       "\n",
       "    .dataframe thead th {\n",
       "        text-align: right;\n",
       "    }\n",
       "</style>\n",
       "<table border=\"1\" class=\"dataframe\">\n",
       "  <thead>\n",
       "    <tr style=\"text-align: right;\">\n",
       "      <th></th>\n",
       "      <th>Id</th>\n",
       "      <th>ProductId</th>\n",
       "      <th>UserId</th>\n",
       "      <th>ProfileName</th>\n",
       "      <th>HelpfulnessNumerator</th>\n",
       "      <th>HelpfulnessDenominator</th>\n",
       "      <th>Score</th>\n",
       "      <th>Time</th>\n",
       "      <th>Summary</th>\n",
       "      <th>Text</th>\n",
       "    </tr>\n",
       "  </thead>\n",
       "  <tbody>\n",
       "    <tr>\n",
       "      <th>0</th>\n",
       "      <td>1</td>\n",
       "      <td>B001E4KFG0</td>\n",
       "      <td>A3SGXH7AUHU8GW</td>\n",
       "      <td>delmartian</td>\n",
       "      <td>1</td>\n",
       "      <td>1</td>\n",
       "      <td>5</td>\n",
       "      <td>1303862400</td>\n",
       "      <td>Good Quality Dog Food</td>\n",
       "      <td>I have bought several of the Vitality canned d...</td>\n",
       "    </tr>\n",
       "    <tr>\n",
       "      <th>1</th>\n",
       "      <td>2</td>\n",
       "      <td>B00813GRG4</td>\n",
       "      <td>A1D87F6ZCVE5NK</td>\n",
       "      <td>dll pa</td>\n",
       "      <td>0</td>\n",
       "      <td>0</td>\n",
       "      <td>1</td>\n",
       "      <td>1346976000</td>\n",
       "      <td>Not as Advertised</td>\n",
       "      <td>Product arrived labeled as Jumbo Salted Peanut...</td>\n",
       "    </tr>\n",
       "    <tr>\n",
       "      <th>2</th>\n",
       "      <td>3</td>\n",
       "      <td>B000LQOCH0</td>\n",
       "      <td>ABXLMWJIXXAIN</td>\n",
       "      <td>Natalia Corres \"Natalia Corres\"</td>\n",
       "      <td>1</td>\n",
       "      <td>1</td>\n",
       "      <td>4</td>\n",
       "      <td>1219017600</td>\n",
       "      <td>\"Delight\" says it all</td>\n",
       "      <td>This is a confection that has been around a fe...</td>\n",
       "    </tr>\n",
       "    <tr>\n",
       "      <th>3</th>\n",
       "      <td>4</td>\n",
       "      <td>B000UA0QIQ</td>\n",
       "      <td>A395BORC6FGVXV</td>\n",
       "      <td>Karl</td>\n",
       "      <td>3</td>\n",
       "      <td>3</td>\n",
       "      <td>2</td>\n",
       "      <td>1307923200</td>\n",
       "      <td>Cough Medicine</td>\n",
       "      <td>If you are looking for the secret ingredient i...</td>\n",
       "    </tr>\n",
       "    <tr>\n",
       "      <th>4</th>\n",
       "      <td>5</td>\n",
       "      <td>B006K2ZZ7K</td>\n",
       "      <td>A1UQRSCLF8GW1T</td>\n",
       "      <td>Michael D. Bigham \"M. Wassir\"</td>\n",
       "      <td>0</td>\n",
       "      <td>0</td>\n",
       "      <td>5</td>\n",
       "      <td>1350777600</td>\n",
       "      <td>Great taffy</td>\n",
       "      <td>Great taffy at a great price.  There was a wid...</td>\n",
       "    </tr>\n",
       "  </tbody>\n",
       "</table>\n",
       "</div>"
      ],
      "text/plain": [
       "   Id   ProductId          UserId                      ProfileName  \\\n",
       "0   1  B001E4KFG0  A3SGXH7AUHU8GW                       delmartian   \n",
       "1   2  B00813GRG4  A1D87F6ZCVE5NK                           dll pa   \n",
       "2   3  B000LQOCH0   ABXLMWJIXXAIN  Natalia Corres \"Natalia Corres\"   \n",
       "3   4  B000UA0QIQ  A395BORC6FGVXV                             Karl   \n",
       "4   5  B006K2ZZ7K  A1UQRSCLF8GW1T    Michael D. Bigham \"M. Wassir\"   \n",
       "\n",
       "   HelpfulnessNumerator  HelpfulnessDenominator  Score        Time  \\\n",
       "0                     1                       1      5  1303862400   \n",
       "1                     0                       0      1  1346976000   \n",
       "2                     1                       1      4  1219017600   \n",
       "3                     3                       3      2  1307923200   \n",
       "4                     0                       0      5  1350777600   \n",
       "\n",
       "                 Summary                                               Text  \n",
       "0  Good Quality Dog Food  I have bought several of the Vitality canned d...  \n",
       "1      Not as Advertised  Product arrived labeled as Jumbo Salted Peanut...  \n",
       "2  \"Delight\" says it all  This is a confection that has been around a fe...  \n",
       "3         Cough Medicine  If you are looking for the secret ingredient i...  \n",
       "4            Great taffy  Great taffy at a great price.  There was a wid...  "
      ]
     },
     "execution_count": 99,
     "metadata": {},
     "output_type": "execute_result"
    }
   ],
   "source": [
    "df.head()"
   ]
  },
  {
   "cell_type": "code",
   "execution_count": 100,
   "id": "17fa2ddf",
   "metadata": {},
   "outputs": [
    {
     "name": "stdout",
     "output_type": "stream",
     "text": [
      "<class 'pandas.core.frame.DataFrame'>\n",
      "RangeIndex: 568454 entries, 0 to 568453\n",
      "Data columns (total 10 columns):\n",
      " #   Column                  Non-Null Count   Dtype \n",
      "---  ------                  --------------   ----- \n",
      " 0   Id                      568454 non-null  int64 \n",
      " 1   ProductId               568454 non-null  object\n",
      " 2   UserId                  568454 non-null  object\n",
      " 3   ProfileName             568438 non-null  object\n",
      " 4   HelpfulnessNumerator    568454 non-null  int64 \n",
      " 5   HelpfulnessDenominator  568454 non-null  int64 \n",
      " 6   Score                   568454 non-null  int64 \n",
      " 7   Time                    568454 non-null  int64 \n",
      " 8   Summary                 568427 non-null  object\n",
      " 9   Text                    568454 non-null  object\n",
      "dtypes: int64(5), object(5)\n",
      "memory usage: 43.4+ MB\n"
     ]
    }
   ],
   "source": [
    "df.info()"
   ]
  },
  {
   "cell_type": "code",
   "execution_count": 101,
   "id": "ce738dc5",
   "metadata": {},
   "outputs": [
    {
     "data": {
      "text/html": [
       "<div>\n",
       "<style scoped>\n",
       "    .dataframe tbody tr th:only-of-type {\n",
       "        vertical-align: middle;\n",
       "    }\n",
       "\n",
       "    .dataframe tbody tr th {\n",
       "        vertical-align: top;\n",
       "    }\n",
       "\n",
       "    .dataframe thead th {\n",
       "        text-align: right;\n",
       "    }\n",
       "</style>\n",
       "<table border=\"1\" class=\"dataframe\">\n",
       "  <thead>\n",
       "    <tr style=\"text-align: right;\">\n",
       "      <th></th>\n",
       "      <th>Id</th>\n",
       "      <th>HelpfulnessNumerator</th>\n",
       "      <th>HelpfulnessDenominator</th>\n",
       "      <th>Score</th>\n",
       "      <th>Time</th>\n",
       "    </tr>\n",
       "  </thead>\n",
       "  <tbody>\n",
       "    <tr>\n",
       "      <th>count</th>\n",
       "      <td>568454.000000</td>\n",
       "      <td>568454.000000</td>\n",
       "      <td>568454.00000</td>\n",
       "      <td>568454.000000</td>\n",
       "      <td>5.684540e+05</td>\n",
       "    </tr>\n",
       "    <tr>\n",
       "      <th>mean</th>\n",
       "      <td>284227.500000</td>\n",
       "      <td>1.743817</td>\n",
       "      <td>2.22881</td>\n",
       "      <td>4.183199</td>\n",
       "      <td>1.296257e+09</td>\n",
       "    </tr>\n",
       "    <tr>\n",
       "      <th>std</th>\n",
       "      <td>164098.679298</td>\n",
       "      <td>7.636513</td>\n",
       "      <td>8.28974</td>\n",
       "      <td>1.310436</td>\n",
       "      <td>4.804331e+07</td>\n",
       "    </tr>\n",
       "    <tr>\n",
       "      <th>min</th>\n",
       "      <td>1.000000</td>\n",
       "      <td>0.000000</td>\n",
       "      <td>0.00000</td>\n",
       "      <td>1.000000</td>\n",
       "      <td>9.393408e+08</td>\n",
       "    </tr>\n",
       "    <tr>\n",
       "      <th>25%</th>\n",
       "      <td>142114.250000</td>\n",
       "      <td>0.000000</td>\n",
       "      <td>0.00000</td>\n",
       "      <td>4.000000</td>\n",
       "      <td>1.271290e+09</td>\n",
       "    </tr>\n",
       "    <tr>\n",
       "      <th>50%</th>\n",
       "      <td>284227.500000</td>\n",
       "      <td>0.000000</td>\n",
       "      <td>1.00000</td>\n",
       "      <td>5.000000</td>\n",
       "      <td>1.311120e+09</td>\n",
       "    </tr>\n",
       "    <tr>\n",
       "      <th>75%</th>\n",
       "      <td>426340.750000</td>\n",
       "      <td>2.000000</td>\n",
       "      <td>2.00000</td>\n",
       "      <td>5.000000</td>\n",
       "      <td>1.332720e+09</td>\n",
       "    </tr>\n",
       "    <tr>\n",
       "      <th>max</th>\n",
       "      <td>568454.000000</td>\n",
       "      <td>866.000000</td>\n",
       "      <td>923.00000</td>\n",
       "      <td>5.000000</td>\n",
       "      <td>1.351210e+09</td>\n",
       "    </tr>\n",
       "  </tbody>\n",
       "</table>\n",
       "</div>"
      ],
      "text/plain": [
       "                  Id  HelpfulnessNumerator  HelpfulnessDenominator  \\\n",
       "count  568454.000000         568454.000000            568454.00000   \n",
       "mean   284227.500000              1.743817                 2.22881   \n",
       "std    164098.679298              7.636513                 8.28974   \n",
       "min         1.000000              0.000000                 0.00000   \n",
       "25%    142114.250000              0.000000                 0.00000   \n",
       "50%    284227.500000              0.000000                 1.00000   \n",
       "75%    426340.750000              2.000000                 2.00000   \n",
       "max    568454.000000            866.000000               923.00000   \n",
       "\n",
       "               Score          Time  \n",
       "count  568454.000000  5.684540e+05  \n",
       "mean        4.183199  1.296257e+09  \n",
       "std         1.310436  4.804331e+07  \n",
       "min         1.000000  9.393408e+08  \n",
       "25%         4.000000  1.271290e+09  \n",
       "50%         5.000000  1.311120e+09  \n",
       "75%         5.000000  1.332720e+09  \n",
       "max         5.000000  1.351210e+09  "
      ]
     },
     "execution_count": 101,
     "metadata": {},
     "output_type": "execute_result"
    }
   ],
   "source": [
    "df.describe()"
   ]
  },
  {
   "cell_type": "code",
   "execution_count": 102,
   "id": "cafcd9dc",
   "metadata": {},
   "outputs": [
    {
     "data": {
      "text/html": [
       "<div>\n",
       "<style scoped>\n",
       "    .dataframe tbody tr th:only-of-type {\n",
       "        vertical-align: middle;\n",
       "    }\n",
       "\n",
       "    .dataframe tbody tr th {\n",
       "        vertical-align: top;\n",
       "    }\n",
       "\n",
       "    .dataframe thead th {\n",
       "        text-align: right;\n",
       "    }\n",
       "</style>\n",
       "<table border=\"1\" class=\"dataframe\">\n",
       "  <thead>\n",
       "    <tr style=\"text-align: right;\">\n",
       "      <th></th>\n",
       "      <th>Id</th>\n",
       "      <th>ProductId</th>\n",
       "      <th>UserId</th>\n",
       "      <th>ProfileName</th>\n",
       "      <th>HelpfulnessNumerator</th>\n",
       "      <th>HelpfulnessDenominator</th>\n",
       "      <th>Score</th>\n",
       "      <th>Time</th>\n",
       "      <th>Summary</th>\n",
       "      <th>Text</th>\n",
       "    </tr>\n",
       "  </thead>\n",
       "  <tbody>\n",
       "    <tr>\n",
       "      <th>0</th>\n",
       "      <td>False</td>\n",
       "      <td>False</td>\n",
       "      <td>False</td>\n",
       "      <td>False</td>\n",
       "      <td>False</td>\n",
       "      <td>False</td>\n",
       "      <td>False</td>\n",
       "      <td>False</td>\n",
       "      <td>False</td>\n",
       "      <td>False</td>\n",
       "    </tr>\n",
       "    <tr>\n",
       "      <th>1</th>\n",
       "      <td>False</td>\n",
       "      <td>False</td>\n",
       "      <td>False</td>\n",
       "      <td>False</td>\n",
       "      <td>False</td>\n",
       "      <td>False</td>\n",
       "      <td>False</td>\n",
       "      <td>False</td>\n",
       "      <td>False</td>\n",
       "      <td>False</td>\n",
       "    </tr>\n",
       "    <tr>\n",
       "      <th>2</th>\n",
       "      <td>False</td>\n",
       "      <td>False</td>\n",
       "      <td>False</td>\n",
       "      <td>False</td>\n",
       "      <td>False</td>\n",
       "      <td>False</td>\n",
       "      <td>False</td>\n",
       "      <td>False</td>\n",
       "      <td>False</td>\n",
       "      <td>False</td>\n",
       "    </tr>\n",
       "    <tr>\n",
       "      <th>3</th>\n",
       "      <td>False</td>\n",
       "      <td>False</td>\n",
       "      <td>False</td>\n",
       "      <td>False</td>\n",
       "      <td>False</td>\n",
       "      <td>False</td>\n",
       "      <td>False</td>\n",
       "      <td>False</td>\n",
       "      <td>False</td>\n",
       "      <td>False</td>\n",
       "    </tr>\n",
       "    <tr>\n",
       "      <th>4</th>\n",
       "      <td>False</td>\n",
       "      <td>False</td>\n",
       "      <td>False</td>\n",
       "      <td>False</td>\n",
       "      <td>False</td>\n",
       "      <td>False</td>\n",
       "      <td>False</td>\n",
       "      <td>False</td>\n",
       "      <td>False</td>\n",
       "      <td>False</td>\n",
       "    </tr>\n",
       "    <tr>\n",
       "      <th>...</th>\n",
       "      <td>...</td>\n",
       "      <td>...</td>\n",
       "      <td>...</td>\n",
       "      <td>...</td>\n",
       "      <td>...</td>\n",
       "      <td>...</td>\n",
       "      <td>...</td>\n",
       "      <td>...</td>\n",
       "      <td>...</td>\n",
       "      <td>...</td>\n",
       "    </tr>\n",
       "    <tr>\n",
       "      <th>568449</th>\n",
       "      <td>False</td>\n",
       "      <td>False</td>\n",
       "      <td>False</td>\n",
       "      <td>False</td>\n",
       "      <td>False</td>\n",
       "      <td>False</td>\n",
       "      <td>False</td>\n",
       "      <td>False</td>\n",
       "      <td>False</td>\n",
       "      <td>False</td>\n",
       "    </tr>\n",
       "    <tr>\n",
       "      <th>568450</th>\n",
       "      <td>False</td>\n",
       "      <td>False</td>\n",
       "      <td>False</td>\n",
       "      <td>False</td>\n",
       "      <td>False</td>\n",
       "      <td>False</td>\n",
       "      <td>False</td>\n",
       "      <td>False</td>\n",
       "      <td>False</td>\n",
       "      <td>False</td>\n",
       "    </tr>\n",
       "    <tr>\n",
       "      <th>568451</th>\n",
       "      <td>False</td>\n",
       "      <td>False</td>\n",
       "      <td>False</td>\n",
       "      <td>False</td>\n",
       "      <td>False</td>\n",
       "      <td>False</td>\n",
       "      <td>False</td>\n",
       "      <td>False</td>\n",
       "      <td>False</td>\n",
       "      <td>False</td>\n",
       "    </tr>\n",
       "    <tr>\n",
       "      <th>568452</th>\n",
       "      <td>False</td>\n",
       "      <td>False</td>\n",
       "      <td>False</td>\n",
       "      <td>False</td>\n",
       "      <td>False</td>\n",
       "      <td>False</td>\n",
       "      <td>False</td>\n",
       "      <td>False</td>\n",
       "      <td>False</td>\n",
       "      <td>False</td>\n",
       "    </tr>\n",
       "    <tr>\n",
       "      <th>568453</th>\n",
       "      <td>False</td>\n",
       "      <td>False</td>\n",
       "      <td>False</td>\n",
       "      <td>False</td>\n",
       "      <td>False</td>\n",
       "      <td>False</td>\n",
       "      <td>False</td>\n",
       "      <td>False</td>\n",
       "      <td>False</td>\n",
       "      <td>False</td>\n",
       "    </tr>\n",
       "  </tbody>\n",
       "</table>\n",
       "<p>568454 rows × 10 columns</p>\n",
       "</div>"
      ],
      "text/plain": [
       "           Id  ProductId  UserId  ProfileName  HelpfulnessNumerator  \\\n",
       "0       False      False   False        False                 False   \n",
       "1       False      False   False        False                 False   \n",
       "2       False      False   False        False                 False   \n",
       "3       False      False   False        False                 False   \n",
       "4       False      False   False        False                 False   \n",
       "...       ...        ...     ...          ...                   ...   \n",
       "568449  False      False   False        False                 False   \n",
       "568450  False      False   False        False                 False   \n",
       "568451  False      False   False        False                 False   \n",
       "568452  False      False   False        False                 False   \n",
       "568453  False      False   False        False                 False   \n",
       "\n",
       "        HelpfulnessDenominator  Score   Time  Summary   Text  \n",
       "0                        False  False  False    False  False  \n",
       "1                        False  False  False    False  False  \n",
       "2                        False  False  False    False  False  \n",
       "3                        False  False  False    False  False  \n",
       "4                        False  False  False    False  False  \n",
       "...                        ...    ...    ...      ...    ...  \n",
       "568449                   False  False  False    False  False  \n",
       "568450                   False  False  False    False  False  \n",
       "568451                   False  False  False    False  False  \n",
       "568452                   False  False  False    False  False  \n",
       "568453                   False  False  False    False  False  \n",
       "\n",
       "[568454 rows x 10 columns]"
      ]
     },
     "execution_count": 102,
     "metadata": {},
     "output_type": "execute_result"
    }
   ],
   "source": [
    "df.isnull()"
   ]
  },
  {
   "cell_type": "code",
   "execution_count": 103,
   "id": "2a7ba610",
   "metadata": {},
   "outputs": [
    {
     "data": {
      "text/plain": [
       "Id                         0\n",
       "ProductId                  0\n",
       "UserId                     0\n",
       "ProfileName               16\n",
       "HelpfulnessNumerator       0\n",
       "HelpfulnessDenominator     0\n",
       "Score                      0\n",
       "Time                       0\n",
       "Summary                   27\n",
       "Text                       0\n",
       "dtype: int64"
      ]
     },
     "execution_count": 103,
     "metadata": {},
     "output_type": "execute_result"
    }
   ],
   "source": [
    "df.isnull().sum()"
   ]
  },
  {
   "cell_type": "code",
   "execution_count": 105,
   "id": "47735120",
   "metadata": {},
   "outputs": [],
   "source": [
    "# Used to fill the missing values but in this case missiing values are catagorical data not numerical data\n",
    "# df['Score'] = df['Score'].fillna(df['Score'].mean())"
   ]
  },
  {
   "cell_type": "code",
   "execution_count": 106,
   "id": "c557cb0e",
   "metadata": {},
   "outputs": [],
   "source": [
    "df = df.dropna()"
   ]
  },
  {
   "cell_type": "code",
   "execution_count": 107,
   "id": "22cc231f",
   "metadata": {},
   "outputs": [
    {
     "data": {
      "text/plain": [
       "Id                        0\n",
       "ProductId                 0\n",
       "UserId                    0\n",
       "ProfileName               0\n",
       "HelpfulnessNumerator      0\n",
       "HelpfulnessDenominator    0\n",
       "Score                     0\n",
       "Time                      0\n",
       "Summary                   0\n",
       "Text                      0\n",
       "dtype: int64"
      ]
     },
     "execution_count": 107,
     "metadata": {},
     "output_type": "execute_result"
    }
   ],
   "source": [
    "df.isnull().sum()"
   ]
  },
  {
   "cell_type": "code",
   "execution_count": 110,
   "id": "8737c7c2",
   "metadata": {},
   "outputs": [
    {
     "name": "stdout",
     "output_type": "stream",
     "text": [
      "<class 'pandas.core.frame.DataFrame'>\n",
      "Int64Index: 568411 entries, 0 to 568453\n",
      "Data columns (total 10 columns):\n",
      " #   Column                  Non-Null Count   Dtype \n",
      "---  ------                  --------------   ----- \n",
      " 0   Id                      568411 non-null  int64 \n",
      " 1   ProductId               568411 non-null  object\n",
      " 2   UserId                  568411 non-null  object\n",
      " 3   ProfileName             568411 non-null  object\n",
      " 4   HelpfulnessNumerator    568411 non-null  int64 \n",
      " 5   HelpfulnessDenominator  568411 non-null  int64 \n",
      " 6   Score                   568411 non-null  int64 \n",
      " 7   Time                    568411 non-null  int64 \n",
      " 8   Summary                 568411 non-null  object\n",
      " 9   Text                    568411 non-null  object\n",
      "dtypes: int64(5), object(5)\n",
      "memory usage: 47.7+ MB\n"
     ]
    }
   ],
   "source": [
    "df.info()"
   ]
  },
  {
   "cell_type": "code",
   "execution_count": 111,
   "id": "10576f97",
   "metadata": {},
   "outputs": [
    {
     "name": "stdout",
     "output_type": "stream",
     "text": [
      "<class 'pandas.core.frame.DataFrame'>\n",
      "Int64Index: 568411 entries, 0 to 568453\n",
      "Data columns (total 5 columns):\n",
      " #   Column       Non-Null Count   Dtype \n",
      "---  ------       --------------   ----- \n",
      " 0   ProductId    568411 non-null  object\n",
      " 1   UserId       568411 non-null  object\n",
      " 2   ProfileName  568411 non-null  object\n",
      " 3   Summary      568411 non-null  object\n",
      " 4   Text         568411 non-null  object\n",
      "dtypes: object(5)\n",
      "memory usage: 26.0+ MB\n"
     ]
    }
   ],
   "source": [
    "df_cat = df.select_dtypes(include= ['object'])\n",
    "df_cat.info()"
   ]
  },
  {
   "cell_type": "code",
   "execution_count": 112,
   "id": "a5bf5582",
   "metadata": {},
   "outputs": [
    {
     "data": {
      "text/plain": [
       "array([5, 1, 4, 2, 3], dtype=int64)"
      ]
     },
     "execution_count": 112,
     "metadata": {},
     "output_type": "execute_result"
    }
   ],
   "source": [
    "df['Score'].unique()"
   ]
  },
  {
   "cell_type": "code",
   "execution_count": 113,
   "id": "76ee8d75",
   "metadata": {},
   "outputs": [
    {
     "data": {
      "text/plain": [
       "5    363111\n",
       "4     80655\n",
       "1     52264\n",
       "3     42638\n",
       "2     29743\n",
       "Name: Score, dtype: int64"
      ]
     },
     "execution_count": 113,
     "metadata": {},
     "output_type": "execute_result"
    }
   ],
   "source": [
    "df['Score'].value_counts()"
   ]
  },
  {
   "cell_type": "code",
   "execution_count": 114,
   "id": "97212b38",
   "metadata": {},
   "outputs": [
    {
     "name": "stderr",
     "output_type": "stream",
     "text": [
      "C:\\Users\\psriz\\AppData\\Local\\Temp\\ipykernel_6844\\4169637139.py:1: FutureWarning: The default value of numeric_only in DataFrameGroupBy.mean is deprecated. In a future version, numeric_only will default to False. Either specify numeric_only or select only columns which should be valid for the function.\n",
      "  df.groupby('Score').mean()\n"
     ]
    },
    {
     "data": {
      "text/html": [
       "<div>\n",
       "<style scoped>\n",
       "    .dataframe tbody tr th:only-of-type {\n",
       "        vertical-align: middle;\n",
       "    }\n",
       "\n",
       "    .dataframe tbody tr th {\n",
       "        vertical-align: top;\n",
       "    }\n",
       "\n",
       "    .dataframe thead th {\n",
       "        text-align: right;\n",
       "    }\n",
       "</style>\n",
       "<table border=\"1\" class=\"dataframe\">\n",
       "  <thead>\n",
       "    <tr style=\"text-align: right;\">\n",
       "      <th></th>\n",
       "      <th>Id</th>\n",
       "      <th>HelpfulnessNumerator</th>\n",
       "      <th>HelpfulnessDenominator</th>\n",
       "      <th>Time</th>\n",
       "    </tr>\n",
       "    <tr>\n",
       "      <th>Score</th>\n",
       "      <th></th>\n",
       "      <th></th>\n",
       "      <th></th>\n",
       "      <th></th>\n",
       "    </tr>\n",
       "  </thead>\n",
       "  <tbody>\n",
       "    <tr>\n",
       "      <th>1</th>\n",
       "      <td>282277.896047</td>\n",
       "      <td>2.735133</td>\n",
       "      <td>4.869738</td>\n",
       "      <td>1.303159e+09</td>\n",
       "    </tr>\n",
       "    <tr>\n",
       "      <th>2</th>\n",
       "      <td>280775.355277</td>\n",
       "      <td>1.859799</td>\n",
       "      <td>3.085264</td>\n",
       "      <td>1.301239e+09</td>\n",
       "    </tr>\n",
       "    <tr>\n",
       "      <th>3</th>\n",
       "      <td>279643.956893</td>\n",
       "      <td>1.701018</td>\n",
       "      <td>2.466485</td>\n",
       "      <td>1.300125e+09</td>\n",
       "    </tr>\n",
       "    <tr>\n",
       "      <th>4</th>\n",
       "      <td>281713.258608</td>\n",
       "      <td>1.390292</td>\n",
       "      <td>1.666084</td>\n",
       "      <td>1.296722e+09</td>\n",
       "    </tr>\n",
       "    <tr>\n",
       "      <th>5</th>\n",
       "      <td>285887.479828</td>\n",
       "      <td>1.675273</td>\n",
       "      <td>1.874160</td>\n",
       "      <td>1.294305e+09</td>\n",
       "    </tr>\n",
       "  </tbody>\n",
       "</table>\n",
       "</div>"
      ],
      "text/plain": [
       "                  Id  HelpfulnessNumerator  HelpfulnessDenominator  \\\n",
       "Score                                                                \n",
       "1      282277.896047              2.735133                4.869738   \n",
       "2      280775.355277              1.859799                3.085264   \n",
       "3      279643.956893              1.701018                2.466485   \n",
       "4      281713.258608              1.390292                1.666084   \n",
       "5      285887.479828              1.675273                1.874160   \n",
       "\n",
       "               Time  \n",
       "Score                \n",
       "1      1.303159e+09  \n",
       "2      1.301239e+09  \n",
       "3      1.300125e+09  \n",
       "4      1.296722e+09  \n",
       "5      1.294305e+09  "
      ]
     },
     "execution_count": 114,
     "metadata": {},
     "output_type": "execute_result"
    }
   ],
   "source": [
    "df.groupby('Score').mean()"
   ]
  },
  {
   "cell_type": "markdown",
   "id": "155e51bc",
   "metadata": {},
   "source": [
    "### 82) Analyze the sales data and visualize it using different plots"
   ]
  },
  {
   "cell_type": "code",
   "execution_count": 207,
   "id": "d2f5c578",
   "metadata": {},
   "outputs": [],
   "source": [
    "import pandas as pd\n",
    "import matplotlib.pyplot as plt\n",
    "import seaborn as sns"
   ]
  },
  {
   "cell_type": "code",
   "execution_count": 208,
   "id": "3c450e2d",
   "metadata": {},
   "outputs": [
    {
     "data": {
      "text/html": [
       "<div>\n",
       "<style scoped>\n",
       "    .dataframe tbody tr th:only-of-type {\n",
       "        vertical-align: middle;\n",
       "    }\n",
       "\n",
       "    .dataframe tbody tr th {\n",
       "        vertical-align: top;\n",
       "    }\n",
       "\n",
       "    .dataframe thead th {\n",
       "        text-align: right;\n",
       "    }\n",
       "</style>\n",
       "<table border=\"1\" class=\"dataframe\">\n",
       "  <thead>\n",
       "    <tr style=\"text-align: right;\">\n",
       "      <th></th>\n",
       "      <th>Invoice ID</th>\n",
       "      <th>Branch</th>\n",
       "      <th>City</th>\n",
       "      <th>Customer type</th>\n",
       "      <th>Gender</th>\n",
       "      <th>Product line</th>\n",
       "      <th>Unit price</th>\n",
       "      <th>Quantity</th>\n",
       "      <th>Tax 5%</th>\n",
       "      <th>Total</th>\n",
       "      <th>Date</th>\n",
       "      <th>Time</th>\n",
       "      <th>Payment</th>\n",
       "      <th>cogs</th>\n",
       "      <th>gross margin percentage</th>\n",
       "      <th>gross income</th>\n",
       "      <th>Rating</th>\n",
       "    </tr>\n",
       "  </thead>\n",
       "  <tbody>\n",
       "    <tr>\n",
       "      <th>0</th>\n",
       "      <td>750-67-8428</td>\n",
       "      <td>A</td>\n",
       "      <td>Yangon</td>\n",
       "      <td>Member</td>\n",
       "      <td>Female</td>\n",
       "      <td>Health and beauty</td>\n",
       "      <td>74.69</td>\n",
       "      <td>7</td>\n",
       "      <td>26.1415</td>\n",
       "      <td>548.9715</td>\n",
       "      <td>1/5/2019</td>\n",
       "      <td>13:08</td>\n",
       "      <td>Ewallet</td>\n",
       "      <td>522.83</td>\n",
       "      <td>4.761905</td>\n",
       "      <td>26.1415</td>\n",
       "      <td>9.1</td>\n",
       "    </tr>\n",
       "    <tr>\n",
       "      <th>1</th>\n",
       "      <td>226-31-3081</td>\n",
       "      <td>C</td>\n",
       "      <td>Naypyitaw</td>\n",
       "      <td>Normal</td>\n",
       "      <td>Female</td>\n",
       "      <td>Electronic accessories</td>\n",
       "      <td>15.28</td>\n",
       "      <td>5</td>\n",
       "      <td>3.8200</td>\n",
       "      <td>80.2200</td>\n",
       "      <td>3/8/2019</td>\n",
       "      <td>10:29</td>\n",
       "      <td>Cash</td>\n",
       "      <td>76.40</td>\n",
       "      <td>4.761905</td>\n",
       "      <td>3.8200</td>\n",
       "      <td>9.6</td>\n",
       "    </tr>\n",
       "    <tr>\n",
       "      <th>2</th>\n",
       "      <td>631-41-3108</td>\n",
       "      <td>A</td>\n",
       "      <td>Yangon</td>\n",
       "      <td>Normal</td>\n",
       "      <td>Male</td>\n",
       "      <td>Home and lifestyle</td>\n",
       "      <td>46.33</td>\n",
       "      <td>7</td>\n",
       "      <td>16.2155</td>\n",
       "      <td>340.5255</td>\n",
       "      <td>3/3/2019</td>\n",
       "      <td>13:23</td>\n",
       "      <td>Credit card</td>\n",
       "      <td>324.31</td>\n",
       "      <td>4.761905</td>\n",
       "      <td>16.2155</td>\n",
       "      <td>7.4</td>\n",
       "    </tr>\n",
       "    <tr>\n",
       "      <th>3</th>\n",
       "      <td>123-19-1176</td>\n",
       "      <td>A</td>\n",
       "      <td>Yangon</td>\n",
       "      <td>Member</td>\n",
       "      <td>Male</td>\n",
       "      <td>Health and beauty</td>\n",
       "      <td>58.22</td>\n",
       "      <td>8</td>\n",
       "      <td>23.2880</td>\n",
       "      <td>489.0480</td>\n",
       "      <td>1/27/2019</td>\n",
       "      <td>20:33</td>\n",
       "      <td>Ewallet</td>\n",
       "      <td>465.76</td>\n",
       "      <td>4.761905</td>\n",
       "      <td>23.2880</td>\n",
       "      <td>8.4</td>\n",
       "    </tr>\n",
       "    <tr>\n",
       "      <th>4</th>\n",
       "      <td>373-73-7910</td>\n",
       "      <td>A</td>\n",
       "      <td>Yangon</td>\n",
       "      <td>Normal</td>\n",
       "      <td>Male</td>\n",
       "      <td>Sports and travel</td>\n",
       "      <td>86.31</td>\n",
       "      <td>7</td>\n",
       "      <td>30.2085</td>\n",
       "      <td>634.3785</td>\n",
       "      <td>2/8/2019</td>\n",
       "      <td>10:37</td>\n",
       "      <td>Ewallet</td>\n",
       "      <td>604.17</td>\n",
       "      <td>4.761905</td>\n",
       "      <td>30.2085</td>\n",
       "      <td>5.3</td>\n",
       "    </tr>\n",
       "  </tbody>\n",
       "</table>\n",
       "</div>"
      ],
      "text/plain": [
       "    Invoice ID Branch       City Customer type  Gender  \\\n",
       "0  750-67-8428      A     Yangon        Member  Female   \n",
       "1  226-31-3081      C  Naypyitaw        Normal  Female   \n",
       "2  631-41-3108      A     Yangon        Normal    Male   \n",
       "3  123-19-1176      A     Yangon        Member    Male   \n",
       "4  373-73-7910      A     Yangon        Normal    Male   \n",
       "\n",
       "             Product line  Unit price  Quantity   Tax 5%     Total       Date  \\\n",
       "0       Health and beauty       74.69         7  26.1415  548.9715   1/5/2019   \n",
       "1  Electronic accessories       15.28         5   3.8200   80.2200   3/8/2019   \n",
       "2      Home and lifestyle       46.33         7  16.2155  340.5255   3/3/2019   \n",
       "3       Health and beauty       58.22         8  23.2880  489.0480  1/27/2019   \n",
       "4       Sports and travel       86.31         7  30.2085  634.3785   2/8/2019   \n",
       "\n",
       "    Time      Payment    cogs  gross margin percentage  gross income  Rating  \n",
       "0  13:08      Ewallet  522.83                 4.761905       26.1415     9.1  \n",
       "1  10:29         Cash   76.40                 4.761905        3.8200     9.6  \n",
       "2  13:23  Credit card  324.31                 4.761905       16.2155     7.4  \n",
       "3  20:33      Ewallet  465.76                 4.761905       23.2880     8.4  \n",
       "4  10:37      Ewallet  604.17                 4.761905       30.2085     5.3  "
      ]
     },
     "execution_count": 208,
     "metadata": {},
     "output_type": "execute_result"
    }
   ],
   "source": [
    "# Step 1: Load the Data\n",
    "df = pd.read_csv('Sales.csv')\n",
    "# Step 2: Explore the Data\n",
    "df.head()"
   ]
  },
  {
   "cell_type": "code",
   "execution_count": 209,
   "id": "79196508",
   "metadata": {},
   "outputs": [
    {
     "name": "stdout",
     "output_type": "stream",
     "text": [
      "<class 'pandas.core.frame.DataFrame'>\n",
      "RangeIndex: 1000 entries, 0 to 999\n",
      "Data columns (total 17 columns):\n",
      " #   Column                   Non-Null Count  Dtype  \n",
      "---  ------                   --------------  -----  \n",
      " 0   Invoice ID               1000 non-null   object \n",
      " 1   Branch                   1000 non-null   object \n",
      " 2   City                     1000 non-null   object \n",
      " 3   Customer type            1000 non-null   object \n",
      " 4   Gender                   1000 non-null   object \n",
      " 5   Product line             1000 non-null   object \n",
      " 6   Unit price               1000 non-null   float64\n",
      " 7   Quantity                 1000 non-null   int64  \n",
      " 8   Tax 5%                   1000 non-null   float64\n",
      " 9   Total                    1000 non-null   float64\n",
      " 10  Date                     1000 non-null   object \n",
      " 11  Time                     1000 non-null   object \n",
      " 12  Payment                  1000 non-null   object \n",
      " 13  cogs                     1000 non-null   float64\n",
      " 14  gross margin percentage  1000 non-null   float64\n",
      " 15  gross income             1000 non-null   float64\n",
      " 16  Rating                   1000 non-null   float64\n",
      "dtypes: float64(7), int64(1), object(9)\n",
      "memory usage: 132.9+ KB\n"
     ]
    }
   ],
   "source": [
    "df.info()"
   ]
  },
  {
   "cell_type": "code",
   "execution_count": 210,
   "id": "738855b0",
   "metadata": {},
   "outputs": [
    {
     "data": {
      "text/html": [
       "<div>\n",
       "<style scoped>\n",
       "    .dataframe tbody tr th:only-of-type {\n",
       "        vertical-align: middle;\n",
       "    }\n",
       "\n",
       "    .dataframe tbody tr th {\n",
       "        vertical-align: top;\n",
       "    }\n",
       "\n",
       "    .dataframe thead th {\n",
       "        text-align: right;\n",
       "    }\n",
       "</style>\n",
       "<table border=\"1\" class=\"dataframe\">\n",
       "  <thead>\n",
       "    <tr style=\"text-align: right;\">\n",
       "      <th></th>\n",
       "      <th>Unit price</th>\n",
       "      <th>Quantity</th>\n",
       "      <th>Tax 5%</th>\n",
       "      <th>Total</th>\n",
       "      <th>cogs</th>\n",
       "      <th>gross margin percentage</th>\n",
       "      <th>gross income</th>\n",
       "      <th>Rating</th>\n",
       "    </tr>\n",
       "  </thead>\n",
       "  <tbody>\n",
       "    <tr>\n",
       "      <th>count</th>\n",
       "      <td>1000.000000</td>\n",
       "      <td>1000.000000</td>\n",
       "      <td>1000.000000</td>\n",
       "      <td>1000.000000</td>\n",
       "      <td>1000.00000</td>\n",
       "      <td>1.000000e+03</td>\n",
       "      <td>1000.000000</td>\n",
       "      <td>1000.00000</td>\n",
       "    </tr>\n",
       "    <tr>\n",
       "      <th>mean</th>\n",
       "      <td>55.672130</td>\n",
       "      <td>5.510000</td>\n",
       "      <td>15.379369</td>\n",
       "      <td>322.966749</td>\n",
       "      <td>307.58738</td>\n",
       "      <td>4.761905e+00</td>\n",
       "      <td>15.379369</td>\n",
       "      <td>6.97270</td>\n",
       "    </tr>\n",
       "    <tr>\n",
       "      <th>std</th>\n",
       "      <td>26.494628</td>\n",
       "      <td>2.923431</td>\n",
       "      <td>11.708825</td>\n",
       "      <td>245.885335</td>\n",
       "      <td>234.17651</td>\n",
       "      <td>6.131498e-14</td>\n",
       "      <td>11.708825</td>\n",
       "      <td>1.71858</td>\n",
       "    </tr>\n",
       "    <tr>\n",
       "      <th>min</th>\n",
       "      <td>10.080000</td>\n",
       "      <td>1.000000</td>\n",
       "      <td>0.508500</td>\n",
       "      <td>10.678500</td>\n",
       "      <td>10.17000</td>\n",
       "      <td>4.761905e+00</td>\n",
       "      <td>0.508500</td>\n",
       "      <td>4.00000</td>\n",
       "    </tr>\n",
       "    <tr>\n",
       "      <th>25%</th>\n",
       "      <td>32.875000</td>\n",
       "      <td>3.000000</td>\n",
       "      <td>5.924875</td>\n",
       "      <td>124.422375</td>\n",
       "      <td>118.49750</td>\n",
       "      <td>4.761905e+00</td>\n",
       "      <td>5.924875</td>\n",
       "      <td>5.50000</td>\n",
       "    </tr>\n",
       "    <tr>\n",
       "      <th>50%</th>\n",
       "      <td>55.230000</td>\n",
       "      <td>5.000000</td>\n",
       "      <td>12.088000</td>\n",
       "      <td>253.848000</td>\n",
       "      <td>241.76000</td>\n",
       "      <td>4.761905e+00</td>\n",
       "      <td>12.088000</td>\n",
       "      <td>7.00000</td>\n",
       "    </tr>\n",
       "    <tr>\n",
       "      <th>75%</th>\n",
       "      <td>77.935000</td>\n",
       "      <td>8.000000</td>\n",
       "      <td>22.445250</td>\n",
       "      <td>471.350250</td>\n",
       "      <td>448.90500</td>\n",
       "      <td>4.761905e+00</td>\n",
       "      <td>22.445250</td>\n",
       "      <td>8.50000</td>\n",
       "    </tr>\n",
       "    <tr>\n",
       "      <th>max</th>\n",
       "      <td>99.960000</td>\n",
       "      <td>10.000000</td>\n",
       "      <td>49.650000</td>\n",
       "      <td>1042.650000</td>\n",
       "      <td>993.00000</td>\n",
       "      <td>4.761905e+00</td>\n",
       "      <td>49.650000</td>\n",
       "      <td>10.00000</td>\n",
       "    </tr>\n",
       "  </tbody>\n",
       "</table>\n",
       "</div>"
      ],
      "text/plain": [
       "        Unit price     Quantity       Tax 5%        Total        cogs  \\\n",
       "count  1000.000000  1000.000000  1000.000000  1000.000000  1000.00000   \n",
       "mean     55.672130     5.510000    15.379369   322.966749   307.58738   \n",
       "std      26.494628     2.923431    11.708825   245.885335   234.17651   \n",
       "min      10.080000     1.000000     0.508500    10.678500    10.17000   \n",
       "25%      32.875000     3.000000     5.924875   124.422375   118.49750   \n",
       "50%      55.230000     5.000000    12.088000   253.848000   241.76000   \n",
       "75%      77.935000     8.000000    22.445250   471.350250   448.90500   \n",
       "max      99.960000    10.000000    49.650000  1042.650000   993.00000   \n",
       "\n",
       "       gross margin percentage  gross income      Rating  \n",
       "count             1.000000e+03   1000.000000  1000.00000  \n",
       "mean              4.761905e+00     15.379369     6.97270  \n",
       "std               6.131498e-14     11.708825     1.71858  \n",
       "min               4.761905e+00      0.508500     4.00000  \n",
       "25%               4.761905e+00      5.924875     5.50000  \n",
       "50%               4.761905e+00     12.088000     7.00000  \n",
       "75%               4.761905e+00     22.445250     8.50000  \n",
       "max               4.761905e+00     49.650000    10.00000  "
      ]
     },
     "execution_count": 210,
     "metadata": {},
     "output_type": "execute_result"
    }
   ],
   "source": [
    "df.describe()"
   ]
  },
  {
   "cell_type": "code",
   "execution_count": 211,
   "id": "cad41a71",
   "metadata": {},
   "outputs": [],
   "source": [
    "# Step 3: Data Cleaning (if needed)\n",
    "# For example:\n",
    "# sales_data.dropna(inplace=True)\n",
    "# sales_data.drop_duplicates(inplace=True)"
   ]
  },
  {
   "cell_type": "code",
   "execution_count": 212,
   "id": "28a0d1f4",
   "metadata": {},
   "outputs": [
    {
     "data": {
      "image/png": "[encoded data removed]",
      "text/plain": [
       "<Figure size 1000x600 with 1 Axes>"
      ]
     },
     "metadata": {},
     "output_type": "display_data"
    }
   ],
   "source": [
    "# Histogram\n",
    "plt.figure(figsize=(10, 6))\n",
    "plt.hist(df['Quantity'], bins=10, color='blue', edgecolor='black')\n",
    "plt.xlabel('Quantity')\n",
    "plt.ylabel('Frequency')\n",
    "plt.title('Distribution of Quantity Sold')\n",
    "plt.show()"
   ]
  },
  {
   "cell_type": "code",
   "execution_count": 213,
   "id": "694cd0b0",
   "metadata": {},
   "outputs": [
    {
     "data": {
      "text/plain": [
       "([<matplotlib.patches.Wedge at 0x1504de34190>,\n",
       "  <matplotlib.patches.Wedge at 0x1504e252ce0>,\n",
       "  <matplotlib.patches.Wedge at 0x1504de372e0>],\n",
       " [Text(0.5590275782441871, 0.9473585207103166, 'Mandalay'),\n",
       "  Text(-1.0997280606941795, 0.0244579746058285, 'Naypyitaw'),\n",
       "  Text(0.5378253125953597, -0.9595540282504701, 'Yangon')],\n",
       " [Text(0.3049241335877384, 0.5167410112965363, '33.0%'),\n",
       "  Text(-0.5998516694695524, 0.013340713421360997, '33.2%'),\n",
       "  Text(0.2933592614156507, -0.5233931063184382, '33.7%')])"
      ]
     },
     "execution_count": 213,
     "metadata": {},
     "output_type": "execute_result"
    },
    {
     "data": {
      "image/png": "[encoded data removed]",
      "text/plain": [
       "<Figure size 640x480 with 1 Axes>"
      ]
     },
     "metadata": {},
     "output_type": "display_data"
    }
   ],
   "source": [
    "# Pie Chart: Sales Distribution by Region\n",
    "plt.subplot(1, 1, 1)\n",
    "sales_by_region = sales_data.groupby('City')['Quantity'].sum()\n",
    "plt.pie(sales_by_region, labels=sales_by_region.index, autopct='%1.1f%%')"
   ]
  },
  {
   "cell_type": "code",
   "execution_count": 218,
   "id": "46943afc",
   "metadata": {},
   "outputs": [
    {
     "data": {
      "image/png": "[encoded data removed]",
      "text/plain": [
       "<Figure size 1000x600 with 1 Axes>"
      ]
     },
     "metadata": {},
     "output_type": "display_data"
    }
   ],
   "source": [
    "# Scatter Plot\n",
    "plt.figure(figsize=(10, 6))\n",
    "plt.scatter(df['Unit price'], df['Total'], color='orange', alpha=0.5)\n",
    "plt.xlabel('Unit Price')\n",
    "plt.ylabel('Total Sales')\n",
    "plt.title('Scatter Plot: Unit Price vs Total Sales')\n",
    "plt.show()"
   ]
  },
  {
   "cell_type": "code",
   "execution_count": 216,
   "id": "e5641aa3",
   "metadata": {},
   "outputs": [
    {
     "name": "stderr",
     "output_type": "stream",
     "text": [
      "C:\\Users\\psriz\\AppData\\Local\\Temp\\ipykernel_6844\\3551810091.py:3: FutureWarning: The default value of numeric_only in DataFrame.corr is deprecated. In a future version, it will default to False. Select only valid columns or specify the value of numeric_only to silence this warning.\n",
      "  heatmap_data = df.corr()\n"
     ]
    },
    {
     "data": {
      "image/png": "[encoded data removed]",
      "text/plain": [
       "<Figure size 1000x600 with 2 Axes>"
      ]
     },
     "metadata": {},
     "output_type": "display_data"
    }
   ],
   "source": [
    "# Heatmap\n",
    "plt.figure(figsize=(10, 6))\n",
    "heatmap_data = df.corr()\n",
    "sns.heatmap(heatmap_data, annot=True, cmap='coolwarm')\n",
    "plt.title('Correlation Heatmap')\n",
    "plt.show()"
   ]
  }
 ],
 "metadata": {
  "kernelspec": {
   "display_name": "Python 3 (ipykernel)",
   "language": "python",
   "name": "python3"
  },
  "language_info": {
   "codemirror_mode": {
    "name": "ipython",
    "version": 3
   },
   "file_extension": ".py",
   "mimetype": "text/x-python",
   "name": "python",
   "nbconvert_exporter": "python",
   "pygments_lexer": "ipython3",
   "version": "3.10.9"
  }
 },
 "nbformat": 4,
 "nbformat_minor": 5
}
