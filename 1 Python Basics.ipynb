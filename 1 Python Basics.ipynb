{
 "cells": [
  {
   "cell_type": "code",
   "execution_count": 1,
   "id": "11307cd2",
   "metadata": {},
   "outputs": [
    {
     "name": "stdout",
     "output_type": "stream",
     "text": [
      "3.10.9\n"
     ]
    }
   ],
   "source": [
    "from platform import python_version\n",
    "print(python_version())"
   ]
  },
  {
   "cell_type": "markdown",
   "id": "d9f7f7f7",
   "metadata": {},
   "source": [
    "## Features of Python"
   ]
  },
  {
   "cell_type": "code",
   "execution_count": 3,
   "id": "11d4b049",
   "metadata": {},
   "outputs": [],
   "source": [
    "# Free and Open Source\n",
    "# Easy to code\n",
    "# Easy to Read\n",
    "# Object-Oriented Language\n",
    "# GUI Programming Support\n",
    "# High-Level Language\n",
    "# Large Community Support\n",
    "# Easy to Debug\n",
    "# Python is a Portable language\n",
    "# Large Standard Library \n",
    "# Dynamically Typed Language\n",
    "# Frontend and backend development"
   ]
  },
  {
   "cell_type": "markdown",
   "id": "b5bea070",
   "metadata": {},
   "source": [
    "## Interactive Shell in Python"
   ]
  },
  {
   "cell_type": "code",
   "execution_count": 4,
   "id": "194e296f",
   "metadata": {},
   "outputs": [],
   "source": [
    "# An interactive shell is one which reads commands from its standard-input, usually a terminal or command prompt.\n",
    "# An interactive shell allows users to interact with the system by entering commands manually. \n",
    "# The shell waits for user input, executes the command, and displays the output to the user. \n",
    "# This is typically used when you're working directly with a terminal or command-line interface.\n",
    "# Interactive mode is used when an user wants to run one single line or one block of code. \n",
    "# If one needs to write a long piece of Python code or if the Python script spans multiple files, interactive mode is not recommended. \n",
    "# In script mode, You write your code in a text file then save it with a . py extension."
   ]
  },
  {
   "cell_type": "markdown",
   "id": "ae890e95",
   "metadata": {},
   "source": [
    "## Keywords in Python"
   ]
  },
  {
   "cell_type": "code",
   "execution_count": null,
   "id": "f59e1d6c",
   "metadata": {},
   "outputs": [],
   "source": [
    "# Python Keywords are some predefined and reserved words in Python that have special meanings. \n",
    "# Keywords are used to define the syntax of the coding. \n",
    "# The keyword cannot be used as an identifier, function, or variable name. \n",
    "# All the keywords in Python are written in lowercase except True and False. \n",
    "# There are 35 keywords in Python 3.11.\n",
    "\n",
    "# In Python, there is an inbuilt keyword module that provides an iskeyword() function that can be used to check whether a given string is a valid keyword or not. \n",
    "# Furthermore, we can check the name of the keywords in Python by using the kwlist attribute of the keyword module.\n",
    "\n",
    "# Rules for Keywords in Python\n",
    "# Python keywords cannot be used as identifiers.\n",
    "# All the keywords in Python should be in lowercase except True and False."
   ]
  },
  {
   "cell_type": "code",
   "execution_count": 7,
   "id": "ad8e9731",
   "metadata": {},
   "outputs": [
    {
     "name": "stdout",
     "output_type": "stream",
     "text": [
      "['False', 'None', 'True', 'and', 'as', 'assert', 'async', 'await', 'break', 'class', 'continue', 'def', 'del', 'elif', 'else', 'except', 'finally', 'for', 'from', 'global', 'if', 'import', 'in', 'is', 'lambda', 'nonlocal', 'not', 'or', 'pass', 'raise', 'return', 'try', 'while', 'with', 'yield']\n"
     ]
    }
   ],
   "source": [
    "import keyword\n",
    "print(keyword.kwlist)"
   ]
  },
  {
   "cell_type": "markdown",
   "id": "e1e1c154",
   "metadata": {},
   "source": [
    "## Identifiers in Python"
   ]
  },
  {
   "cell_type": "code",
   "execution_count": 6,
   "id": "a54cfc3c",
   "metadata": {},
   "outputs": [],
   "source": [
    "# Identifiers in Python\n",
    "# Identifier is a user-defined name given to a variable, function, class, module, etc. \n",
    "# The identifier is a combination of character digits and an underscore. \n",
    "# They are case-sensitive - ‘num’ and ‘Num’ and ‘NUM’ are three different identifiers in python. \n",
    "# It is a good programming practice to give meaningful names to identifiers to make the code understandable.\n",
    "\n",
    "# Rules for Naming Python Identifiers\n",
    "# It cannot be a reserved python keyword.\n",
    "# It should not contain white space.\n",
    "# It can be a combination of A-Z, a-z, 0-9, or underscore.\n",
    "# It should start with an alphabet character or an underscore ( _ ).\n",
    "# It should not contain any special character other than an underscore ( _ )."
   ]
  },
  {
   "cell_type": "markdown",
   "id": "c9bd12c3",
   "metadata": {},
   "source": [
    "## Escape Sequence in Python"
   ]
  },
  {
   "cell_type": "code",
   "execution_count": 6,
   "id": "68cd0fb6",
   "metadata": {},
   "outputs": [],
   "source": [
    "# To insert characters that are illegal in a string, use an escape character.\n",
    "# An escape character is a backslash \\ followed by the character you want to insert.\n",
    "# An example of an illegal character is a double quote inside a string that is surrounded by double quotes."
   ]
  },
  {
   "cell_type": "code",
   "execution_count": 5,
   "id": "7516968c",
   "metadata": {},
   "outputs": [
    {
     "ename": "SyntaxError",
     "evalue": "invalid syntax. Perhaps you forgot a comma? (561214106.py, line 1)",
     "output_type": "error",
     "traceback": [
      "\u001b[1;36m  Cell \u001b[1;32mIn[5], line 1\u001b[1;36m\u001b[0m\n\u001b[1;33m    print('Hello 'Raihan'')\u001b[0m\n\u001b[1;37m          ^\u001b[0m\n\u001b[1;31mSyntaxError\u001b[0m\u001b[1;31m:\u001b[0m invalid syntax. Perhaps you forgot a comma?\n"
     ]
    }
   ],
   "source": [
    "print('Hello 'Raihan'')"
   ]
  },
  {
   "cell_type": "code",
   "execution_count": 49,
   "id": "892384e8",
   "metadata": {},
   "outputs": [
    {
     "name": "stdout",
     "output_type": "stream",
     "text": [
      "This is a \"Python\" print statement\n"
     ]
    }
   ],
   "source": [
    "print(\"This is a \\\"Python\\\" print statement\")"
   ]
  },
  {
   "cell_type": "code",
   "execution_count": 48,
   "id": "0bc627d2",
   "metadata": {},
   "outputs": [
    {
     "name": "stdout",
     "output_type": "stream",
     "text": [
      "This is a \n",
      "Python print statement\n"
     ]
    }
   ],
   "source": [
    "print(\"This is a \\nPython print statement\")"
   ]
  },
  {
   "cell_type": "markdown",
   "id": "41eb141a",
   "metadata": {},
   "source": [
    "## Comments in Python"
   ]
  },
  {
   "cell_type": "code",
   "execution_count": 1,
   "id": "1445c70c",
   "metadata": {},
   "outputs": [],
   "source": [
    "# single line comment\n",
    "'''\n",
    "This is a\n",
    "Multi line comment \n",
    "'''"
   ]
  },
  {
   "cell_type": "code",
   "execution_count": 50,
   "id": "fba808d3",
   "metadata": {},
   "outputs": [
    {
     "name": "stdout",
     "output_type": "stream",
     "text": [
      "Hello 10 10.5\n"
     ]
    }
   ],
   "source": [
    "print(\"Hello\", 10, 10.5)"
   ]
  },
  {
   "cell_type": "markdown",
   "id": "5f3df712",
   "metadata": {},
   "source": [
    "## Variables and Data Types in Python"
   ]
  },
  {
   "cell_type": "code",
   "execution_count": 51,
   "id": "72abe550",
   "metadata": {},
   "outputs": [],
   "source": [
    "a = 10 # Integer data type\n",
    "b = 10.50 # Float data type\n",
    "c = 10 + 5j # Complex data type\n",
    "d = \"Raihan\" # Sting data type\n",
    "e = True # Boolean data type\n",
    "f = None # Non Type data type\n",
    "\n",
    "numbers = [1,2,3,4,5,6,7,8,9,10,10,10] # List data type\n",
    "\n",
    "days = ('Monday','Tuesday','Wednesday','Thursday','Friday','Saturday','Sunday') # Tuple data type\n",
    "\n",
    "numbers = {1,2,3,4,5,6,7,8,9,10} # Set data type\n",
    "\n",
    "# Dictionary data type\n",
    "customers = { \n",
    "    'name':'Aman',\n",
    "    'age':20,\n",
    "    'gender':'M',\n",
    "    'country':'India',\n",
    "    'income':1000000,\n",
    "    'phone no':9977553311,\n",
    "}"
   ]
  },
  {
   "cell_type": "code",
   "execution_count": 52,
   "id": "bebf5331",
   "metadata": {},
   "outputs": [
    {
     "name": "stdout",
     "output_type": "stream",
     "text": [
      "<class 'dict'>\n"
     ]
    }
   ],
   "source": [
    "print(type(customers))"
   ]
  },
  {
   "cell_type": "markdown",
   "id": "05ac00d5",
   "metadata": {},
   "source": [
    "## Operators in Python"
   ]
  },
  {
   "cell_type": "code",
   "execution_count": 53,
   "id": "b9ca6feb",
   "metadata": {},
   "outputs": [],
   "source": [
    "# Arithmetic operators\n",
    "# Assignment operators (=, +=, -=, *=, /=, %=, **=)\n",
    "# Comparison operators (==, !=, >, <, >=, <=)\n",
    "# Logical operators (and, or, not)\n",
    "# Identity operators (is, is not)\n",
    "# Membership operators (in, not in)\n",
    "# Bitwise operators (&, |, ^, ~, <<, >>)"
   ]
  },
  {
   "cell_type": "code",
   "execution_count": 54,
   "id": "4c4e2f36",
   "metadata": {},
   "outputs": [
    {
     "name": "stdout",
     "output_type": "stream",
     "text": [
      "Addition of two numbers is :  15\n",
      "Subtraction of two numbers is :  5\n",
      "Multiplication of two numbers is :  50\n",
      "Division of two numbers is :  2.0\n",
      "Modulus of two numbers is :  0\n",
      "Exponentiation or Power of two numbers is :  100000\n"
     ]
    }
   ],
   "source": [
    "# Arithmetic operators\n",
    "a = 10\n",
    "b = 5\n",
    "print(\"Addition of two numbers is : \",a + b)\n",
    "print(\"Subtraction of two numbers is : \",a - b)\n",
    "print(\"Multiplication of two numbers is : \",a * b)\n",
    "print(\"Division of two numbers is : \",a / b)\n",
    "print(\"Modulus of two numbers is : \",a % b)\n",
    "print(\"Exponentiation or Power of two numbers is : \",a ** b)"
   ]
  },
  {
   "cell_type": "markdown",
   "id": "cbc8c0dd",
   "metadata": {},
   "source": [
    "## Precedence of Operators"
   ]
  },
  {
   "cell_type": "code",
   "execution_count": 19,
   "id": "7a283641",
   "metadata": {},
   "outputs": [
    {
     "data": {
      "text/plain": [
       "-1"
      ]
     },
     "execution_count": 19,
     "metadata": {},
     "output_type": "execute_result"
    }
   ],
   "source": [
    "# Run this code to see the image\n",
    "import cv2\n",
    "image = cv2.imread('Precedence of Operator.jpg')\n",
    "cv2.imshow(\"Precedence of Operator\",image)\n",
    "cv2.waitKey(0)"
   ]
  },
  {
   "cell_type": "markdown",
   "id": "f303a968",
   "metadata": {},
   "source": [
    "## Type Conversion or Type Casting Functions in Python"
   ]
  },
  {
   "cell_type": "code",
   "execution_count": 55,
   "id": "a7b32a85",
   "metadata": {},
   "outputs": [],
   "source": [
    "# Inbuilt fuctions in python for type conversion\n",
    "# int(), float(), str(), ord(), hex(), oct(), tuple(), set(), list(), dict()"
   ]
  },
  {
   "cell_type": "code",
   "execution_count": 56,
   "id": "f3ba69a5",
   "metadata": {},
   "outputs": [
    {
     "name": "stdout",
     "output_type": "stream",
     "text": [
      "1020\n"
     ]
    }
   ],
   "source": [
    "a = \"10\" # a is a string\n",
    "b = \"20\" # b is a string\n",
    "print(a + b) # string concatination"
   ]
  },
  {
   "cell_type": "code",
   "execution_count": 57,
   "id": "a7914956",
   "metadata": {},
   "outputs": [
    {
     "name": "stdout",
     "output_type": "stream",
     "text": [
      "30\n"
     ]
    }
   ],
   "source": [
    "a = \"10\" # a is a string\n",
    "b = \"20\" # b is a string\n",
    "print(int(a) + int(b)) # addition of two numbers after type conversion from string to integer"
   ]
  },
  {
   "cell_type": "code",
   "execution_count": 20,
   "id": "34dd0acb",
   "metadata": {},
   "outputs": [
    {
     "name": "stdout",
     "output_type": "stream",
     "text": [
      "<class 'list'>\n",
      "[1, 2, 3, 4, 5, 6, 7, 8, 9, 10, 10, 10]\n",
      "<class 'set'>\n",
      "{1, 2, 3, 4, 5, 6, 7, 8, 9, 10}\n"
     ]
    }
   ],
   "source": [
    "# Type conversion of a list data type to a set data type\n",
    "numbers = [1,2,3,4,5,6,7,8,9,10,10,10] # List data type\n",
    "print(type(numbers))\n",
    "print(numbers)\n",
    "\n",
    "a = set(numbers)\n",
    "print(type(a))\n",
    "print(a)"
   ]
  },
  {
   "cell_type": "markdown",
   "id": "fb33e55e",
   "metadata": {},
   "source": [
    "## Short Circuit vs Lazy Evaluation in Python"
   ]
  },
  {
   "cell_type": "code",
   "execution_count": 22,
   "id": "fa20da67",
   "metadata": {},
   "outputs": [
    {
     "name": "stdout",
     "output_type": "stream",
     "text": [
      "Condition is true\n"
     ]
    }
   ],
   "source": [
    "# Short Circuit\n",
    "# No need to evaluate second operand in case of or as if first condition is is True then the whole condition is True.\n",
    "\n",
    "if (2<5 or 10<5):\n",
    "    print(\"Condition is true\")\n",
    "else:\n",
    "    print(\"Condition is not true\")"
   ]
  },
  {
   "cell_type": "code",
   "execution_count": 23,
   "id": "3d28e324",
   "metadata": {},
   "outputs": [
    {
     "name": "stdout",
     "output_type": "stream",
     "text": [
      "Condition is not true\n"
     ]
    }
   ],
   "source": [
    "# Lazy Evaluation\n",
    "# In programming language, lazy evaluation is an evaluation strategy \n",
    "# which delays the evaluation of an expression until its value is needed.\n",
    "\n",
    "if (2<5 and 10<5):\n",
    "    print(\"Condition is true\")\n",
    "else:\n",
    "    print(\"Condition is not true\")"
   ]
  },
  {
   "cell_type": "markdown",
   "id": "feaa9644",
   "metadata": {},
   "source": [
    "## Taking User Input in Python"
   ]
  },
  {
   "cell_type": "code",
   "execution_count": 59,
   "id": "3a209ecb",
   "metadata": {},
   "outputs": [
    {
     "name": "stdout",
     "output_type": "stream",
     "text": [
      "Enter your name : Raihan\n",
      "Enter your age : 20\n",
      "Raihan is 20 years old\n"
     ]
    }
   ],
   "source": [
    "name = input(\"Enter your name : \")\n",
    "age = int(input(\"Enter your age : \"))\n",
    "\n",
    "print(f\"{name} is {age} years old\")"
   ]
  },
  {
   "cell_type": "markdown",
   "id": "2648a497",
   "metadata": {},
   "source": [
    "## Command Line Arguments"
   ]
  },
  {
   "cell_type": "code",
   "execution_count": null,
   "id": "a65a6a9d",
   "metadata": {},
   "outputs": [],
   "source": [
    "# The arguments that are given after the name of the program in the command line shell of the operating system are known as Command Line Arguments. \n",
    "# Python provides various ways of dealing with these types of arguments. \n",
    "# The three most common are: \n",
    "\n",
    "# Using sys.argv\n",
    "# Using getopt module\n",
    "# Using argparse module\n",
    "\n",
    "# 1st Method explained\n",
    "# The sys module provides functions and variables used to manipulate different parts of the Python runtime environment. \n",
    "# This module provides access to some variables used or maintained by the interpreter and to functions that interact strongly with the interpreter.\n",
    "# One such variable is sys.argv which is a simple list structure. It’s main purpose are:\n",
    "\n",
    "# It is a list of command line arguments.\n",
    "# len(sys.argv) provides the number of command line arguments.\n",
    "# sys.argv[0] is the name of the current Python script. "
   ]
  },
  {
   "cell_type": "code",
   "execution_count": null,
   "id": "24c048e2",
   "metadata": {},
   "outputs": [],
   "source": [
    "import sys\n",
    " \n",
    "# total arguments\n",
    "n = len(sys.argv)\n",
    "print(\"Total arguments passed:\", n)\n",
    " \n",
    "# Arguments passed\n",
    "print(\"\\nName of Python script:\", sys.argv[0])\n",
    " \n",
    "print(\"\\nArguments passed:\", end = \" \")\n",
    "for i in range(1, n):\n",
    "    print(sys.argv[i], end = \" \")\n",
    "     \n",
    "# Addition of numbers\n",
    "Sum = 0\n",
    "# Using argparse module\n",
    "for i in range(1, n):\n",
    "    Sum += int(sys.argv[i])\n",
    "     \n",
    "print(\"\\n\\nResult:\", Sum)"
   ]
  },
  {
   "cell_type": "markdown",
   "id": "366de7da",
   "metadata": {},
   "source": [
    "## Conditional Statements in Python"
   ]
  },
  {
   "cell_type": "code",
   "execution_count": 2,
   "id": "77d90c64",
   "metadata": {},
   "outputs": [
    {
     "name": "stdout",
     "output_type": "stream",
     "text": [
      "Enter your age : 20\n",
      "You can drive !\n"
     ]
    }
   ],
   "source": [
    "# if else\n",
    "age = int(input(\"Enter your age : \"))\n",
    "if age < 18:\n",
    "    print(\"You cannot drive !\")\n",
    "else:\n",
    "    print(\"You can drive !\")"
   ]
  },
  {
   "cell_type": "code",
   "execution_count": 3,
   "id": "08d571ad",
   "metadata": {},
   "outputs": [
    {
     "name": "stdout",
     "output_type": "stream",
     "text": [
      "Enter a number : 0\n",
      "Entered number is zero\n"
     ]
    }
   ],
   "source": [
    "# if elif else\n",
    "number = int(input(\"Enter a number : \"))\n",
    "if number < 0:\n",
    "    print(\"Entered number is negative\")\n",
    "elif number == 0:\n",
    "    print(\"Entered number is zero\")\n",
    "else:\n",
    "    print(\"Entered number is positive\")"
   ]
  },
  {
   "cell_type": "code",
   "execution_count": 4,
   "id": "a0d59904",
   "metadata": {},
   "outputs": [
    {
     "name": "stdout",
     "output_type": "stream",
     "text": [
      "Enter your age : 15\n",
      "You are a teenager\n"
     ]
    }
   ],
   "source": [
    "# if elif else\n",
    "age = int(input(\"Enter your age : \"))\n",
    "if age <= 0:\n",
    "    print(\"You are not yet born\")\n",
    "elif age > 0 and age <= 2:\n",
    "    print(\"You are a baby\")\n",
    "elif age > 2 and age <=18:\n",
    "    print(\"You are a teenager\")\n",
    "elif age > 18 and age <=60:\n",
    "    print(\"You are an adult\")\n",
    "else:\n",
    "    print(\"You are an old man\")"
   ]
  },
  {
   "cell_type": "code",
   "execution_count": 7,
   "id": "cb282806",
   "metadata": {},
   "outputs": [
    {
     "name": "stdout",
     "output_type": "stream",
     "text": [
      "Enter a number : -5\n",
      "Negative number\n"
     ]
    }
   ],
   "source": [
    "# Nested if else\n",
    "number = int(input(\"Enter a number : \"))\n",
    "if number >= 0: \n",
    "    if number == 0: \n",
    "        print(\"Zero\") \n",
    "    else: \n",
    "        print(\"Positive number\") \n",
    "else: \n",
    "    print(\"Negative number\")"
   ]
  },
  {
   "cell_type": "code",
   "execution_count": 8,
   "id": "c447d28e",
   "metadata": {},
   "outputs": [
    {
     "name": "stdout",
     "output_type": "stream",
     "text": [
      "18:10:12\n",
      "Good Evening\n"
     ]
    }
   ],
   "source": [
    "# Excercise\n",
    "# Create an if else condition statement which greets the user based on the current time\n",
    "import time\n",
    "print(time.strftime('%H:%M:%S'))\n",
    "hour = int(time.strftime('%H'))\n",
    "\n",
    "if  hour >= 0 and hour < 12:\n",
    "    print(\"Good Morning\")\n",
    "elif  hour >= 12 and hour < 18:\n",
    "    print(\"Good Afternoon\")\n",
    "else:\n",
    "    print(\"Good Evening\")"
   ]
  },
  {
   "cell_type": "markdown",
   "id": "1f65de81",
   "metadata": {},
   "source": [
    "## Match Case Statements in Python"
   ]
  },
  {
   "cell_type": "markdown",
   "id": "139b52ac",
   "metadata": {},
   "source": [
    "#### Same as switch case statement in c programming language"
   ]
  },
  {
   "cell_type": "code",
   "execution_count": 26,
   "id": "ae276803",
   "metadata": {},
   "outputs": [
    {
     "name": "stdout",
     "output_type": "stream",
     "text": [
      "Enter your age : 1\n",
      "You are 1 year old\n"
     ]
    }
   ],
   "source": [
    "age = int(input(\"Enter your age : \"))\n",
    "match age:\n",
    "    case 0:\n",
    "        print(\"You are not yet born\")\n",
    "    case 1:\n",
    "        print(\"You are 1 year old\")\n",
    "    case 1:\n",
    "        print(\"You are 1 year old\")"
   ]
  },
  {
   "cell_type": "markdown",
   "id": "2c5a38cf",
   "metadata": {},
   "source": [
    "## For Loops in Python"
   ]
  },
  {
   "cell_type": "code",
   "execution_count": 30,
   "id": "1f4d3111",
   "metadata": {},
   "outputs": [
    {
     "name": "stdout",
     "output_type": "stream",
     "text": [
      "R a i h a n "
     ]
    }
   ],
   "source": [
    "name = \"Raihan\"\n",
    "for i in name:\n",
    "    print(i, end = \" \")"
   ]
  },
  {
   "cell_type": "code",
   "execution_count": 43,
   "id": "7e5ef35d",
   "metadata": {},
   "outputs": [
    {
     "name": "stdout",
     "output_type": "stream",
     "text": [
      "R a i h a n   i s   2 0   y e a r s   o l d "
     ]
    }
   ],
   "source": [
    "name = \"Raihan is 20 years old\"\n",
    "for i in name:\n",
    "    print(i, end = \" \")"
   ]
  },
  {
   "cell_type": "code",
   "execution_count": 40,
   "id": "1bf0c71c",
   "metadata": {},
   "outputs": [
    {
     "name": "stdout",
     "output_type": "stream",
     "text": [
      "Raihan\n",
      "Ankit\n",
      "Rohan\n",
      "Ajay\n"
     ]
    }
   ],
   "source": [
    "names = [\"Raihan\", \"Ankit\", \"Rohan\", \"Ajay\"] # This is a list\n",
    "for i in names:\n",
    "    print(i)"
   ]
  },
  {
   "cell_type": "code",
   "execution_count": 56,
   "id": "8bfed7d7",
   "metadata": {},
   "outputs": [
    {
     "name": "stdout",
     "output_type": "stream",
     "text": [
      "Red\n",
      "R\n",
      "e\n",
      "d\n",
      "Black\n",
      "B\n",
      "l\n",
      "a\n",
      "c\n",
      "k\n"
     ]
    }
   ],
   "source": [
    "# Nested loops\n",
    "colors = [\"Red\", \"Black\"] # This is a list\n",
    "for colors in colors:\n",
    "    print(colors)\n",
    "    for i in colors:\n",
    "        print(i)"
   ]
  },
  {
   "cell_type": "code",
   "execution_count": 36,
   "id": "ec13f35a",
   "metadata": {},
   "outputs": [
    {
     "name": "stdout",
     "output_type": "stream",
     "text": [
      "1 2 3 4 5 6 7 8 9 "
     ]
    }
   ],
   "source": [
    "for i in range(1,10): # Range function always print values from 1 to n-1\n",
    "    print(i, end = \" \")"
   ]
  },
  {
   "cell_type": "code",
   "execution_count": 55,
   "id": "5aa2fcf3",
   "metadata": {},
   "outputs": [
    {
     "name": "stdout",
     "output_type": "stream",
     "text": [
      "1 3 5 7 9 "
     ]
    }
   ],
   "source": [
    "for i in range(1,10,2):\n",
    "    print(i, end = \" \")"
   ]
  },
  {
   "cell_type": "markdown",
   "id": "9d2ac5e3",
   "metadata": {},
   "source": [
    "## While Loops in Python"
   ]
  },
  {
   "cell_type": "code",
   "execution_count": 58,
   "id": "47164902",
   "metadata": {},
   "outputs": [
    {
     "name": "stdout",
     "output_type": "stream",
     "text": [
      "0 1 2 3 4 5 6 7 8 9 "
     ]
    }
   ],
   "source": [
    "i = 0\n",
    "while (i<10):\n",
    "    print(i, end = \" \")\n",
    "    i = i + 1"
   ]
  },
  {
   "cell_type": "markdown",
   "id": "c9b1975f",
   "metadata": {},
   "source": [
    "## Break and Continue in Python"
   ]
  },
  {
   "cell_type": "code",
   "execution_count": 74,
   "id": "ddfaec25",
   "metadata": {},
   "outputs": [
    {
     "name": "stdout",
     "output_type": "stream",
     "text": [
      "1\n",
      "2\n",
      "3\n",
      "4\n",
      "Loop ended\n"
     ]
    }
   ],
   "source": [
    "# break means loop ko chod ke nikal jao\n",
    "for i in range(1,11):\n",
    "    if i == 5:\n",
    "        break\n",
    "    print(i)\n",
    "print(\"Loop ended\")"
   ]
  },
  {
   "cell_type": "code",
   "execution_count": 75,
   "id": "4768e5b9",
   "metadata": {},
   "outputs": [
    {
     "name": "stdout",
     "output_type": "stream",
     "text": [
      "1\n",
      "2\n",
      "3\n",
      "4\n",
      "6\n",
      "7\n",
      "8\n",
      "9\n",
      "10\n",
      "Loop ended\n"
     ]
    }
   ],
   "source": [
    "# break means iteration ko chod ke nikal jao\n",
    "for i in range(1,11):\n",
    "    if i == 5:\n",
    "        continue\n",
    "    print(i)\n",
    "print(\"Loop ended\")"
   ]
  },
  {
   "cell_type": "markdown",
   "id": "f8883101",
   "metadata": {},
   "source": [
    "## Functions in Python"
   ]
  },
  {
   "cell_type": "code",
   "execution_count": 5,
   "id": "43198d63",
   "metadata": {},
   "outputs": [],
   "source": [
    "# Function without a body\n",
    "def function_name():\n",
    "    pass"
   ]
  },
  {
   "cell_type": "code",
   "execution_count": 6,
   "id": "bb0e2762",
   "metadata": {},
   "outputs": [
    {
     "name": "stdout",
     "output_type": "stream",
     "text": [
      "Enter the 1st number : 10\n",
      "Enter the 2nd number : 5\n",
      "Enter the 2rd number : 15\n",
      "15 is the largest number\n"
     ]
    }
   ],
   "source": [
    "# Function without arguments & calling a function\n",
    "def largest():\n",
    "    a = int(input(\"Enter the 1st number : \"))\n",
    "    b = int(input(\"Enter the 2nd number : \"))\n",
    "    c = int(input(\"Enter the 2rd number : \"))\n",
    "    if a>b and a>c:\n",
    "        print(f\"{a} is the largest number\")\n",
    "    elif b>a and b>c:\n",
    "        print(f\"{b} is the largest number\")\n",
    "    else:\n",
    "        print(f\"{c} is the largest number\")\n",
    "\n",
    "largest()"
   ]
  },
  {
   "cell_type": "markdown",
   "id": "5b752b16",
   "metadata": {},
   "source": [
    "## Formal vs Actual Arguments in Python"
   ]
  },
  {
   "cell_type": "code",
   "execution_count": null,
   "id": "174b22e7",
   "metadata": {},
   "outputs": [],
   "source": [
    "# An argument is a variable (which contains data) or a parameter that is sent to the function as input. \n",
    "# Before getting into argument types, let’s get familiar with words formal and actual arguments.\n",
    "\n",
    "# Formal arguments \n",
    "# When a function is defined it (may) has (have) some parameters within the parentheses. \n",
    "# These parameters, which receive the values sent from the function call, are called formal arguments.\n",
    "\n",
    "# Actual arguments\n",
    "# The parameters which we use in the function call or the parameters which we use to send the values/data during the function call are called actual arguments."
   ]
  },
  {
   "cell_type": "code",
   "execution_count": 7,
   "id": "38ea7f76",
   "metadata": {},
   "outputs": [
    {
     "name": "stdout",
     "output_type": "stream",
     "text": [
      "25\n"
     ]
    }
   ],
   "source": [
    "def sum(a, b):\n",
    "    c = a + b            # a and b are formal arguments\n",
    "    print(c)\n",
    "    \n",
    "# call the function\n",
    "x = 10\n",
    "y = 15\n",
    "sum(x, y)            # x and y are actual arguments"
   ]
  },
  {
   "cell_type": "markdown",
   "id": "fa6fb2ac",
   "metadata": {},
   "source": [
    "## Function Arguments in Python"
   ]
  },
  {
   "cell_type": "code",
   "execution_count": null,
   "id": "281e361d",
   "metadata": {},
   "outputs": [],
   "source": [
    "# Default Arguments\n",
    "# Keyword Arguments\n",
    "# Required Arguments\n",
    "# Variable length Arguments (args and kwargs)"
   ]
  },
  {
   "cell_type": "code",
   "execution_count": 30,
   "id": "e922011b",
   "metadata": {},
   "outputs": [
    {
     "name": "stdout",
     "output_type": "stream",
     "text": [
      "Hello Jonh Wick xyz\n",
      "Hello Muhammed Raihan P. S.\n"
     ]
    }
   ],
   "source": [
    "# Default Arguments \n",
    "# Default arguments gets overidden by the arguments given at the time of function calling\n",
    "def name(fname = \"Jonh\", mname = \"Wick\", lname = \"xyz\"):\n",
    "    print(f\"Hello {fname} {mname} {lname}\")\n",
    "\n",
    "name()\n",
    "name(fname = \"Muhammed\", mname = \"Raihan\", lname = \"P. S.\")"
   ]
  },
  {
   "cell_type": "code",
   "execution_count": 17,
   "id": "0a4d0617",
   "metadata": {},
   "outputs": [
    {
     "name": "stdout",
     "output_type": "stream",
     "text": [
      "Hello Muhammed Raihan P. S.\n"
     ]
    }
   ],
   "source": [
    "# Keyword Arguments\n",
    "# Order of arguments does not matter in Keyword arguments\n",
    "def name(fname, mname, lname):\n",
    "    print(f\"Hello {fname} {mname} {lname}\")\n",
    "\n",
    "name(mname = \"Raihan\", lname = \"P. S.\", fname = \"Muhammed\")"
   ]
  },
  {
   "cell_type": "code",
   "execution_count": 21,
   "id": "353a9548",
   "metadata": {},
   "outputs": [
    {
     "name": "stdout",
     "output_type": "stream",
     "text": [
      "Hello Muhammed Raihan P. S.\n"
     ]
    }
   ],
   "source": [
    "# Required Arguments\n",
    "# If no default value is provided in the function definition then its value must be passed during function calling\n",
    "def name(fname, mname = \"Raihan\", lname = \"P. S.\"):\n",
    "    print(f\"Hello {fname} {mname} {lname}\")\n",
    "\n",
    "name(fname = \"Muhammed\")"
   ]
  },
  {
   "cell_type": "code",
   "execution_count": 10,
   "id": "07e8f828",
   "metadata": {},
   "outputs": [
    {
     "name": "stdout",
     "output_type": "stream",
     "text": [
      "15\n",
      "first : Muhammed\n",
      "mid : Raihan\n",
      "last : P. S.\n"
     ]
    }
   ],
   "source": [
    "# Variable length Arguments args and kwargs\n",
    "def calculator(*numbers):\n",
    "    sum = 0\n",
    "    for i in numbers:\n",
    "        sum = sum + i\n",
    "    print(sum)\n",
    "    \n",
    "calculator(1,2,3,4,5)\n",
    "\n",
    "def dictionary(**kwargs):\n",
    "    for key, value in kwargs.items():\n",
    "        print(f\"{key} : {value}\")\n",
    "\n",
    "dictionary(first='Muhammed', mid='Raihan', last='P. S.')"
   ]
  },
  {
   "cell_type": "markdown",
   "id": "4301caa6",
   "metadata": {},
   "source": [
    "## Decorators in Python"
   ]
  },
  {
   "cell_type": "code",
   "execution_count": null,
   "id": "584de54b",
   "metadata": {},
   "outputs": [],
   "source": []
  },
  {
   "cell_type": "markdown",
   "id": "0bedbec7",
   "metadata": {},
   "source": [
    "## Iterators in Python"
   ]
  },
  {
   "cell_type": "code",
   "execution_count": null,
   "id": "15d37dd5",
   "metadata": {},
   "outputs": [],
   "source": []
  },
  {
   "cell_type": "markdown",
   "id": "e2d4335f",
   "metadata": {},
   "source": [
    "## Generators in Python"
   ]
  },
  {
   "cell_type": "code",
   "execution_count": null,
   "id": "9903112a",
   "metadata": {},
   "outputs": [],
   "source": []
  },
  {
   "cell_type": "markdown",
   "id": "ff6b65eb",
   "metadata": {},
   "source": [
    "## Recursion in Python"
   ]
  },
  {
   "cell_type": "code",
   "execution_count": 1,
   "id": "f92f3aeb",
   "metadata": {},
   "outputs": [
    {
     "name": "stdout",
     "output_type": "stream",
     "text": [
      "Enter the number : 5\n",
      "Factorial of 5 is 120\n"
     ]
    }
   ],
   "source": [
    "# Function calling it self\n",
    "def factorial(n):\n",
    "    if n==0:\n",
    "        return 1\n",
    "    else:\n",
    "        return n * factorial(n-1)\n",
    "    \n",
    "num = int(input(\"Enter the number : \")) \n",
    "f = factorial(num)\n",
    "print(f\"Factorial of {num} is {f}\")"
   ]
  },
  {
   "cell_type": "markdown",
   "id": "019fe7fb",
   "metadata": {},
   "source": [
    "## Modules"
   ]
  },
  {
   "cell_type": "code",
   "execution_count": null,
   "id": "b4823022",
   "metadata": {},
   "outputs": [],
   "source": [
    "# Python has a built-in module that you can use to make random numbers.\n",
    "# Python Random module generates random numbers in Python. These are pseudo-random numbers means they are not truly random.\n",
    "# This module can be used to perform random actions such as generating random numbers.\n",
    "# Printing random a value for a list or string, etc. It is an in-built function in Python."
   ]
  },
  {
   "cell_type": "code",
   "execution_count": 38,
   "id": "7b8a23bc",
   "metadata": {},
   "outputs": [
    {
     "name": "stdout",
     "output_type": "stream",
     "text": [
      "1\n",
      "10\n"
     ]
    }
   ],
   "source": [
    "import random\n",
    "num = [1, 2, 3, 4, 5, 6]\n",
    "print(random.choice(num))\n",
    "print(random.randint(0, 10))"
   ]
  },
  {
   "cell_type": "code",
   "execution_count": null,
   "id": "9199022d",
   "metadata": {},
   "outputs": [],
   "source": [
    "# Python math Module\n",
    "# Python has a built-in module that you can use for mathematical tasks.\n",
    "# The math module has a set of methods and constants.\n",
    "# The math module provides the math functions to deal with basic operations such as addition(+), subtraction(-), \n",
    "# multiplication(*), division(/), and advanced operations like trigonometric, logarithmic, and exponential functions."
   ]
  },
  {
   "cell_type": "code",
   "execution_count": 39,
   "id": "ab0c11a6",
   "metadata": {},
   "outputs": [
    {
     "name": "stdout",
     "output_type": "stream",
     "text": [
      "3.141592653589793\n"
     ]
    }
   ],
   "source": [
    "import math  \n",
    "print (math.pi)"
   ]
  },
  {
   "cell_type": "markdown",
   "id": "25667233",
   "metadata": {},
   "source": [
    "## F strings in python"
   ]
  },
  {
   "cell_type": "code",
   "execution_count": 1,
   "id": "921c9eca",
   "metadata": {},
   "outputs": [
    {
     "name": "stdout",
     "output_type": "stream",
     "text": [
      "Hey my name is Raihan and i am 21 years old\n",
      "Hey my name is Rizwan and i am 25 years old\n",
      "Hey my name is Rohan and i am 23 years old\n"
     ]
    }
   ],
   "source": [
    "name = \"Raihan\"\n",
    "age = 21\n",
    "letter = \"Hey my name is {} and i am {} years old\"\n",
    "print(letter.format(name,age))\n",
    "\n",
    "name = \"Rizwan\"\n",
    "age = 25\n",
    "letter = \"Hey my name is {1} and i am {0} years old\"\n",
    "print(letter.format(age,name))\n",
    "\n",
    "name = \"Rohan\"\n",
    "age = 23\n",
    "print(f\"Hey my name is {name} and i am {age} years old\")"
   ]
  },
  {
   "cell_type": "markdown",
   "id": "617581e7",
   "metadata": {},
   "source": [
    "## Docstrings in Python"
   ]
  },
  {
   "cell_type": "code",
   "execution_count": 3,
   "id": "4ab544d5",
   "metadata": {},
   "outputs": [
    {
     "name": "stdout",
     "output_type": "stream",
     "text": [
      "15\n",
      "This function uses args and returns the sum of all the numbers passed as argumnets\n"
     ]
    }
   ],
   "source": [
    "def calculator(*numbers):\n",
    "    '''This function uses args and returns the sum of all the numbers passed as argumnets'''\n",
    "    sum = 0\n",
    "    for i in numbers:\n",
    "        sum = sum + i\n",
    "    print(sum)\n",
    "    \n",
    "calculator(1,2,3,4,5)\n",
    "print(calculator.__doc__)"
   ]
  },
  {
   "cell_type": "code",
   "execution_count": 4,
   "id": "1748d911",
   "metadata": {},
   "outputs": [
    {
     "name": "stdout",
     "output_type": "stream",
     "text": [
      "Calculator\n",
      "15\n",
      "None\n"
     ]
    }
   ],
   "source": [
    "def calculator(*numbers):\n",
    "    print(\"Calculator\")\n",
    "    '''This function uses args and returns the sum of all the numbers passed as argumnets'''\n",
    "    sum = 0\n",
    "    for i in numbers:\n",
    "        sum = sum + i\n",
    "    print(sum)\n",
    "    \n",
    "calculator(1,2,3,4,5)\n",
    "print(calculator.__doc__)"
   ]
  },
  {
   "cell_type": "markdown",
   "id": "d545e375",
   "metadata": {},
   "source": [
    "## Exception Handling in Python"
   ]
  },
  {
   "cell_type": "code",
   "execution_count": null,
   "id": "4b02d9a8",
   "metadata": {},
   "outputs": [],
   "source": [
    "# Error in Python can be of two types i.e. Syntax errors and Exceptions. \n",
    "# Errors are problems in a program due to which the program will stop the execution. \n",
    "# On the other hand, exceptions are raised when some internal events occur which change the normal flow of the program. \n",
    "\n",
    "# Different types of exceptions in python:\n",
    "# In Python, there are several built-in Python exceptions that can be raised when an error occurs during the execution of a program. Here are some of the most common types of exceptions in Python:\n",
    "\n",
    "# SyntaxError: This exception is raised when the interpreter encounters a syntax error in the code, such as a misspelled keyword, a missing colon, or an unbalanced parenthesis.\n",
    "# TypeError: This exception is raised when an operation or function is applied to an object of the wrong type, such as adding a string to an integer.\n",
    "# NameError: This exception is raised when a variable or function name is not found in the current scope.\n",
    "# IndexError: This exception is raised when an index is out of range for a list, tuple, or other sequence types.\n",
    "# KeyError: This exception is raised when a key is not found in a dictionary.\n",
    "# ValueError: This exception is raised when a function or method is called with an invalid argument or input, such as trying to convert a string to an integer when the string does not represent a valid integer.\n",
    "# AttributeError: This exception is raised when an attribute or method is not found on an object, such as trying to access a non-existent attribute of a class instance.\n",
    "# IOError: This exception is raised when an I/O operation, such as reading or writing a file, fails due to an input/output error.\n",
    "# ZeroDivisionError: This exception is raised when an attempt is made to divide a number by zero.\n",
    "# ImportError: This exception is raised when an import statement fails to find or load a module.\n",
    "\n",
    "# The try block lets you test a block of code for errors.\n",
    "# The except block lets you handle the error.\n",
    "# The else block lets you execute code when there is no error.\n",
    "# The finally block lets you execute code, regardless of the result of the try- and except blocks."
   ]
  },
  {
   "cell_type": "code",
   "execution_count": 8,
   "id": "7792f777",
   "metadata": {},
   "outputs": [
    {
     "name": "stdout",
     "output_type": "stream",
     "text": [
      "Enter the number: hello world\n",
      "Multiplication table of hello world is: \n",
      "invalid literal for int() with base 10: 'hello world'\n",
      "End of program\n"
     ]
    }
   ],
   "source": [
    "a = input(\"Enter the number: \")\n",
    "print(f\"Multiplication table of {a} is: \")\n",
    "\n",
    "try:\n",
    "    for i in range(1, 11):\n",
    "        print(f\"{int(a)} X {i} = {int(a)*i}\")\n",
    "except Exception as e:\n",
    "    print(e)\n",
    "\n",
    "print(\"End of program\")"
   ]
  },
  {
   "cell_type": "code",
   "execution_count": 11,
   "id": "2a29a829",
   "metadata": {},
   "outputs": [
    {
     "name": "stdout",
     "output_type": "stream",
     "text": [
      "Enter an integer: 5000\n",
      "Index Error\n"
     ]
    }
   ],
   "source": [
    "try:\n",
    "    num = int(input(\"Enter an integer: \"))\n",
    "    a = [6, 3]\n",
    "    print(a[num])\n",
    "except ValueError:\n",
    "    print(\"Number entered is not an integer.\")  \n",
    "except IndexError:\n",
    "    print(\"Index Error\")"
   ]
  },
  {
   "cell_type": "code",
   "execution_count": null,
   "id": "7279c9c3",
   "metadata": {},
   "outputs": [],
   "source": [
    "a = input(\"Enter the number: \")\n",
    "print(f\"Multiplication table of {a} is: \")\n",
    "\n",
    "try:\n",
    "    for i in range(1, 11):\n",
    "        print(f\"{int(a)} X {i} = {int(a)*i}\")\n",
    "except Exception as e:\n",
    "    print(e)\n",
    "finally:\n",
    "    print(\"I am always executed\")\n",
    "\n",
    "print(\"End of program\")"
   ]
  },
  {
   "cell_type": "code",
   "execution_count": 15,
   "id": "0fd841b5",
   "metadata": {},
   "outputs": [
    {
     "name": "stdout",
     "output_type": "stream",
     "text": [
      "Enter the index: 5\n",
      "Some error occurred\n",
      "I am always executed\n",
      "0\n"
     ]
    }
   ],
   "source": [
    "# Why we need finally\n",
    "# Even after returning the value finally block will get executed\n",
    "\n",
    "def func():\n",
    "    try:\n",
    "        l = [1, 5, 6, 7]\n",
    "        i = int(input(\"Enter the index: \"))\n",
    "        print(l[i])\n",
    "        return 1\n",
    "    except:\n",
    "        print(\"Some error occurred\")\n",
    "        return 0\n",
    "    finally:\n",
    "        print(\"I am always executed\")\n",
    "        \n",
    "x = func()\n",
    "print(x)"
   ]
  },
  {
   "cell_type": "code",
   "execution_count": 24,
   "id": "93fd0868",
   "metadata": {},
   "outputs": [
    {
     "name": "stdout",
     "output_type": "stream",
     "text": [
      "Enter any value between 5 and 9 : 20\n"
     ]
    },
    {
     "ename": "ValueError",
     "evalue": "Value should be between 5 and 9",
     "output_type": "error",
     "traceback": [
      "\u001b[1;31m---------------------------------------------------------------------------\u001b[0m",
      "\u001b[1;31mValueError\u001b[0m                                Traceback (most recent call last)",
      "Cell \u001b[1;32mIn[24], line 6\u001b[0m\n\u001b[0;32m      3\u001b[0m num \u001b[38;5;241m=\u001b[39m \u001b[38;5;28mint\u001b[39m(\u001b[38;5;28minput\u001b[39m(\u001b[38;5;124m\"\u001b[39m\u001b[38;5;124mEnter any value between 5 and 9 : \u001b[39m\u001b[38;5;124m\"\u001b[39m))\n\u001b[0;32m      5\u001b[0m \u001b[38;5;28;01mif\u001b[39;00m (num\u001b[38;5;241m<\u001b[39m\u001b[38;5;241m5\u001b[39m \u001b[38;5;129;01mor\u001b[39;00m num\u001b[38;5;241m>\u001b[39m\u001b[38;5;241m10\u001b[39m):\n\u001b[1;32m----> 6\u001b[0m     \u001b[38;5;28;01mraise\u001b[39;00m \u001b[38;5;167;01mValueError\u001b[39;00m(\u001b[38;5;124m\"\u001b[39m\u001b[38;5;124mValue should be between 5 and 9\u001b[39m\u001b[38;5;124m\"\u001b[39m)\n",
      "\u001b[1;31mValueError\u001b[0m: Value should be between 5 and 9"
     ]
    }
   ],
   "source": [
    "# Raising custom errors in Python\n",
    "\n",
    "num = int(input(\"Enter any value between 5 and 9 : \"))\n",
    "\n",
    "if (num<5 or num>10):\n",
    "    raise ValueError(\"Value should be between 5 and 9\")"
   ]
  },
  {
   "cell_type": "markdown",
   "id": "14808efd",
   "metadata": {},
   "source": [
    "## Enumerate Function in Python"
   ]
  },
  {
   "cell_type": "markdown",
   "id": "b7f96f4a",
   "metadata": {},
   "source": [
    "## Virtual Environment in Python"
   ]
  },
  {
   "cell_type": "code",
   "execution_count": 1,
   "id": "52f3de4b",
   "metadata": {},
   "outputs": [
    {
     "data": {
      "text/plain": [
       "-1"
      ]
     },
     "execution_count": 1,
     "metadata": {},
     "output_type": "execute_result"
    }
   ],
   "source": [
    "# Run this code to see the image\n",
    "import cv2\n",
    "image = cv2.imread('Virtual Environment.png')\n",
    "cv2.imshow(\"Virtual Environment\",image)\n",
    "cv2.waitKey(0)"
   ]
  },
  {
   "cell_type": "markdown",
   "id": "7a21cb31",
   "metadata": {},
   "source": [
    "## if __name__ == \"__main__\" in Python"
   ]
  },
  {
   "cell_type": "markdown",
   "id": "4aa723be",
   "metadata": {},
   "source": [
    "## Local vs Global Variables in Python"
   ]
  },
  {
   "cell_type": "code",
   "execution_count": 3,
   "id": "a2f77a0e",
   "metadata": {},
   "outputs": [
    {
     "name": "stdout",
     "output_type": "stream",
     "text": [
      "The value of global variable is : 10\n",
      "The value of local variable is : 20\n"
     ]
    }
   ],
   "source": [
    "n = 10 # Global variable\n",
    "\n",
    "def func():\n",
    "    n = 20 # Local variable\n",
    "    print(f\"The value of local variable is : {n}\")\n",
    "\n",
    "print(f\"The value of global variable is : {n}\")\n",
    "func()"
   ]
  },
  {
   "cell_type": "code",
   "execution_count": 8,
   "id": "53a34c7e",
   "metadata": {},
   "outputs": [
    {
     "name": "stdout",
     "output_type": "stream",
     "text": [
      "The value of global variable is : 10\n",
      "The value of local variable is : 20\n"
     ]
    },
    {
     "ename": "NameError",
     "evalue": "name 'm' is not defined",
     "output_type": "error",
     "traceback": [
      "\u001b[1;31m---------------------------------------------------------------------------\u001b[0m",
      "\u001b[1;31mNameError\u001b[0m                                 Traceback (most recent call last)",
      "Cell \u001b[1;32mIn[8], line 9\u001b[0m\n\u001b[0;32m      7\u001b[0m \u001b[38;5;28mprint\u001b[39m(\u001b[38;5;124mf\u001b[39m\u001b[38;5;124m\"\u001b[39m\u001b[38;5;124mThe value of global variable is : \u001b[39m\u001b[38;5;132;01m{\u001b[39;00mn\u001b[38;5;132;01m}\u001b[39;00m\u001b[38;5;124m\"\u001b[39m)\n\u001b[0;32m      8\u001b[0m func()\n\u001b[1;32m----> 9\u001b[0m \u001b[38;5;28mprint\u001b[39m(\u001b[38;5;124mf\u001b[39m\u001b[38;5;124m\"\u001b[39m\u001b[38;5;124mThe value of local variable is : \u001b[39m\u001b[38;5;132;01m{\u001b[39;00mm\u001b[38;5;132;01m}\u001b[39;00m\u001b[38;5;124m\"\u001b[39m)\n",
      "\u001b[1;31mNameError\u001b[0m: name 'm' is not defined"
     ]
    }
   ],
   "source": [
    "# This code throws an error because we are trying to access local variable outside the function \n",
    "n = 10 # Global variable\n",
    "\n",
    "def func():\n",
    "    m = 20 # Local variable\n",
    "    print(f\"The value of local variable is : {m}\")\n",
    "\n",
    "print(f\"The value of global variable is : {n}\")\n",
    "func()\n",
    "print(f\"The value of local variable is : {m}\")"
   ]
  },
  {
   "cell_type": "code",
   "execution_count": 6,
   "id": "fdff609f",
   "metadata": {},
   "outputs": [
    {
     "name": "stdout",
     "output_type": "stream",
     "text": [
      "The value of global variable is : 10\n",
      "The value of local variable is : 10\n"
     ]
    }
   ],
   "source": [
    "# Use of global keyword\n",
    "n = 10 # Global variable\n",
    "\n",
    "def func():\n",
    "    global n # Local variable\n",
    "    print(f\"The value of local variable is : {n}\")\n",
    "\n",
    "print(f\"The value of global variable is : {n}\")\n",
    "func()"
   ]
  },
  {
   "cell_type": "markdown",
   "id": "aef92e63",
   "metadata": {},
   "source": [
    "## File Handling in Python"
   ]
  },
  {
   "cell_type": "code",
   "execution_count": 13,
   "id": "92166b10",
   "metadata": {},
   "outputs": [],
   "source": [
    "# File handling is an important part of any web application.\n",
    "# Python has several functions for creating, reading, updating, and deleting files.\n",
    "\n",
    "# File Handling\n",
    "# The key function for working with files in Python is the open() function.\n",
    "# The open() function takes two parameters; filename, and mode.\n",
    "\n",
    "# There are six different methods (modes) for opening a file:\n",
    "# \"w\" - Write - Opens a file for writing, creates the file if it does not exist\n",
    "# \"r\" - Read - Default value. Opens a file for reading, error if the file does not exist\n",
    "# \"a\" - Append - Opens a file for appending, creates the file if it does not exist\n",
    "# \"x\" - Create - Creates the specified file, returns an error if the file exists\n",
    "# \"t\" - Text - Default value. Text mode\n",
    "# \"b\" - Binary - Binary mode (e.g. images)"
   ]
  },
  {
   "cell_type": "markdown",
   "id": "66fc9243",
   "metadata": {},
   "source": [
    "## File Handling Methods"
   ]
  },
  {
   "cell_type": "code",
   "execution_count": null,
   "id": "ca42a6c9",
   "metadata": {},
   "outputs": [],
   "source": [
    "# write()       Writes the specified string to the file\n",
    "# read()        Returns the file content\n",
    "# close()       Closes the file\n",
    "# readline()    Returns one line from the file\n",
    "# readlines()   Returns a list of lines from the file\n",
    "# writelines()  Writes a list of strings to the file\n",
    "# seek()        Change the file position\n",
    "# tell()        Returns the current file position\n",
    "# truncate()    Resizes the file to a specified size\n",
    "# detach()      Returns the separated raw stream from the buffer\n",
    "# fileno()      Returns a number that represents the stream, from the operating system's perspective\n",
    "# flush()       Flushes the internal buffer\n",
    "# isatty()      Returns whether the file stream is interactive or not\n",
    "# readable()    Returns whether the file stream can be read or not\n",
    "# seekable()    Returns whether the file allows us to change the file position\n",
    "# writable()    Returns whether the file can be written to or not"
   ]
  },
  {
   "cell_type": "markdown",
   "id": "8545c0d9",
   "metadata": {},
   "source": [
    "### Write operation"
   ]
  },
  {
   "cell_type": "code",
   "execution_count": 1,
   "id": "0d6c7f26",
   "metadata": {},
   "outputs": [],
   "source": [
    "aboutme = open('aboutme.txt', 'w')"
   ]
  },
  {
   "cell_type": "code",
   "execution_count": 2,
   "id": "03ecddf0",
   "metadata": {},
   "outputs": [
    {
     "data": {
      "text/plain": [
       "420"
      ]
     },
     "execution_count": 2,
     "metadata": {},
     "output_type": "execute_result"
    }
   ],
   "source": [
    "aboutme.write('I am a graduate with a passion for continuous learning in the fields of Space, Artificial intelligence, Machine learning, Deep learning, Computer vision and Programming. Currently, I am enrolled as a postgraduate student pursuing a Masters in Computer Application (MCA) at Vivekananda Institute Of Professional Studies (VIPS, GGSIPU). I am committed to expanding my knowledge and skills in the field of computer science.')"
   ]
  },
  {
   "cell_type": "code",
   "execution_count": 3,
   "id": "437a4953",
   "metadata": {},
   "outputs": [],
   "source": [
    "aboutme.close()"
   ]
  },
  {
   "cell_type": "markdown",
   "id": "27354b56",
   "metadata": {},
   "source": [
    "### Read operation"
   ]
  },
  {
   "cell_type": "code",
   "execution_count": 24,
   "id": "93f119ee",
   "metadata": {},
   "outputs": [],
   "source": [
    "aboutme = open('aboutme.txt', 'r')"
   ]
  },
  {
   "cell_type": "code",
   "execution_count": 25,
   "id": "8a2bd3fd",
   "metadata": {},
   "outputs": [
    {
     "data": {
      "text/plain": [
       "'I am a graduate with a passion for continuous learning in the fields of Space, Artificial intelligence, Machine learning, Deep learning, Computer vision and Programming. Currently, I am enrolled as a postgraduate student pursuing a Masters in Computer Application (MCA) at Vivekananda Institute Of Professional Studies (VIPS, GGSIPU). I am committed to expanding my knowledge and skills in the field of computer science.'"
      ]
     },
     "execution_count": 25,
     "metadata": {},
     "output_type": "execute_result"
    }
   ],
   "source": [
    "aboutme.read()"
   ]
  },
  {
   "cell_type": "code",
   "execution_count": 26,
   "id": "c235a447",
   "metadata": {},
   "outputs": [],
   "source": [
    "aboutme.close()"
   ]
  },
  {
   "cell_type": "markdown",
   "id": "61e57318",
   "metadata": {},
   "source": [
    "### Append operation"
   ]
  },
  {
   "cell_type": "code",
   "execution_count": 28,
   "id": "e2a33b94",
   "metadata": {},
   "outputs": [],
   "source": [
    "aboutme = open('aboutme.txt', 'a')"
   ]
  },
  {
   "cell_type": "code",
   "execution_count": 29,
   "id": "e28d87db",
   "metadata": {},
   "outputs": [
    {
     "data": {
      "text/plain": [
       "12"
      ]
     },
     "execution_count": 29,
     "metadata": {},
     "output_type": "execute_result"
    }
   ],
   "source": [
    "aboutme.write(' HELLO WORLD')"
   ]
  },
  {
   "cell_type": "code",
   "execution_count": 30,
   "id": "387aed30",
   "metadata": {},
   "outputs": [],
   "source": [
    "aboutme.close()"
   ]
  },
  {
   "cell_type": "code",
   "execution_count": 31,
   "id": "6c1742fb",
   "metadata": {},
   "outputs": [],
   "source": [
    "aboutme = open('aboutme.txt', 'r')"
   ]
  },
  {
   "cell_type": "code",
   "execution_count": 32,
   "id": "965b5218",
   "metadata": {},
   "outputs": [
    {
     "data": {
      "text/plain": [
       "'I am a graduate with a passion for continuous learning in the fields of Space, Artificial intelligence, Machine learning, Deep learning, Computer vision and Programming. Currently, I am enrolled as a postgraduate student pursuing a Masters in Computer Application (MCA) at Vivekananda Institute Of Professional Studies (VIPS, GGSIPU). I am committed to expanding my knowledge and skills in the field of computer science. HELLO WORLD'"
      ]
     },
     "execution_count": 32,
     "metadata": {},
     "output_type": "execute_result"
    }
   ],
   "source": [
    "aboutme.read()"
   ]
  },
  {
   "cell_type": "code",
   "execution_count": 38,
   "id": "4bb7c593",
   "metadata": {},
   "outputs": [],
   "source": [
    "aboutme.close()"
   ]
  },
  {
   "cell_type": "markdown",
   "id": "40471dd6",
   "metadata": {},
   "source": [
    "### Readline Operation"
   ]
  },
  {
   "cell_type": "code",
   "execution_count": 50,
   "id": "6b51a4ca",
   "metadata": {},
   "outputs": [],
   "source": [
    "aboutme = open('aboutme.txt', 'r')"
   ]
  },
  {
   "cell_type": "code",
   "execution_count": 51,
   "id": "37f657e2",
   "metadata": {},
   "outputs": [
    {
     "name": "stdout",
     "output_type": "stream",
     "text": [
      "I am a graduate with a passion for continuous learning in the fields of Space, Artificial intelligence, Machine learning, Deep learning, Computer vision and Programming. Currently, I am enrolled as a postgraduate student pursuing a Masters in Computer Application (MCA) at Vivekananda Institute Of Professional Studies (VIPS, GGSIPU). I am committed to expanding my knowledge and skills in the field of computer science.\n"
     ]
    }
   ],
   "source": [
    "while True:\n",
    "    line = aboutme.readline()\n",
    "    if not line:\n",
    "        break\n",
    "    print(line)"
   ]
  },
  {
   "cell_type": "code",
   "execution_count": 53,
   "id": "8bdf0630",
   "metadata": {},
   "outputs": [],
   "source": [
    "aboutme.close()"
   ]
  },
  {
   "cell_type": "markdown",
   "id": "60b0fc42",
   "metadata": {},
   "source": [
    "### Writelines Operations"
   ]
  },
  {
   "cell_type": "code",
   "execution_count": 60,
   "id": "7082770f",
   "metadata": {},
   "outputs": [],
   "source": [
    "student = open('student.txt', 'w')"
   ]
  },
  {
   "cell_type": "code",
   "execution_count": 61,
   "id": "a9a199ee",
   "metadata": {},
   "outputs": [],
   "source": [
    "student_names = ['Raihan\\n', 'Rohan\\n', 'Rohit\\n', 'Rahul\\n', 'Raman\\n'] "
   ]
  },
  {
   "cell_type": "code",
   "execution_count": 62,
   "id": "ddabcde3",
   "metadata": {},
   "outputs": [],
   "source": [
    "student.writelines(student_names)"
   ]
  },
  {
   "cell_type": "code",
   "execution_count": 63,
   "id": "508436cf",
   "metadata": {},
   "outputs": [],
   "source": [
    "aboutme.close()"
   ]
  },
  {
   "cell_type": "markdown",
   "id": "1e718bb0",
   "metadata": {},
   "source": [
    "### Seek Operation"
   ]
  },
  {
   "cell_type": "code",
   "execution_count": null,
   "id": "91ca7082",
   "metadata": {},
   "outputs": [],
   "source": [
    "# In Python, the seek() and tell() functions are used to work with file objects and their positions within a file. \n",
    "# These functions are part of the built-in io module, which provides a consistent interface for reading and writing to various file-like objects, such as files, pipes, and in-memory buffers."
   ]
  },
  {
   "cell_type": "code",
   "execution_count": null,
   "id": "200f932b",
   "metadata": {},
   "outputs": [],
   "source": [
    "# The seek() function allows you to move the current position within a file to a specific point.\n",
    "# The position is specified in bytes, and you can move either forward or backward from the current position. "
   ]
  },
  {
   "cell_type": "code",
   "execution_count": 21,
   "id": "930acbf8",
   "metadata": {},
   "outputs": [
    {
     "name": "stdout",
     "output_type": "stream",
     "text": [
      "graduate\n"
     ]
    }
   ],
   "source": [
    "with open('aboutme.txt', 'r') as f:\n",
    "    # Move to the 10th byte in the file\n",
    "    f.seek(7)\n",
    "\n",
    "    # Read the next  bytes\n",
    "    data = f.read(8)\n",
    "    print(data)"
   ]
  },
  {
   "cell_type": "markdown",
   "id": "898fe09f",
   "metadata": {},
   "source": [
    "### Tell Operation"
   ]
  },
  {
   "cell_type": "code",
   "execution_count": null,
   "id": "0c7382d1",
   "metadata": {},
   "outputs": [],
   "source": [
    "# The tell() function returns the current position within the file, in bytes. \n",
    "# This can be useful for keeping track of your location within the file or for seeking to a specific position relative to the current position."
   ]
  },
  {
   "cell_type": "code",
   "execution_count": 23,
   "id": "128e18d8",
   "metadata": {},
   "outputs": [
    {
     "name": "stdout",
     "output_type": "stream",
     "text": [
      "graduate\n",
      "15\n"
     ]
    }
   ],
   "source": [
    "with open('aboutme.txt', 'r') as f:\n",
    "    # Move to the 10th byte in the file\n",
    "    f.seek(7)\n",
    "\n",
    "    # Read the next  bytes\n",
    "    data = f.read(8)\n",
    "    print(data)\n",
    "    \n",
    "    # Save the current position\n",
    "    current_position = f.tell()\n",
    "    print(current_position)"
   ]
  },
  {
   "cell_type": "markdown",
   "id": "645efed7",
   "metadata": {},
   "source": [
    "## Lamda Functions in Python"
   ]
  },
  {
   "cell_type": "code",
   "execution_count": null,
   "id": "92c101cb",
   "metadata": {},
   "outputs": [],
   "source": [
    "# Python Lambda Functions are anonymous functions means that the function is without a name. \n",
    "# As we already know the def keyword is used to define a normal function in Python. \n",
    "# Similarly, the lambda keyword is used to define an anonymous function in Python. \n",
    "\n",
    "# Syntax: lambda arguments : expression\n",
    "\n",
    "# This function can have any number of arguments but only one expression, which is evaluated and returned.\n",
    "# One is free to use lambda functions wherever function objects are required.\n",
    "# You need to keep in your knowledge that lambda functions are syntactically restricted to a single expression.\n",
    "# It has various uses in particular fields of programming, besides other types of expressions in functions.\n",
    "\n",
    "\n",
    "# Lambda functions in Python are primarily used in the following scenarios:\n",
    "# Functional Programming: Lambda functions are used extensively in functional programming paradigms where functions are treated as first-class citizens. They are commonly employed with functions like map(), filter(), and reduce().\n",
    "# Anonymous Functions: Lambda functions are anonymous functions, meaning they don't require a name and are defined using the lambda keyword. They are handy when you need a simple function for a short period of time and don't want to define a formal function using def.\n",
    "# Short, One-Line Functions: Lambda functions are useful for defining short, one-line functions without the need for a full function definition. They're often employed in situations where a function is needed as an argument to a higher-order function.\n",
    "# Inline Callback Functions: Lambda functions are commonly used as inline callback functions, especially in GUI programming, event-driven programming, or when working with frameworks like Flask or Django.\n",
    "# Sorting and Ordering: Lambda functions are used with functions like sorted() or sort() to define custom sorting orders based on specific criteria.\n",
    "# Data Transformation: Lambda functions are handy for quick data transformation tasks, such as formatting strings, filtering lists, or mapping values.\n",
    "# Overall, lambda functions offer a concise and expressive way to define small functions without the need for a formal function definition. They are particularly useful in situations where brevity and simplicity are valued."
   ]
  },
  {
   "cell_type": "code",
   "execution_count": 29,
   "id": "b391bf67",
   "metadata": {},
   "outputs": [
    {
     "name": "stdout",
     "output_type": "stream",
     "text": [
      "15\n"
     ]
    }
   ],
   "source": [
    "add = lambda x: x+10\n",
    "print(add(5))"
   ]
  },
  {
   "cell_type": "code",
   "execution_count": 27,
   "id": "c317a85e",
   "metadata": {},
   "outputs": [
    {
     "name": "stdout",
     "output_type": "stream",
     "text": [
      "125\n"
     ]
    }
   ],
   "source": [
    "cube = lambda x: x*x*x\n",
    "print(cube(5))"
   ]
  },
  {
   "cell_type": "code",
   "execution_count": 33,
   "id": "3c3b0614",
   "metadata": {},
   "outputs": [
    {
     "name": "stdout",
     "output_type": "stream",
     "text": [
      "7.5\n"
     ]
    }
   ],
   "source": [
    "avg = lambda a,b : (a + b)/2\n",
    "print(avg(5, 10))"
   ]
  },
  {
   "cell_type": "code",
   "execution_count": 35,
   "id": "19168307",
   "metadata": {},
   "outputs": [
    {
     "name": "stdout",
     "output_type": "stream",
     "text": [
      "18\n"
     ]
    }
   ],
   "source": [
    "# Passing a lambda function as an argument for function app\n",
    "def app(func, value):\n",
    "    return 10 + func(value)\n",
    "\n",
    "cube = lambda x: x*x*x\n",
    "\n",
    "print(app(cube, 2))"
   ]
  },
  {
   "cell_type": "code",
   "execution_count": 1,
   "id": "0138711b",
   "metadata": {},
   "outputs": [
    {
     "name": "stdout",
     "output_type": "stream",
     "text": [
      "18\n"
     ]
    }
   ],
   "source": [
    "# Passing a lambda function as an argument for function app\n",
    "def app(func, value):\n",
    "    return 10 + func(value)\n",
    "\n",
    "print(app(lambda x: x*x*x, 2))"
   ]
  },
  {
   "cell_type": "markdown",
   "id": "dd756b10",
   "metadata": {},
   "source": [
    "## Map, Filter and Reduce in Python"
   ]
  },
  {
   "cell_type": "markdown",
   "id": "018bb455",
   "metadata": {},
   "source": [
    "## 'is' vs '==' in Python"
   ]
  },
  {
   "cell_type": "markdown",
   "id": "c18ca184",
   "metadata": {},
   "source": [
    "## Strings in Python"
   ]
  },
  {
   "cell_type": "code",
   "execution_count": 4,
   "id": "ea6d1849",
   "metadata": {},
   "outputs": [
    {
     "name": "stdout",
     "output_type": "stream",
     "text": [
      "6\n"
     ]
    }
   ],
   "source": [
    "name = \"Raihan\"\n",
    "print(len(name))"
   ]
  },
  {
   "cell_type": "code",
   "execution_count": 3,
   "id": "cd5c2d89",
   "metadata": {},
   "outputs": [
    {
     "name": "stdout",
     "output_type": "stream",
     "text": [
      "<class 'str'>\n"
     ]
    }
   ],
   "source": [
    "name = \"Raihan\"\n",
    "print(type(name)) # Returns the data type of the variable"
   ]
  },
  {
   "cell_type": "code",
   "execution_count": 66,
   "id": "9777f348",
   "metadata": {},
   "outputs": [
    {
     "name": "stdout",
     "output_type": "stream",
     "text": [
      "R\n",
      "a\n",
      "i\n",
      "h\n",
      "a\n",
      "n\n"
     ]
    }
   ],
   "source": [
    "name = \"Raihan\"\n",
    "print(name[0])\n",
    "print(name[1])\n",
    "print(name[2])\n",
    "print(name[3])\n",
    "print(name[4])\n",
    "print(name[5])\n",
    "# print(name[6]) IndexError: string index out of range"
   ]
  },
  {
   "cell_type": "code",
   "execution_count": 5,
   "id": "cf01fa5c",
   "metadata": {},
   "outputs": [],
   "source": [
    "'''\n",
    "When you have a string with few characters then its easy to use name[0].\n",
    "But when you have a entire paragraph with special symbols then is quite difficult to access a \n",
    "character using its index.\n",
    "Its better to use a for loop \n",
    "'''\n",
    "name = \"I am a graduate 🎓 with a passion for continuous learning in the fields of Space, Artificial intelligence, Machine learning, Deep learning, Computer vision and Programming. Currently, I am enrolled as a postgraduate student pursuing a Master's in Computer Application (MCA) at Vivekananda Institute Of Professional Studies (VIPS, GGSIPU). I am committed to expanding my knowledge and skills in the field of computer science 🖥️ .\"\n",
    "for characters in name:\n",
    "    print(characters)"
   ]
  },
  {
   "cell_type": "markdown",
   "id": "8c951393",
   "metadata": {},
   "source": [
    "## String Slicing in Python"
   ]
  },
  {
   "cell_type": "code",
   "execution_count": 3,
   "id": "16980ca4",
   "metadata": {},
   "outputs": [
    {
     "name": "stdout",
     "output_type": "stream",
     "text": [
      "Raihan\n",
      "Raihan\n",
      "aihan\n",
      "Rai\n"
     ]
    }
   ],
   "source": [
    "name = \"Raihan\"\n",
    "print(name[0:6])\n",
    "print(name[:6])\n",
    "print(name[1:6])\n",
    "print(name[0:-3]) # name[0:len(name)-3]"
   ]
  },
  {
   "cell_type": "markdown",
   "id": "8ce93333",
   "metadata": {},
   "source": [
    "## String Methods in Python"
   ]
  },
  {
   "cell_type": "code",
   "execution_count": null,
   "id": "5918306a",
   "metadata": {},
   "outputs": [],
   "source": [
    "# Remaining String Functions in Python\n",
    "# format_map()Formats specified values in a string\n",
    "# isalnum()Returns True if all characters in the string are alphanumeric\n",
    "# isalpha()Returns True if all characters in the string are in the alphabet\n",
    "# isascii()Returns True if all characters in the string are ascii characters\n",
    "# isdecimal()Returns True if all characters in the string are decimals\n",
    "# isdigit()Returns True if all characters in the string are digits\n",
    "# isidentifier()Returns True if the string is an identifier\n",
    "# islower()Returns True if all characters in the string are lower case\n",
    "# isnumeric()Returns True if all characters in the string are numeric\n",
    "# isprintable()Returns True if all characters in the string are printable\n",
    "# isspace()Returns True if all characters in the string are whitespaces\n",
    "# istitle()Returns True if the string follows the rules of a title\n",
    "# isupper()Returns True if all characters in the string are upper case\n",
    "# join()Converts the elements of an iterable into a string\n",
    "# ljust()Returns a left justified version of the string\n",
    "# maketrans()Returns a translation table to be used in translations\n",
    "# partition()Returns a tuple where the string is parted into three parts\n",
    "# rfind()Searches the string for a specified value and returns the last position of where it was found\n",
    "# rindex()Searches the string for a specified value and returns the last position of where it was found\n",
    "# rjust()Returns a right justified version of the string\n",
    "# rpartition()Returns a tuple where the string is parted into three parts\n",
    "# rsplit()Splits the string at the specified separator, and returns a list\n",
    "# splitlines()Splits the string at line breaks and returns a list\n",
    "# startswith()Returns true if the string starts with the specified value\n",
    "# swapcase()Swaps cases, lower case becomes upper case and vice versa\n",
    "# title()Converts the first character of each word to upper case\n",
    "# translate()Returns a translated string"
   ]
  },
  {
   "cell_type": "code",
   "execution_count": 2,
   "id": "d0908f85",
   "metadata": {},
   "outputs": [
    {
     "name": "stdout",
     "output_type": "stream",
     "text": [
      "Raihan\n",
      "RAIHAN\n",
      "raihan\n",
      "3\n",
      "10\n",
      "10\n",
      "Raihan\n",
      "Raihan!!!\n",
      "!!!Raihan\n",
      "Rohan is 20 years old\n",
      "['Raihan', 'is', '20', 'years', 'old']\n"
     ]
    }
   ],
   "source": [
    "name = \"Raihan\"\n",
    "about = \"Raihan is 20 years old\"\n",
    "a = \"!!!Raihan!!!\"\n",
    "print(name.capitalize()) # Converts the first character to upper case\n",
    "print(name.upper()) # Converts a string into upper case\n",
    "print(name.lower()) # Converts a string into lower case\n",
    "\n",
    "print(about.count(\"a\")) # Returns the number of times a specified value occurs in a string\n",
    "print(about.find(\"20\")) # Searches the string for a specified value and returns the position of where it was found\n",
    "print(about.index(\"20\")) # Searches the string for a specified value and returns the position of where it was found\n",
    "\n",
    "print(a.strip(\"!\")) # Returns a trimmed version of the string\n",
    "print(a.lstrip(\"!\")) # Returns a left trim version of the string\n",
    "print(a.rstrip(\"!\")) # Returns a right trim version of the string\n",
    "\n",
    "print(about.replace(\"Raihan\", \"Rohan\")) # Returns a string where a specified value is replaced with a specified value\n",
    "print(about.split(\" \")) # Splits the string at the specified separator, and returns a list"
   ]
  },
  {
   "cell_type": "code",
   "execution_count": null,
   "id": "71516fa8",
   "metadata": {},
   "outputs": [],
   "source": []
  }
 ],
 "metadata": {
  "kernelspec": {
   "display_name": "Python 3 (ipykernel)",
   "language": "python",
   "name": "python3"
  },
  "language_info": {
   "codemirror_mode": {
    "name": "ipython",
    "version": 3
   },
   "file_extension": ".py",
   "mimetype": "text/x-python",
   "name": "python",
   "nbconvert_exporter": "python",
   "pygments_lexer": "ipython3",
   "version": "3.10.9"
  }
 },
 "nbformat": 4,
 "nbformat_minor": 5
}
