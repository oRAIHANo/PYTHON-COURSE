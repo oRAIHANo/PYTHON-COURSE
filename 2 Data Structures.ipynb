{
 "cells": [
  {
   "cell_type": "markdown",
   "id": "03641429",
   "metadata": {},
   "source": [
    "### Types of Data Structures"
   ]
  },
  {
   "cell_type": "markdown",
   "id": "adf1d8c9",
   "metadata": {},
   "source": [
    "### Buit-in or Python specific data structures"
   ]
  },
  {
   "cell_type": "code",
   "execution_count": 5,
   "id": "00f2d4fd",
   "metadata": {},
   "outputs": [],
   "source": [
    "# List\n",
    "# Tuple\n",
    "# Set\n",
    "# Dictionary"
   ]
  },
  {
   "cell_type": "markdown",
   "id": "41adb923",
   "metadata": {},
   "source": [
    "### User defined"
   ]
  },
  {
   "cell_type": "code",
   "execution_count": 6,
   "id": "1e0bb7c8",
   "metadata": {},
   "outputs": [],
   "source": [
    "# Arrays\n",
    "# Linked List\n",
    "# Stack\n",
    "# Queue\n",
    "# Matrix\n",
    "# Binary Tree\n",
    "# Heap\n",
    "# HashTable\n",
    "# Graph"
   ]
  }
 ],
 "metadata": {
  "kernelspec": {
   "display_name": "Python 3 (ipykernel)",
   "language": "python",
   "name": "python3"
  },
  "language_info": {
   "codemirror_mode": {
    "name": "ipython",
    "version": 3
   },
   "file_extension": ".py",
   "mimetype": "text/x-python",
   "name": "python",
   "nbconvert_exporter": "python",
   "pygments_lexer": "ipython3",
   "version": "3.10.9"
  }
 },
 "nbformat": 4,
 "nbformat_minor": 5
}
