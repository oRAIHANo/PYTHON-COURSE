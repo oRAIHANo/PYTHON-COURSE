{
 "cells": [
  {
   "cell_type": "markdown",
   "id": "6bb50156",
   "metadata": {},
   "source": [
    "# Sets"
   ]
  },
  {
   "cell_type": "markdown",
   "id": "041fcd7d",
   "metadata": {},
   "source": [
    "#### Set items are unordered, unchangeable, and do not allow duplicate values\n",
    "#### Set items are unchangeable, meaning that we cannot change the items after the set has been created \n",
    "#### Once a set is created, you cannot change its items, but you can remove items and add new items"
   ]
  },
  {
   "cell_type": "markdown",
   "id": "c9d2343d",
   "metadata": {},
   "source": [
    "# ---------------------------------------------------------------------------------------------------------------"
   ]
  },
  {
   "cell_type": "markdown",
   "id": "abc84aaf",
   "metadata": {},
   "source": [
    "### How to create a Set"
   ]
  },
  {
   "cell_type": "code",
   "execution_count": 18,
   "id": "8820c7c5",
   "metadata": {},
   "outputs": [
    {
     "name": "stdout",
     "output_type": "stream",
     "text": [
      "Empty Set ------------------------ {}\n",
      "Set of Integer type -------------- {1, 2, 3, 4, 5, 6, 7, 8, 9, 10}\n",
      "Set of Float type ---------------- {50.5, 20.5, 40.5, 10.5, 30.5}\n",
      "Set of String type --------------- {'Cherry', 'Banana', 'Apple', 'Orange'}\n",
      "Set of Boolean type -------------- {False, True}\n",
      "Set inside a Set ----------------- [['Raihan', 20], ['Aman', 20]]\n",
      "Set of Complex type -------------- {'Raihan', 1, 170.5}\n"
     ]
    }
   ],
   "source": [
    "empty = {}\n",
    "numbers = {1,2,3,4,5,6,7,8,9,10}\n",
    "heights = {10.5, 20.5, 30.5, 40.5, 50.5}\n",
    "fruits = {'Apple', 'Banana', 'Cherry', 'Orange', 'Apple'}\n",
    "boolean = {True, False}\n",
    "# information = {{'Raihan', 20}, {'Aman', 20}} # We cannot have a set inside a set as we used to have in case of a list\n",
    "medical_report = {1, 170.5, 'Raihan', True} # Can store elments of multiple data types\n",
    "\n",
    "print(f'Empty Set ------------------------ {empty}')\n",
    "print(f'Set of Integer type -------------- {numbers}')\n",
    "print(f'Set of Float type ---------------- {heights}')\n",
    "print(f'Set of String type --------------- {fruits}')\n",
    "print(f'Set of Boolean type -------------- {boolean}')\n",
    "print(f'Set inside a Set ----------------- {information}')\n",
    "print(f'Set of Complex type -------------- {medical_report}')"
   ]
  },
  {
   "cell_type": "code",
   "execution_count": 19,
   "id": "520d035b",
   "metadata": {},
   "outputs": [
    {
     "name": "stdout",
     "output_type": "stream",
     "text": [
      "<class 'set'>\n"
     ]
    }
   ],
   "source": [
    "numbers = {1,2,3,4,5,6,7,8,9,10}\n",
    "print(type(numbers))"
   ]
  },
  {
   "cell_type": "code",
   "execution_count": 24,
   "id": "3834f8ee",
   "metadata": {},
   "outputs": [
    {
     "name": "stdout",
     "output_type": "stream",
     "text": [
      "10\n"
     ]
    }
   ],
   "source": [
    "numbers = {1,2,3,4,5,6,7,8,9,10}\n",
    "print(len(numbers))"
   ]
  },
  {
   "cell_type": "code",
   "execution_count": 21,
   "id": "2b5fac87",
   "metadata": {
    "scrolled": true
   },
   "outputs": [
    {
     "name": "stdout",
     "output_type": "stream",
     "text": [
      "{1, 2, 3, 4, 5, 6, 7, 8, 9, 10}\n"
     ]
    }
   ],
   "source": [
    "# Set cannot store duplicate elements\n",
    "numbers = {1,2,3,4,5,6,7,8,9,10,10,10,10,10}\n",
    "print(numbers)"
   ]
  },
  {
   "cell_type": "markdown",
   "id": "265237b1",
   "metadata": {},
   "source": [
    "# ---------------------------------------------------------------------------------------------------------------"
   ]
  },
  {
   "cell_type": "markdown",
   "id": "e88ea9d6",
   "metadata": {},
   "source": [
    "### How to access items of a set"
   ]
  },
  {
   "cell_type": "code",
   "execution_count": 25,
   "id": "c8af1ac5",
   "metadata": {},
   "outputs": [
    {
     "ename": "TypeError",
     "evalue": "'set' object is not subscriptable",
     "output_type": "error",
     "traceback": [
      "\u001b[1;31m---------------------------------------------------------------------------\u001b[0m",
      "\u001b[1;31mTypeError\u001b[0m                                 Traceback (most recent call last)",
      "Cell \u001b[1;32mIn[25], line 2\u001b[0m\n\u001b[0;32m      1\u001b[0m numbers \u001b[38;5;241m=\u001b[39m {\u001b[38;5;241m1\u001b[39m,\u001b[38;5;241m2\u001b[39m,\u001b[38;5;241m3\u001b[39m,\u001b[38;5;241m4\u001b[39m,\u001b[38;5;241m5\u001b[39m,\u001b[38;5;241m6\u001b[39m,\u001b[38;5;241m7\u001b[39m,\u001b[38;5;241m8\u001b[39m,\u001b[38;5;241m9\u001b[39m,\u001b[38;5;241m10\u001b[39m}\n\u001b[1;32m----> 2\u001b[0m \u001b[38;5;28mprint\u001b[39m(\u001b[43mnumbers\u001b[49m\u001b[43m[\u001b[49m\u001b[38;5;241;43m1\u001b[39;49m\u001b[43m]\u001b[49m)\n",
      "\u001b[1;31mTypeError\u001b[0m: 'set' object is not subscriptable"
     ]
    }
   ],
   "source": [
    "numbers = {1,2,3,4,5,6,7,8,9,10}\n",
    "print(numbers[1])"
   ]
  },
  {
   "cell_type": "markdown",
   "id": "bdca3e05",
   "metadata": {},
   "source": [
    "# ---------------------------------------------------------------------------------------------------------------"
   ]
  },
  {
   "cell_type": "markdown",
   "id": "bd38fcb3",
   "metadata": {},
   "source": [
    "### How to print the elements of a set using loop"
   ]
  },
  {
   "cell_type": "code",
   "execution_count": 26,
   "id": "df09e1c9",
   "metadata": {},
   "outputs": [
    {
     "name": "stdout",
     "output_type": "stream",
     "text": [
      "1\n",
      "2\n",
      "3\n",
      "4\n",
      "5\n",
      "6\n",
      "7\n",
      "8\n",
      "9\n",
      "10\n"
     ]
    }
   ],
   "source": [
    "numbers = {1,2,3,4,5,6,7,8,9,10}\n",
    "for i in numbers:\n",
    "    print(i)"
   ]
  },
  {
   "cell_type": "code",
   "execution_count": 27,
   "id": "f58c3ad4",
   "metadata": {},
   "outputs": [
    {
     "ename": "TypeError",
     "evalue": "'set' object is not subscriptable",
     "output_type": "error",
     "traceback": [
      "\u001b[1;31m---------------------------------------------------------------------------\u001b[0m",
      "\u001b[1;31mTypeError\u001b[0m                                 Traceback (most recent call last)",
      "Cell \u001b[1;32mIn[27], line 3\u001b[0m\n\u001b[0;32m      1\u001b[0m numbers \u001b[38;5;241m=\u001b[39m {\u001b[38;5;241m1\u001b[39m,\u001b[38;5;241m2\u001b[39m,\u001b[38;5;241m3\u001b[39m,\u001b[38;5;241m4\u001b[39m,\u001b[38;5;241m5\u001b[39m,\u001b[38;5;241m6\u001b[39m,\u001b[38;5;241m7\u001b[39m,\u001b[38;5;241m8\u001b[39m,\u001b[38;5;241m9\u001b[39m,\u001b[38;5;241m10\u001b[39m}\n\u001b[0;32m      2\u001b[0m \u001b[38;5;28;01mfor\u001b[39;00m i \u001b[38;5;129;01min\u001b[39;00m \u001b[38;5;28mrange\u001b[39m(\u001b[38;5;28mlen\u001b[39m(numbers)):\n\u001b[1;32m----> 3\u001b[0m     \u001b[38;5;28mprint\u001b[39m(\u001b[43mnumbers\u001b[49m\u001b[43m[\u001b[49m\u001b[43mi\u001b[49m\u001b[43m]\u001b[49m)\n",
      "\u001b[1;31mTypeError\u001b[0m: 'set' object is not subscriptable"
     ]
    }
   ],
   "source": [
    "numbers = {1,2,3,4,5,6,7,8,9,10}\n",
    "for i in range(len(numbers)):\n",
    "    print(numbers[i])"
   ]
  },
  {
   "cell_type": "markdown",
   "id": "be92c827",
   "metadata": {},
   "source": [
    "# ---------------------------------------------------------------------------------------------------------------"
   ]
  },
  {
   "cell_type": "markdown",
   "id": "25cbbd3d",
   "metadata": {},
   "source": [
    "### Set Methods"
   ]
  },
  {
   "cell_type": "markdown",
   "id": "24992a5c",
   "metadata": {},
   "source": [
    "### add() ----------------------------------------------- Adds an element to the set\n",
    "### clear() --------------------------------------------- Removes all the elements from the set\n",
    "### copy() --------------------------------------------- Returns a copy of the set\n",
    "### discard() ------------------------------------------ Remove the specified item\n",
    "### remove() ------------------------------------------- Removes the specified item\n",
    "### pop() ------------------------------------------------ Remove a random item from the set\n",
    "### union() ---------------------------------------------- Return a set containing the union of sets\n",
    "### update() -------------------------------------------- Update the current set with the union of this set and others\n",
    "### isdisjoint() ---------------------------------------- Return True if no items in first set is present in second set\n",
    "### issubset() ----------------------------------------- Return True if all items in first set are present in second set\n",
    "### issuperset() -------------------------------------- Return True if all items second set are present in fisrt set\n",
    "### intersection() ------------------------------------ Return a set that contains the items that exist in both sets\n",
    "### intersection_update() ------------------------ Removes the items in this set that are not present in other\n",
    "### difference() -------------------------------------- Return a set that contains the items that only exist in first set and not in second set \n",
    "### difference_update() --------------------------- Removes the items in this set that are also included in another\n",
    "### symmetric_difference() ----------------------- Return a set that contains all items from both sets, except items that are present in both sets\n",
    "### symmetric_difference_update() ------------ Inserts the symmetric differences from this set and another"
   ]
  },
  {
   "cell_type": "code",
   "execution_count": 38,
   "id": "d5613efc",
   "metadata": {},
   "outputs": [
    {
     "name": "stdout",
     "output_type": "stream",
     "text": [
      "{'a', 'b', 'd', 'c'}\n",
      "{'a', 'b', 'e', 'd', 'c'}\n"
     ]
    }
   ],
   "source": [
    "# Add\n",
    "alphabets = {'a','b','c','d'}\n",
    "print(alphabets)\n",
    "alphabets.add('e')\n",
    "print(alphabets)"
   ]
  },
  {
   "cell_type": "code",
   "execution_count": 35,
   "id": "ceddcf7d",
   "metadata": {},
   "outputs": [
    {
     "name": "stdout",
     "output_type": "stream",
     "text": [
      "{'a', 'b', 'd', 'c'}\n",
      "set()\n"
     ]
    }
   ],
   "source": [
    "# Clear\n",
    "alphabets = {'a','b','c','d'}\n",
    "print(alphabets)\n",
    "alphabets.clear()\n",
    "print(alphabets)"
   ]
  },
  {
   "cell_type": "code",
   "execution_count": 34,
   "id": "e5860edb",
   "metadata": {},
   "outputs": [
    {
     "name": "stdout",
     "output_type": "stream",
     "text": [
      "{'a', 'b', 'd', 'c'}\n"
     ]
    }
   ],
   "source": [
    "# Copy\n",
    "alphabets = {'a','b','c','d'}\n",
    "alpha_copy = alphabets.copy()\n",
    "print(alpha_copy)"
   ]
  },
  {
   "cell_type": "code",
   "execution_count": 30,
   "id": "df195bf4",
   "metadata": {},
   "outputs": [
    {
     "name": "stdout",
     "output_type": "stream",
     "text": [
      "{'b', 'd', 'c'}\n"
     ]
    }
   ],
   "source": [
    "# Discard\n",
    "alphabets = {'a','b','c','d'}\n",
    "alphabets.discard('a')\n",
    "print(alphabets)"
   ]
  },
  {
   "cell_type": "code",
   "execution_count": 31,
   "id": "9a805cb8",
   "metadata": {},
   "outputs": [
    {
     "name": "stdout",
     "output_type": "stream",
     "text": [
      "{'b', 'd', 'c'}\n"
     ]
    }
   ],
   "source": [
    "# Remove\n",
    "alphabets = {'a','b','c','d'}\n",
    "alphabets.remove('a')\n",
    "print(alphabets)"
   ]
  },
  {
   "cell_type": "code",
   "execution_count": 33,
   "id": "3b909502",
   "metadata": {},
   "outputs": [
    {
     "name": "stdout",
     "output_type": "stream",
     "text": [
      "{'b', 'd', 'c'}\n"
     ]
    }
   ],
   "source": [
    "# Pop\n",
    "alphabets = {'a','b','c','d'}\n",
    "alphabets.pop()\n",
    "print(alphabets)"
   ]
  },
  {
   "cell_type": "code",
   "execution_count": 40,
   "id": "1a3cea48",
   "metadata": {},
   "outputs": [
    {
     "name": "stdout",
     "output_type": "stream",
     "text": [
      "{1, 2, 'a', 'b', 3, 4, 5, 6, 7, 8, 9, 10, 'd', 'c'}\n"
     ]
    }
   ],
   "source": [
    "# Union\n",
    "alphabets = {'a','b','c','d'}\n",
    "numbers = {1,2,3,4,5,6,7,8,9,10}\n",
    "z = alphabets.union(numbers)\n",
    "print(z)"
   ]
  },
  {
   "cell_type": "code",
   "execution_count": 42,
   "id": "aa194039",
   "metadata": {},
   "outputs": [
    {
     "name": "stdout",
     "output_type": "stream",
     "text": [
      "{1, 2, 'a', 'b', 3, 4, 5, 6, 7, 8, 9, 10, 'd', 'c'}\n"
     ]
    }
   ],
   "source": [
    "# Update\n",
    "alphabets = {'a','b','c','d'}\n",
    "numbers = {1,2,3,4,5,6,7,8,9,10}\n",
    "alphabets.update(numbers)\n",
    "print(alphabets)"
   ]
  },
  {
   "cell_type": "code",
   "execution_count": 20,
   "id": "12932b6e",
   "metadata": {},
   "outputs": [
    {
     "name": "stdout",
     "output_type": "stream",
     "text": [
      "True\n"
     ]
    }
   ],
   "source": [
    "# Is disjoint\n",
    "x = {'a','b','c','d'}\n",
    "y = {'e','f','g','h'}\n",
    "z = x.isdisjoint(y)\n",
    "print(z)"
   ]
  },
  {
   "cell_type": "code",
   "execution_count": 18,
   "id": "60804f69",
   "metadata": {},
   "outputs": [
    {
     "name": "stdout",
     "output_type": "stream",
     "text": [
      "True\n"
     ]
    }
   ],
   "source": [
    "# Is subset\n",
    "x = {'a','b','c','d'}\n",
    "y = {'a','b','c','d','e','f','g','h'}\n",
    "z = x.issubset(y)\n",
    "print(z)"
   ]
  },
  {
   "cell_type": "code",
   "execution_count": 23,
   "id": "890510c8",
   "metadata": {},
   "outputs": [
    {
     "name": "stdout",
     "output_type": "stream",
     "text": [
      "True\n"
     ]
    }
   ],
   "source": [
    "# Is superset\n",
    "x = {'a','b','c','d'}\n",
    "y = {'a','b','c','d','e','f','g','h'}\n",
    "z = y.issuperset(x)\n",
    "print(z)"
   ]
  },
  {
   "cell_type": "code",
   "execution_count": 21,
   "id": "c5d4a473",
   "metadata": {},
   "outputs": [
    {
     "name": "stdout",
     "output_type": "stream",
     "text": [
      "{'a', 'b'}\n"
     ]
    }
   ],
   "source": [
    "# Intersection\n",
    "x = {'a','b','c','d'}\n",
    "y = {'a','b','e','f','g','h'}\n",
    "z = x.intersection(y)\n",
    "print(z)"
   ]
  },
  {
   "cell_type": "code",
   "execution_count": 47,
   "id": "e0df3129",
   "metadata": {},
   "outputs": [
    {
     "name": "stdout",
     "output_type": "stream",
     "text": [
      "{'d', 'c'}\n",
      "{'f', 'e', 'h', 'g'}\n"
     ]
    }
   ],
   "source": [
    "# Difference function is similar to substracting first set from second set\n",
    "x = {'a','b','c','d'}\n",
    "y = {'a','b','e','f','g','h'}\n",
    " \n",
    "y_x = y.difference(x)\n",
    "print(x_y)\n",
    "print(y_x)\n",
    "\n",
    "# x-y = {'a','b','c','d'} - {'a','b','e','f','g','h'}\n",
    "# y-x = {'a','b','e','f','g','h'} - {'a','b','c','d'}"
   ]
  },
  {
   "cell_type": "code",
   "execution_count": 44,
   "id": "fa3310c7",
   "metadata": {},
   "outputs": [
    {
     "name": "stdout",
     "output_type": "stream",
     "text": [
      "{'f', 'b', 'h', 'g', 'e', 'd', 'c'}\n"
     ]
    }
   ],
   "source": [
    "# Symmetric difference\n",
    "x = {'a','b','c','d'}\n",
    "y = {'a','b','e','f','g','h'}\n",
    "x_y = x.symmetric_difference(y)   \n",
    "print(x_y)"
   ]
  }
 ],
 "metadata": {
  "kernelspec": {
   "display_name": "Python 3 (ipykernel)",
   "language": "python",
   "name": "python3"
  },
  "language_info": {
   "codemirror_mode": {
    "name": "ipython",
    "version": 3
   },
   "file_extension": ".py",
   "mimetype": "text/x-python",
   "name": "python",
   "nbconvert_exporter": "python",
   "pygments_lexer": "ipython3",
   "version": "3.10.9"
  }
 },
 "nbformat": 4,
 "nbformat_minor": 5
}
