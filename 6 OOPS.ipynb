{
 "cells": [
  {
   "cell_type": "markdown",
   "id": "c436a854",
   "metadata": {},
   "source": [
    "## Object Oriented Programming"
   ]
  },
  {
   "cell_type": "code",
   "execution_count": null,
   "id": "d2ef6cb8",
   "metadata": {},
   "outputs": [],
   "source": [
    "# Object-oriented programming (OOP) is a programming paradigm that revolves around the concept of \"objects\".\n",
    "# Which can contain data in the form of attributes (variables) and code in the form of methods (functions).\n",
    "\n",
    "# Objects for Managing Data:\n",
    "# Objects encapsulate data by bundling together related attributes into a single entity. \n",
    "# These attributes represent the state or characteristics of the object. \n",
    "# For example, in a Car class, attributes like brand, model, and color represent the data associated with each car object. \n",
    "# By organizing data into objects, OOP enables a more intuitive and organized way to represent complex systems.\n",
    "\n",
    "# Methods for Manipulating Data:\n",
    "# Methods, on the other hand, are functions defined within a class that operate on the data contained within objects. \n",
    "# These functions encapsulate behaviors or operations that can be performed on the data. \n",
    "# Car class example, methods like display_info and change_color manipulate the data associated with car objects.\n",
    "\n",
    "# In summary, objects manage data by encapsulating related attributes.\n",
    "# While methods manipulate that data by providing operations and behaviors that can be performed on it. "
   ]
  },
  {
   "cell_type": "code",
   "execution_count": null,
   "id": "d663a9da",
   "metadata": {},
   "outputs": [],
   "source": [
    "# Key Concepts:\n",
    "# Classes:\n",
    "# A class is a blueprint for creating objects. It defines the attributes and methods that the objects of the class will have.\n",
    "# In Python, you can define a class using the class keyword.\n",
    "\n",
    "# Objects (Instances):\n",
    "# An object is an instance of a class. It is a concrete entity based on the blueprint provided by the class.\n",
    "# You can create objects of a class using the class name followed by parentheses.\n",
    "\n",
    "# Attributes:\n",
    "# Attributes are data stored inside a class or instance and represent the state or characteristics of the object.\n",
    "# They are accessed using dot notation (object.attribute).\n",
    "\n",
    "# Methods:\n",
    "# Methods are functions defined within a class and are used to perform operations on objects of the class.\n",
    "# They can access and modify the attributes of the class.\n",
    "# The first parameter of a method in Python is always self, which represents the instance of the class."
   ]
  },
  {
   "cell_type": "code",
   "execution_count": null,
   "id": "f2904b86",
   "metadata": {},
   "outputs": [],
   "source": [
    "# OOPs Concepts in Python\n",
    "# Class in Python\n",
    "# Objects in Python\n",
    "# Polymorphism in Python\n",
    "# Encapsulation in Python\n",
    "# Inheritance in Python\n",
    "# Data Abstraction in Python\n",
    "\n",
    "# Class in Python:\n",
    "# A class is a blueprint for creating objects. \n",
    "# It defines the attributes and methods that the objects of the class will have. \n",
    "# In Python, you can define a class using the class keyword followed by the class name. Here's a basic example:\n",
    "# class MyClass:\n",
    "#     def __init__(self, x):\n",
    "#         self.x = x\n",
    "\n",
    "#     def display(self):\n",
    "#         print(\"Value of x:\", self.x)\n",
    "        \n",
    "# Objects in Python:\n",
    "# Objects are instances of classes. \n",
    "# They are concrete entities based on the blueprint provided by the class. \n",
    "# You can create objects of a class using the class name followed by parentheses. \n",
    "# Here's how you can create objects of the MyClass class:\n",
    "# obj1 = MyClass(5)\n",
    "# obj2 = MyClass(10)\n",
    "\n",
    "# Polymorphism in Python:\n",
    "# Polymorphism allows objects of different classes to be treated as objects of a common superclass. \n",
    "# It enables you to use a single interface for different data types or classes.\n",
    "# Polymorphism can be achieved through method overriding or method overloading. Here's an example of method overriding:\n",
    "# class Animal:\n",
    "#     def sound(self):\n",
    "#         print(\"Animal makes a sound\")\n",
    "\n",
    "# class Dog(Animal):\n",
    "#     def sound(self):\n",
    "#         print(\"Dog barks\")\n",
    "\n",
    "# class Cat(Animal):\n",
    "#     def sound(self):\n",
    "#         print(\"Cat meows\")\n",
    "\n",
    "# # Polymorphic behavior\n",
    "# animals = [Dog(), Cat()]\n",
    "# for animal in animals:\n",
    "#     animal.sound()\n",
    "    \n",
    "# Encapsulation in Python:\n",
    "# Encapsulation is the bundling of data and methods that operate on that data within a single unit (i.e., class). \n",
    "# It restricts direct access to some of the object's components and prevents the accidental modification of data. \n",
    "# In Python, encapsulation can be achieved by using private variables and methods, denoted by a leading underscore. \n",
    "# Here's an example:\n",
    "# class MyClass:\n",
    "#     def __init__(self):\n",
    "#         self._data = 10\n",
    "\n",
    "#     def _private_method(self):\n",
    "#         print(\"This is a private method\")\n",
    "\n",
    "# obj = MyClass()\n",
    "# print(obj._data)  # Accessing private variable (not recommended)\n",
    "# obj._private_method()  # Calling private method (not recommended)\n",
    "\n",
    "# Inheritance in Python:\n",
    "# Inheritance is a mechanism in which a new class inherits properties and behaviors (attributes and methods) from anotherclass. \n",
    "# The class from which a subclass inherits is called the superclass or parent class. \n",
    "# In Python, you can achieve inheritance by passing the superclass as a parameter in the class definition.\n",
    "# Here's an example:\n",
    "# class Vehicle:\n",
    "#     def drive(self):\n",
    "#         print(\"Vehicle is being driven\")\n",
    "\n",
    "# class Car(Vehicle):\n",
    "#     def accelerate(self):\n",
    "#         print(\"Car is accelerating\")\n",
    "\n",
    "# # Car inherits from Vehicle\n",
    "# car = Car()\n",
    "# car.drive()  # Output: Vehicle is being driven\n",
    "# car.accelerate()  # Output: Car is accelerating\n",
    "\n",
    "# Data Abstraction in Python:\n",
    "# Data abstraction is the process of hiding the implementation details and showing only the necessary features of an object. \n",
    "# It allows you to focus on what an object does rather than how it does it. \n",
    "# In Python, data abstraction can be achieved by using abstract classes and methods from the abc (Abstract Base Classes)module.\n",
    "# Here's an example:\n",
    "# from abc import ABC, abstractmethod\n",
    "\n",
    "# class Shape(ABC):\n",
    "#     @abstractmethod\n",
    "#     def area(self):\n",
    "#         pass\n",
    "\n",
    "# class Rectangle(Shape):\n",
    "#     def __init__(self, width, height):\n",
    "#         self.width = width\n",
    "#         self.height = height\n",
    "\n",
    "#     def area(self):\n",
    "#         return self.width * self.height\n",
    "\n",
    "# # Shape cannot be instantiated directly\n",
    "# # shape = Shape()  # Raises TypeError\n",
    "\n",
    "# # Rectangle is a subclass of Shape and implements the area method\n",
    "# rectangle = Rectangle(5, 4)\n",
    "# print(\"Area of Rectangle:\", rectangle.area())  # Output: 20\n",
    "\n",
    "# These are the fundamental OOP concepts in Python.\n",
    "# Understanding and utilizing these concepts will help you write cleaner, more organized, and maintainable code."
   ]
  },
  {
   "cell_type": "code",
   "execution_count": 41,
   "id": "8b113f25",
   "metadata": {},
   "outputs": [
    {
     "name": "stdout",
     "output_type": "stream",
     "text": [
      "Employee name is : xyz\n",
      "Employee role is : xyz\n",
      "\n",
      "Employee name is : Raihan\n",
      "Employee role is : AI/ML Engineer\n",
      "\n",
      "Employee name is : Rohan\n",
      "Employee role is : Full Stack Developer\n"
     ]
    }
   ],
   "source": [
    "class Employee:\n",
    "    name = \"xyz\"\n",
    "    role = \"xyz\"\n",
    "    \n",
    "    def info(self):\n",
    "        print(f\"Employee name is : {self.name}\")\n",
    "        print(f\"Employee role is : {self.role}\")\n",
    "\n",
    "xyz = Employee()\n",
    "xyz.info()\n",
    "print()\n",
    "\n",
    "a = Employee()\n",
    "a.name = \"Raihan\"\n",
    "a.role = \"AI/ML Engineer\"\n",
    "a.info()\n",
    "print()\n",
    "\n",
    "b = Employee()\n",
    "b.name = \"Rohan\"\n",
    "b.role = \"Full Stack Developer\"\n",
    "b.info()"
   ]
  },
  {
   "cell_type": "markdown",
   "id": "5c4a0cf4",
   "metadata": {},
   "source": [
    "## Constructor in Python"
   ]
  },
  {
   "cell_type": "code",
   "execution_count": 48,
   "id": "d42f6172",
   "metadata": {},
   "outputs": [],
   "source": [
    "# A constructor is a special method in a class used to create and initialize an object of a class. \n",
    "# There are different types of constructors. Constructor is invoked automatically when an object of a class is created.\n",
    "# A constructor is a unique function that gets called automatically when an object is created of a class. \n",
    "# The main purpose of a constructor is to initialize or assign values to the data members of that class. \n",
    "# It cannot return any value other than None.\n",
    "\n",
    "# Syntax of Python Constructor\n",
    "# def __init__(self):\n",
    "\n",
    "# init is one of the reserved functions in Python. In Object Oriented Programming, it is known as a constructor.\n",
    "\n",
    "# Types of Constructors in Python\n",
    "# Parameterized Constructor\n",
    "# Default Constructor\n",
    "\n",
    "# Parameterized Constructor in Python\n",
    "# When the constructor accepts arguments along with self, it is known as parameterized constructor.\n",
    "# These arguments can be used inside the class to assign the values to the data members.\n",
    "# Example:\n",
    "# class Employee:\n",
    "#     def __init__(self, n, r):\n",
    "#         self.name = n\n",
    "#         self.role = r\n",
    "    \n",
    "#     def info(self):\n",
    "#         print(f\"Employee name is : {self.name}\")\n",
    "#         print(f\"Employee role is : {self.role}\")    \n",
    "        \n",
    "# a = Employee(\"Raihan\", \"AI/ML Engineer\")\n",
    "# a.info()\n",
    "\n",
    "# Default Constructor in Python\n",
    "# When the constructor doesn't accept any arguments from the object and has only one argument, self, in the constructor.\n",
    "# Example:\n",
    "# class Employee:\n",
    "#     def __init__(self):\n",
    "#         print(\"Hey i am an employee\")  \n",
    "        \n",
    "# a = Employee()"
   ]
  },
  {
   "cell_type": "code",
   "execution_count": 43,
   "id": "ff574d1e",
   "metadata": {},
   "outputs": [
    {
     "name": "stdout",
     "output_type": "stream",
     "text": [
      "Employee name is : Raihan\n",
      "Employee role is : AI/ML Engineer\n",
      "\n",
      "Employee name is : Rohan\n",
      "Employee role is : Full Stack Developer\n"
     ]
    }
   ],
   "source": [
    "class Employee:\n",
    "    def __init__(self, n, r):\n",
    "        self.name = n\n",
    "        self.role = r\n",
    "    \n",
    "    def info(self):\n",
    "        print(f\"Employee name is : {self.name}\")\n",
    "        print(f\"Employee role is : {self.role}\")    \n",
    "        \n",
    "a = Employee(\"Raihan\", \"AI/ML Engineer\")\n",
    "a.info()\n",
    "print()\n",
    "b = Employee(\"Rohan\", \"Full Stack Developer\")\n",
    "b.info()"
   ]
  },
  {
   "cell_type": "markdown",
   "id": "c0cae7bc",
   "metadata": {},
   "source": [
    "## Decorators in Python"
   ]
  },
  {
   "cell_type": "code",
   "execution_count": null,
   "id": "a0499164",
   "metadata": {},
   "outputs": [],
   "source": [
    "# Python decorators are a powerful and versatile tool that allow you to modify the behavior of functions and methods. \n",
    "# They are a way to extend the functionality of a function or method without modifying its source code.\n",
    "\n",
    "# A decorator is a function that takes another function as an argument and returns a new function that modifies the behavior of the original function. \n",
    "# The new function is often referred to as a \"decorated\" function. The basic syntax for using a decorator is the following:\n",
    "\n",
    "# Syntax\n",
    "# @decorator_function\n",
    "# def my_function():\n",
    "#     pass"
   ]
  },
  {
   "cell_type": "code",
   "execution_count": 52,
   "id": "3fea8286",
   "metadata": {},
   "outputs": [
    {
     "name": "stdout",
     "output_type": "stream",
     "text": [
      "Good Morning\n",
      "Hello World\n",
      "Thanks for using this function\n"
     ]
    }
   ],
   "source": [
    "def greet(func):\n",
    "    def modifyed_func():\n",
    "        print(\"Good Morning\")\n",
    "        func()\n",
    "        print(\"Thanks for using this function\")\n",
    "    return modifyed_func\n",
    "        \n",
    "@greet        \n",
    "def func():\n",
    "    print(\"Hello World\")\n",
    "    \n",
    "func()"
   ]
  },
  {
   "cell_type": "code",
   "execution_count": 7,
   "id": "d5a9a304",
   "metadata": {},
   "outputs": [
    {
     "name": "stdout",
     "output_type": "stream",
     "text": [
      "Enter your login credentials\n",
      "Enter your username : raihan\n",
      "Enter your email : psraihan098@gmail.com\n",
      "Enter your password : ra1han0_0\n",
      "Login Successfull\n"
     ]
    }
   ],
   "source": [
    "# One common use of decorators is to add logging to a function. \n",
    "# For example, you could use a decorator to log the arguments and return value of a function each time it is called.\n",
    "\n",
    "def decorator(login):\n",
    "    def modifyed_func():\n",
    "        print(\"Enter your login credentials\")\n",
    "        login()\n",
    "        print(\"Login Successfull\")\n",
    "    return modifyed_func\n",
    "\n",
    "@decorator\n",
    "def login():\n",
    "    username = input(\"Enter your username : \")\n",
    "    email = input(\"Enter your email : \")\n",
    "    password = input(\"Enter your password : \")\n",
    "    \n",
    "login()"
   ]
  },
  {
   "cell_type": "markdown",
   "id": "8b674fab",
   "metadata": {},
   "source": [
    "## Getters and Setters in Python"
   ]
  },
  {
   "cell_type": "code",
   "execution_count": null,
   "id": "b4ea23a3",
   "metadata": {},
   "outputs": [],
   "source": []
  },
  {
   "cell_type": "markdown",
   "id": "9a1a3a60",
   "metadata": {},
   "source": [
    "## Inheritance in Python"
   ]
  },
  {
   "cell_type": "code",
   "execution_count": null,
   "id": "db613a9e",
   "metadata": {},
   "outputs": [],
   "source": [
    "# Inheritance allows us to define a class that inherits all the methods and properties from another class.\n",
    "# Parent class is the class being inherited from, also called base class.\n",
    "# Child class is the class that inherits from another class, also called derived class.\n",
    "\n",
    "# Benefits of inheritance are:\n",
    "# 1) Inheritance allows you to inherit the properties of a class, i.e., base class to another, i.e., derived class. \n",
    "# 2) It represents real-world relationships well.\n",
    "# 3) It provides the reusability of a code. We don’t have to write the same code again and again. Also, it allows us to add more features to a class without modifying it.\n",
    "# 4) It is transitive in nature, which means that if class B inherits from another class A, then all the subclasses of B would automatically inherit from class A.\n",
    "# 5) Inheritance offers a simple, understandable model structure. \n",
    "# 6) Less development and maintenance expenses result from an inheritance. "
   ]
  },
  {
   "cell_type": "code",
   "execution_count": 38,
   "id": "e40390d4",
   "metadata": {},
   "outputs": [
    {
     "name": "stdout",
     "output_type": "stream",
     "text": [
      "Employee id is : 1\n",
      "Employee name is : Raihan\n",
      "Employee role is : AI/ML Engineer\n",
      "Employee skills are : Python\n"
     ]
    }
   ],
   "source": [
    "class Employee:\n",
    "    def __init__(self, id, name, role):\n",
    "        self.id = id\n",
    "        self.name = name\n",
    "        self.role = role\n",
    "    \n",
    "    def einfo(self):\n",
    "        print(f\"Employee id is : {self.id}\")\n",
    "        print(f\"Employee name is : {self.name}\")\n",
    "        print(f\"Employee role is : {self.role}\")    \n",
    "        \n",
    "class Programmer(Employee):        \n",
    "    def pinfo(self):\n",
    "        print(f\"Employee skills are : Python\")\n",
    "\n",
    "e1 = Programmer(1, \"Raihan\", \"AI/ML Engineer\")\n",
    "e1.einfo()\n",
    "e1.pinfo()"
   ]
  },
  {
   "cell_type": "code",
   "execution_count": 37,
   "id": "6797561d",
   "metadata": {},
   "outputs": [
    {
     "name": "stdout",
     "output_type": "stream",
     "text": [
      "Employee id is : 1\n",
      "Employee name is : Raihan\n",
      "Employee role is : AI/ML Engineer\n",
      "Employee skills are : Python\n",
      "\n",
      "Employee id is : 2\n",
      "Employee name is : Rohan\n",
      "Employee role is : Full Stack Developer\n",
      "Employee skills are : React\n"
     ]
    }
   ],
   "source": [
    "class Employee:\n",
    "    def __init__(self, id, name, role):\n",
    "        self.id = id\n",
    "        self.name = name\n",
    "        self.role = role\n",
    "    \n",
    "    def einfo(self):\n",
    "        print(f\"Employee id is : {self.id}\")\n",
    "        print(f\"Employee name is : {self.name}\")\n",
    "        print(f\"Employee role is : {self.role}\")    \n",
    "        \n",
    "class Programmer(Employee):        \n",
    "    def pinfo(self, skill):\n",
    "        self.skill = skill\n",
    "        print(f\"Employee skills are : {self.skill}\")\n",
    "\n",
    "e1 = Programmer(1, \"Raihan\", \"AI/ML Engineer\")\n",
    "e1.einfo()\n",
    "e1.pinfo(\"Python\")\n",
    "print()\n",
    "e2 = Programmer(2, \"Rohan\", \"Full Stack Developer\")\n",
    "e2.einfo()\n",
    "e2.pinfo(\"React\")"
   ]
  },
  {
   "cell_type": "markdown",
   "id": "b2e080f1",
   "metadata": {},
   "source": [
    "## Access Modifiers in Python"
   ]
  },
  {
   "cell_type": "code",
   "execution_count": null,
   "id": "41345cd3",
   "metadata": {},
   "outputs": [],
   "source": []
  }
 ],
 "metadata": {
  "kernelspec": {
   "display_name": "Python 3 (ipykernel)",
   "language": "python",
   "name": "python3"
  },
  "language_info": {
   "codemirror_mode": {
    "name": "ipython",
    "version": 3
   },
   "file_extension": ".py",
   "mimetype": "text/x-python",
   "name": "python",
   "nbconvert_exporter": "python",
   "pygments_lexer": "ipython3",
   "version": "3.10.9"
  }
 },
 "nbformat": 4,
 "nbformat_minor": 5
}
