{
 "cells": [
  {
   "cell_type": "markdown",
   "id": "1dcc6f9c",
   "metadata": {},
   "source": [
    "# Dictionary"
   ]
  },
  {
   "cell_type": "markdown",
   "id": "19accbe0",
   "metadata": {},
   "source": [
    "#### A dictionary is a collection which is ordered, changeable and do not allow duplicates\n",
    "#### Dictionaries are changeable, meaning that we can change, add or remove items after the dictionary has been created.\n",
    "#### Dictionaries cannot have two items with the same key\n",
    "#### Dictionaries are used to store data values in key:value pairs\n",
    "#### Dictionaries are written with curly brackets, and have keys and values"
   ]
  },
  {
   "cell_type": "markdown",
   "id": "fb8b0a5a",
   "metadata": {},
   "source": [
    "# ---------------------------------------------------------------------------------------------------------------"
   ]
  },
  {
   "cell_type": "markdown",
   "id": "ed95dd77",
   "metadata": {},
   "source": [
    "### How to create a Dictionary"
   ]
  },
  {
   "cell_type": "code",
   "execution_count": 23,
   "id": "a14edeae",
   "metadata": {},
   "outputs": [
    {
     "name": "stdout",
     "output_type": "stream",
     "text": [
      "{'name': 'Aman', 'age': 20, 'gender': 'M', 'country': 'India', 'income': 1000000, 'phone no': 9977553311}\n"
     ]
    }
   ],
   "source": [
    "customers = {\n",
    "    'name':'Aman',\n",
    "    'age':20,\n",
    "    'gender':'M',\n",
    "    'country':'India',\n",
    "    'income':1000000,\n",
    "    'phone no':9977553311,\n",
    "}\n",
    "print(customers)"
   ]
  },
  {
   "cell_type": "code",
   "execution_count": 25,
   "id": "ecc011f2",
   "metadata": {},
   "outputs": [
    {
     "name": "stdout",
     "output_type": "stream",
     "text": [
      "{'name': 'Aman', 'age': 20, 'country': 'India'}\n"
     ]
    }
   ],
   "source": [
    "customer = dict(name='Aman',age=20,country='India')\n",
    "print(customer)"
   ]
  },
  {
   "cell_type": "code",
   "execution_count": 24,
   "id": "8ad659f7",
   "metadata": {},
   "outputs": [
    {
     "name": "stdout",
     "output_type": "stream",
     "text": [
      "{1: ['Aman', 20, 'India'], 2: ['Bhavesh', 21, 'China'], 3: ['Chetan', 22, 'Japan'], 4: ['Deepanshu', 23, 'USA'], 5: ['Raihan', 24, 'India']}\n"
     ]
    }
   ],
   "source": [
    "customer_info = {1:['Aman',20,'India'],\n",
    "                2:['Bhavesh',21,'China'],\n",
    "                3:['Chetan',22,'Japan'],\n",
    "                4:['Deepanshu',23,'USA'],\n",
    "                5:['Raihan',24,'India']}\n",
    "\n",
    "print(customer_info)"
   ]
  },
  {
   "cell_type": "code",
   "execution_count": null,
   "id": "bf34496a",
   "metadata": {},
   "outputs": [],
   "source": [
    "# Nested Dictionary\n",
    "customer_details = {\n",
    "    'Aman'{:\n",
    "          },\n",
    "    {},\n",
    "    {},\n",
    "}"
   ]
  },
  {
   "cell_type": "markdown",
   "id": "408b4001",
   "metadata": {},
   "source": [
    "# ---------------------------------------------------------------------------------------------------------------"
   ]
  },
  {
   "cell_type": "code",
   "execution_count": 26,
   "id": "3982998c",
   "metadata": {},
   "outputs": [
    {
     "name": "stdout",
     "output_type": "stream",
     "text": [
      "<class 'dict'>\n"
     ]
    }
   ],
   "source": [
    "customers = {\n",
    "    'name':'Aman',\n",
    "    'age':20,\n",
    "    'gender':'M',\n",
    "    'country':'India',\n",
    "    'income':1000000,\n",
    "    'phone no':9977553311,\n",
    "}\n",
    "\n",
    "print(type(customers))"
   ]
  },
  {
   "cell_type": "code",
   "execution_count": 29,
   "id": "3c689b6e",
   "metadata": {},
   "outputs": [
    {
     "name": "stdout",
     "output_type": "stream",
     "text": [
      "6\n"
     ]
    }
   ],
   "source": [
    "customers = {\n",
    "    'name':'Aman',\n",
    "    'age':20,\n",
    "    'gender':'M',\n",
    "    'country':'India',\n",
    "    'income':1000000,\n",
    "    'phone no':9977553311,\n",
    "}\n",
    "\n",
    "print(len(customers))"
   ]
  },
  {
   "cell_type": "markdown",
   "id": "de710d54",
   "metadata": {},
   "source": [
    "# ---------------------------------------------------------------------------------------------------------------"
   ]
  },
  {
   "cell_type": "markdown",
   "id": "b7512bf5",
   "metadata": {},
   "source": [
    "### How to access items of a dictionary"
   ]
  },
  {
   "cell_type": "code",
   "execution_count": 42,
   "id": "eea3b934",
   "metadata": {},
   "outputs": [
    {
     "data": {
      "text/plain": [
       "20"
      ]
     },
     "execution_count": 42,
     "metadata": {},
     "output_type": "execute_result"
    }
   ],
   "source": [
    "customers = {\n",
    "    'name':'Aman',\n",
    "    'age':20,\n",
    "    'gender':'M',\n",
    "    'country':'India',\n",
    "    'income':1000000,\n",
    "    'phone no':9977553311,\n",
    "}\n",
    "\n",
    "customers['age']"
   ]
  },
  {
   "cell_type": "code",
   "execution_count": 34,
   "id": "1ae389ce",
   "metadata": {},
   "outputs": [
    {
     "data": {
      "text/plain": [
       "20"
      ]
     },
     "execution_count": 34,
     "metadata": {},
     "output_type": "execute_result"
    }
   ],
   "source": [
    "customers = {\n",
    "    'name':'Aman',\n",
    "    'age':20,\n",
    "    'gender':'M',\n",
    "    'country':'India',\n",
    "    'income':1000000,\n",
    "    'phone no':9977553311,\n",
    "}\n",
    "\n",
    "customers.get('age')"
   ]
  },
  {
   "cell_type": "code",
   "execution_count": 44,
   "id": "5e3fcd42",
   "metadata": {},
   "outputs": [
    {
     "data": {
      "text/plain": [
       "dict_keys(['name', 'age', 'gender', 'country', 'income', 'phone no'])"
      ]
     },
     "execution_count": 44,
     "metadata": {},
     "output_type": "execute_result"
    }
   ],
   "source": [
    "customers = {\n",
    "    'name':'Aman',\n",
    "    'age':20,\n",
    "    'gender':'M',\n",
    "    'country':'India',\n",
    "    'income':1000000,\n",
    "    'phone no':9977553311,\n",
    "}\n",
    "\n",
    "customers.keys()"
   ]
  },
  {
   "cell_type": "code",
   "execution_count": 39,
   "id": "4ae6b8ec",
   "metadata": {},
   "outputs": [
    {
     "data": {
      "text/plain": [
       "dict_values(['Aman', 20, 'M', 'India', 1000000, 9977553311])"
      ]
     },
     "execution_count": 39,
     "metadata": {},
     "output_type": "execute_result"
    }
   ],
   "source": [
    "customers = {\n",
    "    'name':'Aman',\n",
    "    'age':20,\n",
    "    'gender':'M',\n",
    "    'country':'India',\n",
    "    'income':1000000,\n",
    "    'phone no':9977553311,\n",
    "}\n",
    "\n",
    "customers.values()"
   ]
  },
  {
   "cell_type": "markdown",
   "id": "3ac1ed49",
   "metadata": {},
   "source": [
    "# ---------------------------------------------------------------------------------------------------------------"
   ]
  },
  {
   "cell_type": "markdown",
   "id": "ba6eb03a",
   "metadata": {},
   "source": [
    "### How to print the elements of a dictionary using loop"
   ]
  },
  {
   "cell_type": "code",
   "execution_count": 53,
   "id": "62dd23b1",
   "metadata": {},
   "outputs": [
    {
     "name": "stdout",
     "output_type": "stream",
     "text": [
      "Aman\n",
      "20\n",
      "M\n",
      "India\n",
      "1000000\n",
      "9977553311\n"
     ]
    }
   ],
   "source": [
    "customers = {\n",
    "    'name':'Aman',\n",
    "    'age':20,\n",
    "    'gender':'M',\n",
    "    'country':'India',\n",
    "    'income':1000000,\n",
    "    'phone no':9977553311,\n",
    "}\n",
    "\n",
    "for i in customers:\n",
    "    print(customers[i])"
   ]
  },
  {
   "cell_type": "code",
   "execution_count": 54,
   "id": "4eb8471f",
   "metadata": {},
   "outputs": [
    {
     "name": "stdout",
     "output_type": "stream",
     "text": [
      "name\n",
      "age\n",
      "gender\n",
      "country\n",
      "income\n",
      "phone no\n"
     ]
    }
   ],
   "source": [
    "customers = {\n",
    "    'name':'Aman',\n",
    "    'age':20,\n",
    "    'gender':'M',\n",
    "    'country':'India',\n",
    "    'income':1000000,\n",
    "    'phone no':9977553311,\n",
    "}\n",
    "\n",
    "for keys in customers.keys():\n",
    "    print((keys))"
   ]
  },
  {
   "cell_type": "code",
   "execution_count": 55,
   "id": "ca5bb948",
   "metadata": {},
   "outputs": [
    {
     "name": "stdout",
     "output_type": "stream",
     "text": [
      "Aman\n",
      "20\n",
      "M\n",
      "India\n",
      "1000000\n",
      "9977553311\n"
     ]
    }
   ],
   "source": [
    "customers = {\n",
    "    'name':'Aman',\n",
    "    'age':20,\n",
    "    'gender':'M',\n",
    "    'country':'India',\n",
    "    'income':1000000,\n",
    "    'phone no':9977553311,\n",
    "}\n",
    "\n",
    "for values in customers.values():\n",
    "    print((values))"
   ]
  },
  {
   "cell_type": "code",
   "execution_count": 56,
   "id": "ee4eed75",
   "metadata": {},
   "outputs": [
    {
     "name": "stdout",
     "output_type": "stream",
     "text": [
      "('name', 'Aman')\n",
      "('age', 20)\n",
      "('gender', 'M')\n",
      "('country', 'India')\n",
      "('income', 1000000)\n",
      "('phone no', 9977553311)\n"
     ]
    }
   ],
   "source": [
    "customers = {\n",
    "    'name':'Aman',\n",
    "    'age':20,\n",
    "    'gender':'M',\n",
    "    'country':'India',\n",
    "    'income':1000000,\n",
    "    'phone no':9977553311,\n",
    "}\n",
    "\n",
    "for keys,values in customers.items():\n",
    "    print((keys,values))"
   ]
  },
  {
   "cell_type": "markdown",
   "id": "760d91aa",
   "metadata": {},
   "source": [
    "# ---------------------------------------------------------------------------------------------------------------"
   ]
  },
  {
   "cell_type": "markdown",
   "id": "48d04825",
   "metadata": {},
   "source": [
    "### Dictionary Methods"
   ]
  },
  {
   "cell_type": "markdown",
   "id": "3aad0cef",
   "metadata": {},
   "source": [
    "### clear() -------------- Removes all the elements from the dictionary\n",
    "### copy() -------------- Returns a copy of the dictionary\n",
    "### fromkeys() ------- Returns a dictionary with the specified keys and value\n",
    "### get() ---------------- Returns the value of the specified key\n",
    "### items() ------------- Returns a list containing a tuple for each key value pair\n",
    "### keys() -------------- Returns a list containing the dictionary's keys\n",
    "### values() ----------- Returns a list of all the values in the dictionary\n",
    "### pop() --------------- Removes the element with the specified key\n",
    "### popitem() --------- Removes the last inserted key-value pair\n",
    "### update() ----------- Updates the dictionary with the specified key-value pairs\n",
    "### setdefault() ------- Returns the value of the specified key. If the key does not exist: insert the key, with the specified value"
   ]
  },
  {
   "cell_type": "markdown",
   "id": "c1642c99",
   "metadata": {},
   "source": [
    "# ---------------------------------------------------------------------------------------------------------------"
   ]
  },
  {
   "cell_type": "code",
   "execution_count": null,
   "id": "75b21dfe",
   "metadata": {},
   "outputs": [],
   "source": []
  }
 ],
 "metadata": {
  "kernelspec": {
   "display_name": "Python 3 (ipykernel)",
   "language": "python",
   "name": "python3"
  },
  "language_info": {
   "codemirror_mode": {
    "name": "ipython",
    "version": 3
   },
   "file_extension": ".py",
   "mimetype": "text/x-python",
   "name": "python",
   "nbconvert_exporter": "python",
   "pygments_lexer": "ipython3",
   "version": "3.10.9"
  }
 },
 "nbformat": 4,
 "nbformat_minor": 5
}
