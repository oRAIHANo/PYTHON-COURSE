{
 "cells": [
  {
   "cell_type": "markdown",
   "id": "c4b2437b",
   "metadata": {},
   "source": [
    "### Star Pattern"
   ]
  },
  {
   "cell_type": "markdown",
   "id": "7696feed",
   "metadata": {},
   "source": [
    "#### Increasing Traingle"
   ]
  },
  {
   "cell_type": "code",
   "execution_count": 4,
   "id": "d830bbda",
   "metadata": {},
   "outputs": [
    {
     "name": "stdout",
     "output_type": "stream",
     "text": [
      "Enter the number of rows : 5\n",
      "\n",
      "*\n",
      "**\n",
      "***\n",
      "****\n",
      "*****\n"
     ]
    }
   ],
   "source": [
    "# Increasing Traingle\n",
    "n = int(input('Enter the number of rows : '))\n",
    "for i in range(n+1):  # n+1 beacause when we use range function it will only loop through 0 to n-1\n",
    "    for j in range(i):\n",
    "        print('*', end='')\n",
    "    print()"
   ]
  },
  {
   "cell_type": "code",
   "execution_count": 3,
   "id": "afda4a53",
   "metadata": {},
   "outputs": [
    {
     "name": "stdout",
     "output_type": "stream",
     "text": [
      "Enter the number of rows : 5\n",
      "*\n",
      "**\n",
      "***\n",
      "****\n",
      "*****\n"
     ]
    }
   ],
   "source": [
    "# Increasing Traingle\n",
    "n = int(input('Enter the number of rows : '))\n",
    "for i in range(n):\n",
    "    for j in range(i+1):\n",
    "        print('*', end='')\n",
    "    print()"
   ]
  },
  {
   "cell_type": "code",
   "execution_count": 5,
   "id": "e0a42a3f",
   "metadata": {},
   "outputs": [
    {
     "name": "stdout",
     "output_type": "stream",
     "text": [
      "Enter the number of rows : 5\n",
      "*    \n",
      "**   \n",
      "***  \n",
      "**** \n",
      "*****\n"
     ]
    }
   ],
   "source": [
    "n = int(input('Enter the number of rows : '))\n",
    "for i in range(1,n+1):\n",
    "    for j in range(1,n+1):\n",
    "        if j<=i:\n",
    "            print('*', end='')\n",
    "        else:\n",
    "            print(' ', end='') \n",
    "    print()"
   ]
  },
  {
   "cell_type": "code",
   "execution_count": 6,
   "id": "b37dfa0b",
   "metadata": {},
   "outputs": [
    {
     "name": "stdout",
     "output_type": "stream",
     "text": [
      "Enter the number of rows : 5\n",
      "    *\n",
      "   **\n",
      "  ***\n",
      " ****\n",
      "*****\n"
     ]
    }
   ],
   "source": [
    "n = int(input('Enter the number of rows : '))\n",
    "for i in range(1,n+1):\n",
    "    for j in range(1,n+1):\n",
    "        if j>=n-i+1:\n",
    "            print('*', end='')\n",
    "        else:\n",
    "            print(' ', end='') \n",
    "    print()"
   ]
  },
  {
   "cell_type": "code",
   "execution_count": 59,
   "id": "6862499c",
   "metadata": {},
   "outputs": [
    {
     "name": "stdout",
     "output_type": "stream",
     "text": [
      "Enter the number of rows : 3\n",
      "\n",
      "*\n",
      "***\n",
      "*****\n"
     ]
    }
   ],
   "source": [
    "n = int(input('Enter the number of rows : '))\n",
    "for i in range(n+1): # n+1 beacause when we use range function it will only loop through 0 to n-1\n",
    "    for j in range(2*i-1):\n",
    "        print('*', end='')\n",
    "    print()"
   ]
  },
  {
   "cell_type": "code",
   "execution_count": 47,
   "id": "d5b35e74",
   "metadata": {},
   "outputs": [
    {
     "name": "stdout",
     "output_type": "stream",
     "text": [
      "Enter the number of rows : 2\n",
      "*\n",
      "***\n",
      "*****\n"
     ]
    }
   ],
   "source": [
    "n = int(input('Enter the number of rows : '))\n",
    "m = 0\n",
    "for i in range(n+1):  # n+1 beacause when we use range function it will only loop through 0 to n-1\n",
    "    for j in range(m+1):   \n",
    "        print('*', end='')\n",
    "    m=m+2\n",
    "    print()"
   ]
  },
  {
   "cell_type": "markdown",
   "id": "78127838",
   "metadata": {},
   "source": [
    "#### Decreasing Traingle"
   ]
  },
  {
   "cell_type": "code",
   "execution_count": 28,
   "id": "e04ee38f",
   "metadata": {},
   "outputs": [
    {
     "name": "stdout",
     "output_type": "stream",
     "text": [
      "Enter the number of rows : 5\n",
      "*****\n",
      "****\n",
      "***\n",
      "**\n",
      "*\n",
      "\n"
     ]
    }
   ],
   "source": [
    "# Decreasing Traingle\n",
    "n = int(input('Enter the number of rows : '))\n",
    "for i in range(n+1,0,-1):\n",
    "    for j in range(0,i-1):\n",
    "        print('*', end='')\n",
    "    print()"
   ]
  },
  {
   "cell_type": "code",
   "execution_count": 29,
   "id": "cdc554d7",
   "metadata": {},
   "outputs": [
    {
     "name": "stdout",
     "output_type": "stream",
     "text": [
      "Enter the number of rows : 5\n",
      "*****\n",
      "****\n",
      "***\n",
      "**\n",
      "*\n",
      "\n"
     ]
    }
   ],
   "source": [
    "# Decreasing Traingle\n",
    "n = int(input('Enter the number of rows : '))\n",
    "for i in range(n+1):\n",
    "    for j in range(n-i):\n",
    "        print('*', end='')\n",
    "    print()"
   ]
  },
  {
   "cell_type": "code",
   "execution_count": 54,
   "id": "98545a55",
   "metadata": {},
   "outputs": [
    {
     "name": "stdout",
     "output_type": "stream",
     "text": [
      "Enter the number of rows : 5\n",
      "*****\n",
      "**** \n",
      "***  \n",
      "**   \n",
      "*    \n"
     ]
    }
   ],
   "source": [
    "n = int(input('Enter the number of rows : '))\n",
    "for i in range(1,n+1):\n",
    "    for j in range(1,n+1):\n",
    "        if j<=n-i+1:\n",
    "            print('*', end='')\n",
    "        else:\n",
    "            print(' ', end='') \n",
    "    print()"
   ]
  },
  {
   "cell_type": "code",
   "execution_count": 46,
   "id": "ea497ee8",
   "metadata": {},
   "outputs": [
    {
     "name": "stdout",
     "output_type": "stream",
     "text": [
      "Enter the number of rows : 5\n",
      "*****\n",
      " ****\n",
      "  ***\n",
      "   **\n",
      "    *\n"
     ]
    }
   ],
   "source": [
    "n = int(input('Enter the number of rows : '))\n",
    "for i in range(1,n+1):\n",
    "    for j in range(1,n+1):\n",
    "        if j>=i:\n",
    "            print('*', end='')\n",
    "        else:\n",
    "            print(' ', end='') \n",
    "    print()"
   ]
  },
  {
   "cell_type": "markdown",
   "id": "c885dc6e",
   "metadata": {},
   "source": [
    "#### Increasing Equalateral Traingle"
   ]
  },
  {
   "cell_type": "code",
   "execution_count": 63,
   "id": "260aba46",
   "metadata": {},
   "outputs": [
    {
     "name": "stdout",
     "output_type": "stream",
     "text": [
      "Enter the number of rows : 9\n",
      "         \n",
      "         \n",
      "         \n",
      "         \n",
      "    *    \n",
      "   ***   \n",
      "  *****  \n",
      " ******* \n",
      "*********\n"
     ]
    }
   ],
   "source": [
    "n = int(input('Enter the number of rows : '))\n",
    "for i in range(1,n+1):\n",
    "    for j in range(1,n+1):\n",
    "        if j>=n-i+1 and j<=i:\n",
    "            print('*', end='')\n",
    "        else:\n",
    "            print(' ', end='') \n",
    "    print()"
   ]
  },
  {
   "cell_type": "markdown",
   "id": "d1b4f651",
   "metadata": {},
   "source": [
    "#### Decreasing Equalateral traingle"
   ]
  },
  {
   "cell_type": "code",
   "execution_count": 66,
   "id": "ed367804",
   "metadata": {},
   "outputs": [
    {
     "name": "stdout",
     "output_type": "stream",
     "text": [
      "Enter the number of rows : 9\n",
      "*********\n",
      " ******* \n",
      "  *****  \n",
      "   ***   \n",
      "    *    \n",
      "         \n",
      "         \n",
      "         \n",
      "         \n"
     ]
    }
   ],
   "source": [
    "n = int(input('Enter the number of rows : '))\n",
    "for i in range(1,n+1):\n",
    "    for j in range(1,n+1):\n",
    "        if j>=i and j<=n-i+1:\n",
    "            print('*', end='')\n",
    "        else:\n",
    "            print(' ', end='') \n",
    "    print()"
   ]
  },
  {
   "cell_type": "markdown",
   "id": "a87620e4",
   "metadata": {},
   "source": [
    "# ---------------------------------------------------------------------------------------------------------------"
   ]
  },
  {
   "cell_type": "markdown",
   "id": "f23871ed",
   "metadata": {},
   "source": [
    "### Number Pattern Problem"
   ]
  },
  {
   "cell_type": "code",
   "execution_count": 31,
   "id": "443fa1d6",
   "metadata": {},
   "outputs": [
    {
     "name": "stdout",
     "output_type": "stream",
     "text": [
      "Enter the number of rows : 5\n",
      "\n",
      "1\n",
      "22\n",
      "333\n",
      "4444\n",
      "55555\n"
     ]
    }
   ],
   "source": [
    "n = int(input('Enter the number of rows : '))\n",
    "for i in range(n+1):  \n",
    "    for j in range(i):\n",
    "        print(i, end='')\n",
    "    print()"
   ]
  },
  {
   "cell_type": "code",
   "execution_count": 37,
   "id": "07a7e685",
   "metadata": {},
   "outputs": [
    {
     "name": "stdout",
     "output_type": "stream",
     "text": [
      "Enter the number of rows : 5\n",
      "\n",
      "1\n",
      "23\n",
      "345\n",
      "4567\n",
      "56789\n"
     ]
    }
   ],
   "source": [
    "n = int(input('Enter the number of rows : '))\n",
    "for i in range(n+1):  \n",
    "    for j in range(i):\n",
    "        print(i, end='')\n",
    "        i+=1\n",
    "    print()"
   ]
  },
  {
   "cell_type": "code",
   "execution_count": 2,
   "id": "998b613a",
   "metadata": {},
   "outputs": [
    {
     "name": "stdout",
     "output_type": "stream",
     "text": [
      "Enter the number of rows : 5\n",
      "1\n",
      "12\n",
      "123\n",
      "1234\n",
      "12345\n"
     ]
    }
   ],
   "source": [
    "n = int(input('Enter the number of rows : '))\n",
    "for i in range(1,n+1):  \n",
    "    for j in range(1,i+1):\n",
    "        print(j, end='')\n",
    "    print() "
   ]
  },
  {
   "cell_type": "markdown",
   "id": "791f1a11",
   "metadata": {},
   "source": [
    "## Excersice 1"
   ]
  },
  {
   "cell_type": "code",
   "execution_count": 1,
   "id": "319a24e6",
   "metadata": {},
   "outputs": [],
   "source": [
    "# Kon banega crore pati\n",
    "# questions = [\n",
    "#   [\n",
    "#     \"Which language was used to create fb?\", \"Python\", \"French\", \"JavaScript\",\n",
    "#     \"Php\", \"None\", 4\n",
    "#   ],\n",
    "#   [\n",
    "#     \"Which language was used to create fb?\", \"Python\", \"French\", \"JavaScript\",\n",
    "#     \"Php\", \"None\", 4\n",
    "#   ],\n",
    "#   [\n",
    "#     \"Which language was used to create fb?\", \"Python\", \"French\", \"JavaScript\",\n",
    "#     \"Php\", \"None\", 4\n",
    "#   ],\n",
    "#   [\n",
    "#     \"Which language was used to create fb?\", \"Python\", \"French\", \"JavaScript\",\n",
    "#     \"Php\", \"None\", 4\n",
    "#   ],\n",
    "#   [\n",
    "#     \"Which language was used to create fb?\", \"Python\", \"French\", \"JavaScript\",\n",
    "#     \"Php\", \"None\", 4\n",
    "#   ],\n",
    "#   [\n",
    "#     \"Which language was used to create fb?\", \"Python\", \"French\", \"JavaScript\",\n",
    "#     \"Php\", \"None\", 4\n",
    "#   ],\n",
    "#   [\n",
    "#     \"Which language was used to create fb?\", \"Python\", \"French\", \"JavaScript\",\n",
    "#     \"Php\", \"None\", 4\n",
    "#   ],\n",
    "#   [\n",
    "#     \"Which language was used to create fb?\", \"Python\", \"French\", \"JavaScript\",\n",
    "#     \"Php\", \"None\", 4\n",
    "#   ],\n",
    "#   [\n",
    "#     \"Which language was used to create fb?\", \"Python\", \"French\", \"JavaScript\",\n",
    "#     \"Php\", \"None\", 4\n",
    "#   ],\n",
    "#   [\n",
    "#     \"Which language was used to create fb?\", \"Python\", \"French\", \"JavaScript\",\n",
    "#     \"Php\", \"None\", 4\n",
    "#   ],\n",
    "#   [\n",
    "#     \"Which language was used to create fb?\", \"Python\", \"French\", \"JavaScript\",\n",
    "#     \"Php\", \"None\", 4\n",
    "#   ],\n",
    "#   [\n",
    "#     \"Which language was used to create fb?\", \"Python\", \"French\", \"JavaScript\",\n",
    "#     \"Php\", \"None\", 4\n",
    "#   ],\n",
    "#   [\n",
    "#     \"Which language was used to create fb?\", \"Python\", \"French\", \"JavaScript\",\n",
    "#     \"Php\", \"None\", 4\n",
    "#   ],\n",
    "#   [\n",
    "#     \"Which language was used to create fb?\", \"Python\", \"French\", \"JavaScript\",\n",
    "#     \"Php\", \"None\", 4\n",
    "#   ],\n",
    "#   [\n",
    "#     \"Which language was used to create fb?\", \"Python\", \"French\", \"JavaScript\",\n",
    "#     \"Php\", \"None\", 4\n",
    "#   ],\n",
    "#   [\n",
    "#     \"Which language was used to create fb?\", \"Python\", \"French\", \"JavaScript\",\n",
    "#     \"Php\", \"None\", 4\n",
    "#   ],\n",
    "#   [\n",
    "#     \"Which language was used to create fb?\", \"Python\", \"French\", \"JavaScript\",\n",
    "#     \"Php\", \"None\", 4\n",
    "#   ],\n",
    "#   [\n",
    "#     \"Which language was used to create fb?\", \"Python\", \"French\", \"JavaScript\",\n",
    "#     \"Php\", \"None\", 4\n",
    "#   ],\n",
    "#   [\n",
    "#     \"Which language was used to create fb?\", \"Python\", \"French\", \"JavaScript\",\n",
    "#     \"Php\", \"None\", 4\n",
    "#   ],\n",
    "#   [\n",
    "#     \"Which language was used to create fb?\", \"Python\", \"French\", \"JavaScript\",\n",
    "#     \"Php\", \"None\", 4\n",
    "#   ],\n",
    "#   [\n",
    "#     \"Which language was used to create fb?\", \"Python\", \"French\", \"JavaScript\",\n",
    "#     \"Php\", \"None\", 4\n",
    "#   ],\n",
    "#   [\n",
    "#     \"Which language was used to create fb?\", \"Python\", \"French\", \"JavaScript\",\n",
    "#     \"Php\", \"None\", 4\n",
    "#   ],\n",
    "#   [\n",
    "#     \"Which language was used to create fb?\", \"Python\", \"French\", \"JavaScript\",\n",
    "#     \"Php\", \"None\", 4\n",
    "#   ],\n",
    "#   [\n",
    "#     \"Which language was used to create fb?\", \"Python\", \"French\", \"JavaScript\",\n",
    "#     \"Php\", \"None\", 4\n",
    "#   ],\n",
    "# ]\n",
    "\n",
    "# levels = [1000, 2000, 3000, 5000, 10000, 20000, 40000, 80000, 160000, 320000]\n",
    "# money = 0\n",
    "# for i in range(0, len(questions)):\n",
    "  \n",
    "#   question = questions[i]\n",
    "#   print(f\"\\n\\nQuestion for Rs. {levels[i]}\")\n",
    "#   print(f\"a. {question[1]}          b. {question[2]} \")\n",
    "#   print(f\"c. {question[3]}          d. {question[4]} \")\n",
    "#   reply = int(input(\"Enter your answer (1-4) or  0 to quit:\\n\" ))\n",
    "#   if (reply == 0):\n",
    "#     money = levels[i-1]\n",
    "#     break\n",
    "#   if(reply == question[-1]):\n",
    "#     print(f\"Correct answer, you have won Rs. {levels[i]}\")\n",
    "#     if(i == 4):\n",
    "#       money = 10000\n",
    "#     elif(i == 9):\n",
    "#       money = 320000\n",
    "#     elif(i == 14):\n",
    "#       money = 10000000\n",
    "#   else:\n",
    "#     print(\"Wrong answer!\")\n",
    "#     break \n",
    "\n",
    "# print(f\"Your take home money is {money}\")"
   ]
  }
 ],
 "metadata": {
  "kernelspec": {
   "display_name": "Python 3 (ipykernel)",
   "language": "python",
   "name": "python3"
  },
  "language_info": {
   "codemirror_mode": {
    "name": "ipython",
    "version": 3
   },
   "file_extension": ".py",
   "mimetype": "text/x-python",
   "name": "python",
   "nbconvert_exporter": "python",
   "pygments_lexer": "ipython3",
   "version": "3.10.9"
  }
 },
 "nbformat": 4,
 "nbformat_minor": 5
}
