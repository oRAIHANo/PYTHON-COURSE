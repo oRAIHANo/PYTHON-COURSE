{
 "cells": [
  {
   "cell_type": "markdown",
   "id": "6f5d77b4",
   "metadata": {},
   "source": [
    "# List"
   ]
  },
  {
   "cell_type": "markdown",
   "id": "6fe6fbcb",
   "metadata": {},
   "source": [
    "#### Lists are used to store multiple data at once,ordered\n",
    "#### List stores element and each element or value that is inside of a list is called an item\n",
    "#### List can store elements of different types (integer, float, string, boolean)\n",
    "#### List can store duplicate elements\n",
    "#### Lists are changeable, meaning that we can change, add, and remove items in a list after it has been created\n",
    "#### Lists are created using square brackets"
   ]
  },
  {
   "cell_type": "markdown",
   "id": "632d2709",
   "metadata": {},
   "source": [
    "# ---------------------------------------------------------------------------------------------------------------"
   ]
  },
  {
   "cell_type": "markdown",
   "id": "5f9751ff",
   "metadata": {},
   "source": [
    "### How to create a list"
   ]
  },
  {
   "cell_type": "code",
   "execution_count": 1,
   "id": "5446b429",
   "metadata": {},
   "outputs": [
    {
     "name": "stdout",
     "output_type": "stream",
     "text": [
      "Empty List ----------------------- []\n",
      "List of Integer type ------------- [1, 2, 3, 4, 5, 6, 7, 8, 9, 10]\n",
      "List of Float type --------------- [10.5, 20.5, 30.5, 40.5, 50.5]\n",
      "List of String type -------------- ['Apple', 'Banana', 'Cherry', 'Orange', 'Apple']\n",
      "List of Boolean type ------------- [True, False]\n",
      "List inside a List --------------- [['Raihan', 20], ['Aman', 20]]\n",
      "List of Complex type ------------- [1, 170.5, 'Raihan', True]\n"
     ]
    }
   ],
   "source": [
    "empty = []\n",
    "numbers = [1,2,3,4,5,6,7,8,9,10]\n",
    "heights = [10.5, 20.5, 30.5, 40.5, 50.5]\n",
    "fruits = ['Apple', 'Banana', 'Cherry', 'Orange', 'Apple']\n",
    "boolean = [True, False]\n",
    "information = [['Raihan', 20], ['Aman', 20]]\n",
    "medical_report = [1, 170.5, 'Raihan', True] # Can store elments of multiple data types\n",
    "\n",
    "print(f'Empty List ----------------------- {empty}')\n",
    "print(f'List of Integer type ------------- {numbers}')\n",
    "print(f'List of Float type --------------- {heights}')\n",
    "print(f'List of String type -------------- {fruits}')\n",
    "print(f'List of Boolean type ------------- {boolean}')\n",
    "print(f'List inside a List --------------- {information}')\n",
    "print(f'List of Complex type ------------- {medical_report}')"
   ]
  },
  {
   "cell_type": "code",
   "execution_count": 2,
   "id": "11063a83",
   "metadata": {},
   "outputs": [
    {
     "name": "stdout",
     "output_type": "stream",
     "text": [
      "<class 'list'>\n"
     ]
    }
   ],
   "source": [
    "numbers = [1,2,3,4,5,6,7,8,9,10]\n",
    "print(type(numbers))"
   ]
  },
  {
   "cell_type": "code",
   "execution_count": 3,
   "id": "6b54e6bf",
   "metadata": {},
   "outputs": [
    {
     "name": "stdout",
     "output_type": "stream",
     "text": [
      "10\n"
     ]
    }
   ],
   "source": [
    "numbers = [1,2,3,4,5,6,7,8,9,10]\n",
    "print(len(numbers))"
   ]
  },
  {
   "cell_type": "code",
   "execution_count": 4,
   "id": "40639f93",
   "metadata": {},
   "outputs": [
    {
     "name": "stdout",
     "output_type": "stream",
     "text": [
      "[1, 2, 3, 4, 5, 6, 7, 8, 9, 10, 10, 10, 10, 10]\n"
     ]
    }
   ],
   "source": [
    "# List can store duplicate values\n",
    "numbers = [1,2,3,4,5,6,7,8,9,10,10,10,10,10]\n",
    "print(numbers)"
   ]
  },
  {
   "cell_type": "markdown",
   "id": "28eb64f3",
   "metadata": {},
   "source": [
    "# ---------------------------------------------------------------------------------------------------------------"
   ]
  },
  {
   "cell_type": "markdown",
   "id": "a985d886",
   "metadata": {},
   "source": [
    "### How to access items of a list or list slicing"
   ]
  },
  {
   "cell_type": "code",
   "execution_count": 5,
   "id": "f61c16f2",
   "metadata": {},
   "outputs": [
    {
     "name": "stdout",
     "output_type": "stream",
     "text": [
      "5\n"
     ]
    }
   ],
   "source": [
    "# Indexing\n",
    "numbers = [1,2,3,4,5,6,7,8,9,10]\n",
    "print(numbers[4])"
   ]
  },
  {
   "cell_type": "code",
   "execution_count": 6,
   "id": "3cf080b8",
   "metadata": {},
   "outputs": [
    {
     "name": "stdout",
     "output_type": "stream",
     "text": [
      "5\n"
     ]
    }
   ],
   "source": [
    "# Negative Indexing\n",
    "numbers = [1,2,3,4,5,6,7,8,9,10]\n",
    "print(numbers[-6])"
   ]
  },
  {
   "cell_type": "code",
   "execution_count": 7,
   "id": "7bdd9e82",
   "metadata": {},
   "outputs": [
    {
     "name": "stdout",
     "output_type": "stream",
     "text": [
      "[1, 2, 3, 4, 5]\n"
     ]
    }
   ],
   "source": [
    "# Range\n",
    "numbers = [1,2,3,4,5,6,7,8,9,10]\n",
    "print(numbers[0:5]) # This will only print items from index 1 to 4 although we have specified 5 in the range"
   ]
  },
  {
   "cell_type": "markdown",
   "id": "ed2085e8",
   "metadata": {},
   "source": [
    "# ---------------------------------------------------------------------------------------------------------------"
   ]
  },
  {
   "cell_type": "markdown",
   "id": "e2061c04",
   "metadata": {},
   "source": [
    "### List Methods"
   ]
  },
  {
   "cell_type": "markdown",
   "id": "f079aeef",
   "metadata": {},
   "source": [
    "### append() -------------- Adds an element at the end of the list\n",
    "### insert() ----------------- Adds an element at the specified position\n",
    "### clear()\t----------------- Removes all the elements from the list\n",
    "### copy() ----------------- Returns a copy of the list\n",
    "### count()\t---------------- Returns the number of elements with the specified value\n",
    "### extend() --------------- Add the elements of a list (or any iterable), to the end of the current list\n",
    "### index() ----------------- Returns the index of the first element with the specified value\n",
    "### pop() ------------------- Removes the element at the specified position\n",
    "### remove() -------------- Removes the item with the specified value\n",
    "### reverse() -------------- Reverses the order of the list\n",
    "### sort() ------------------- Sorts the list"
   ]
  },
  {
   "cell_type": "code",
   "execution_count": 8,
   "id": "83dca14a",
   "metadata": {},
   "outputs": [
    {
     "name": "stdout",
     "output_type": "stream",
     "text": [
      "[1, 2, 3, 4, 5, 6, 7, 8, 9, 10]\n",
      "[1, 2, 3, 4, 5, 6, 7, 8, 9, 10, 11]\n"
     ]
    }
   ],
   "source": [
    "# Append\n",
    "numbers = [1,2,3,4,5,6,7,8,9,10]\n",
    "print(numbers)\n",
    "numbers.append(11)\n",
    "print(numbers)"
   ]
  },
  {
   "cell_type": "code",
   "execution_count": 9,
   "id": "501025fb",
   "metadata": {},
   "outputs": [
    {
     "name": "stdout",
     "output_type": "stream",
     "text": [
      "[1, 2, 3, 4, 5, 6, 7, 8, 9, 10]\n",
      "[11, 1, 2, 3, 4, 5, 6, 7, 8, 9, 10]\n"
     ]
    }
   ],
   "source": [
    "# Insert\n",
    "numbers = [1,2,3,4,5,6,7,8,9,10]\n",
    "print(numbers)\n",
    "numbers.insert(0,11)\n",
    "print(numbers)"
   ]
  },
  {
   "cell_type": "code",
   "execution_count": 10,
   "id": "507c76bd",
   "metadata": {},
   "outputs": [
    {
     "name": "stdout",
     "output_type": "stream",
     "text": [
      "[1, 2, 3, 4, 5, 6, 7, 8, 9, 10]\n",
      "[]\n"
     ]
    }
   ],
   "source": [
    "# Clear\n",
    "numbers = [1,2,3,4,5,6,7,8,9,10]\n",
    "print(numbers)\n",
    "numbers.clear()\n",
    "print(numbers)"
   ]
  },
  {
   "cell_type": "code",
   "execution_count": 11,
   "id": "14bab71b",
   "metadata": {},
   "outputs": [
    {
     "name": "stdout",
     "output_type": "stream",
     "text": [
      "[1, 2, 3, 4, 5, 6, 7, 8, 9, 10]\n"
     ]
    }
   ],
   "source": [
    "# Copy\n",
    "numbers = [1,2,3,4,5,6,7,8,9,10]\n",
    "numerical_values = numbers.copy()\n",
    "print(numerical_values)"
   ]
  },
  {
   "cell_type": "code",
   "execution_count": 12,
   "id": "9d92e0f2",
   "metadata": {},
   "outputs": [
    {
     "name": "stdout",
     "output_type": "stream",
     "text": [
      "1\n",
      "5\n"
     ]
    }
   ],
   "source": [
    "# Count\n",
    "numbers = [1,2,3,4,5,6,7,8,9,10,10,10,10,10]\n",
    "print(numbers.count(1))\n",
    "print(numbers.count(10))"
   ]
  },
  {
   "cell_type": "code",
   "execution_count": 13,
   "id": "ad79876a",
   "metadata": {},
   "outputs": [
    {
     "name": "stdout",
     "output_type": "stream",
     "text": [
      "[1, 2, 3, 4, 5, 6, 7, 8, 9, 10]\n",
      "['a', 'b', 'c', 'd']\n",
      "[1, 2, 3, 4, 5, 6, 7, 8, 9, 10, 'a', 'b', 'c', 'd']\n"
     ]
    }
   ],
   "source": [
    "# Extend\n",
    "numbers = [1,2,3,4,5,6,7,8,9,10]\n",
    "print(numbers)\n",
    "alphabets = ['a','b','c','d']\n",
    "print(alphabets)\n",
    "numbers.extend(alphabets)\n",
    "print(numbers)"
   ]
  },
  {
   "cell_type": "code",
   "execution_count": 14,
   "id": "62429e53",
   "metadata": {},
   "outputs": [
    {
     "data": {
      "text/plain": [
       "4"
      ]
     },
     "execution_count": 14,
     "metadata": {},
     "output_type": "execute_result"
    }
   ],
   "source": [
    "# Index\n",
    "numbers = [1,2,3,4,5,6,7,8,9,10]\n",
    "numbers.index(5)"
   ]
  },
  {
   "cell_type": "code",
   "execution_count": 15,
   "id": "71c3a21b",
   "metadata": {},
   "outputs": [
    {
     "name": "stdout",
     "output_type": "stream",
     "text": [
      "['a', 'b', 'c', 'd']\n",
      "['a', 'b', 'c']\n"
     ]
    }
   ],
   "source": [
    "# Pop \n",
    "# To delete an element pass the index value not the value itself\n",
    "alphabets = ['a','b','c','d']\n",
    "print(alphabets)\n",
    "alphabets.pop(3)\n",
    "print(alphabets)"
   ]
  },
  {
   "cell_type": "code",
   "execution_count": 16,
   "id": "f839d975",
   "metadata": {},
   "outputs": [
    {
     "name": "stdout",
     "output_type": "stream",
     "text": [
      "['a', 'b', 'c', 'd']\n",
      "['b', 'c', 'd']\n"
     ]
    }
   ],
   "source": [
    "# Remove\n",
    "# To delete an element pass the value itself\n",
    "alphabets = ['a','b','c','d']\n",
    "print(alphabets)\n",
    "alphabets.remove('a')\n",
    "print(alphabets)"
   ]
  },
  {
   "cell_type": "code",
   "execution_count": 17,
   "id": "8722dc71",
   "metadata": {},
   "outputs": [
    {
     "name": "stdout",
     "output_type": "stream",
     "text": [
      "[10, 9, 8, 7, 6, 5, 4, 3, 2, 1]\n"
     ]
    }
   ],
   "source": [
    "# Reverse\n",
    "numbers = [1,2,3,4,5,6,7,8,9,10]\n",
    "numbers.reverse()\n",
    "print(numbers)"
   ]
  },
  {
   "cell_type": "code",
   "execution_count": 18,
   "id": "957933f3",
   "metadata": {},
   "outputs": [
    {
     "name": "stdout",
     "output_type": "stream",
     "text": [
      "['a', 'm', 'o', 'z']\n"
     ]
    }
   ],
   "source": [
    "# Sort\n",
    "alphabets = ['z','a','m','o']\n",
    "alphabets.sort()\n",
    "print(alphabets)"
   ]
  },
  {
   "cell_type": "markdown",
   "id": "97734eee",
   "metadata": {},
   "source": [
    "# ---------------------------------------------------------------------------------------------------------------"
   ]
  },
  {
   "cell_type": "markdown",
   "id": "ada27fa5",
   "metadata": {},
   "source": [
    "### How to print the elements of a list using loop"
   ]
  },
  {
   "cell_type": "code",
   "execution_count": 19,
   "id": "4eed9106",
   "metadata": {},
   "outputs": [
    {
     "name": "stdout",
     "output_type": "stream",
     "text": [
      "1\n",
      "2\n",
      "3\n",
      "4\n",
      "5\n",
      "6\n",
      "7\n",
      "8\n",
      "9\n",
      "10\n"
     ]
    }
   ],
   "source": [
    "numbers = [1,2,3,4,5,6,7,8,9,10]\n",
    "for i in numbers:\n",
    "    print(i)"
   ]
  },
  {
   "cell_type": "code",
   "execution_count": 20,
   "id": "73e4a92c",
   "metadata": {},
   "outputs": [
    {
     "name": "stdout",
     "output_type": "stream",
     "text": [
      "1\n",
      "2\n",
      "3\n",
      "4\n",
      "5\n",
      "6\n",
      "7\n",
      "8\n",
      "9\n",
      "10\n"
     ]
    }
   ],
   "source": [
    "numbers = [1,2,3,4,5,6,7,8,9,10]\n",
    "for i in range(len(numbers)):\n",
    "    print(numbers[i])"
   ]
  },
  {
   "cell_type": "code",
   "execution_count": 22,
   "id": "003aca2e",
   "metadata": {},
   "outputs": [
    {
     "name": "stdout",
     "output_type": "stream",
     "text": [
      "Enter the size of list :5\n",
      "Enter 1 element :1\n",
      "Enter 2 element :2\n",
      "Enter 3 element :3\n",
      "Enter 4 element :4\n",
      "Enter 5 element :5\n",
      "Elements of the List : [1, 2, 3, 4, 5]\n"
     ]
    }
   ],
   "source": [
    "l = []\n",
    "size = int(input('Enter the size of list :'))\n",
    "for i in range(size):\n",
    "    l.append(int(input(f'Enter {i+1} element :')))\n",
    "print(f'Elements of the List : {l}')"
   ]
  },
  {
   "cell_type": "code",
   "execution_count": 23,
   "id": "66690792",
   "metadata": {},
   "outputs": [
    {
     "name": "stdout",
     "output_type": "stream",
     "text": [
      "15\n"
     ]
    }
   ],
   "source": [
    "sum = 0\n",
    "for i in l:\n",
    "    sum += i\n",
    "print(sum)"
   ]
  },
  {
   "cell_type": "markdown",
   "id": "b6ba64fd",
   "metadata": {},
   "source": [
    "# ---------------------------------------------------------------------------------------------------------------"
   ]
  },
  {
   "cell_type": "markdown",
   "id": "25f83dd9",
   "metadata": {},
   "source": [
    "### Mathematical Functions"
   ]
  },
  {
   "cell_type": "code",
   "execution_count": 24,
   "id": "54027ffb",
   "metadata": {},
   "outputs": [
    {
     "name": "stdout",
     "output_type": "stream",
     "text": [
      "[1, 2, 3, 4, 5, 6, 7, 8, 9, 10, 'a', 'b', 'c', 'd']\n"
     ]
    }
   ],
   "source": [
    "numbers = [1,2,3,4,5,6,7,8,9,10]\n",
    "alphabets = ['a','b','c','d']\n",
    "output = numbers + alphabets\n",
    "print(output)"
   ]
  },
  {
   "cell_type": "code",
   "execution_count": 25,
   "id": "bf38320c",
   "metadata": {},
   "outputs": [
    {
     "name": "stdout",
     "output_type": "stream",
     "text": [
      "1\n",
      "10\n"
     ]
    }
   ],
   "source": [
    "numbers = [1,2,3,4,5,6,7,8,9,10]\n",
    "print(min(numbers))\n",
    "print(max(numbers))"
   ]
  },
  {
   "cell_type": "markdown",
   "id": "eb8d2c27",
   "metadata": {},
   "source": [
    "### Multidimentional List"
   ]
  },
  {
   "cell_type": "code",
   "execution_count": 32,
   "id": "33c89dee",
   "metadata": {},
   "outputs": [
    {
     "name": "stdout",
     "output_type": "stream",
     "text": [
      "[[1, 2, 3, 4, 5], [6, 7, 8, 9, 10], [11, 12, 13, 14, 15]]\n"
     ]
    }
   ],
   "source": [
    "mul_list = [[1,2,3,4,5],\n",
    "            [6,7,8,9,10],\n",
    "            [11,12,13,14,15]\n",
    "           ]\n",
    "print(mul_list)"
   ]
  },
  {
   "cell_type": "markdown",
   "id": "345c73b3",
   "metadata": {},
   "source": [
    "# ---------------------------------------------------------------------------------------------------------------"
   ]
  },
  {
   "cell_type": "markdown",
   "id": "a910ac5c",
   "metadata": {},
   "source": [
    "# Tuple"
   ]
  },
  {
   "cell_type": "markdown",
   "id": "10479b30",
   "metadata": {},
   "source": [
    "#### Tuple is a collection which is ordered and unchangeable\n",
    "#### Tuples are unchangeable, meaning that we cannot change, add or remove items after the tuple has been created"
   ]
  },
  {
   "cell_type": "markdown",
   "id": "3542b49b",
   "metadata": {},
   "source": [
    "# ---------------------------------------------------------------------------------------------------------------"
   ]
  },
  {
   "cell_type": "markdown",
   "id": "c7fd5ba0",
   "metadata": {},
   "source": [
    "### How to create a tuple"
   ]
  },
  {
   "cell_type": "code",
   "execution_count": 26,
   "id": "f99dc743",
   "metadata": {},
   "outputs": [
    {
     "name": "stdout",
     "output_type": "stream",
     "text": [
      "('Monday', 'Tuesday', 'Wednesday', 'Thursday', 'Friday', 'Saturday', 'Sunday')\n",
      "('January', 'February', 'March', 'April', 'May', 'June', 'July', 'August', 'September', 'October', 'November', 'December')\n",
      "(1, 170.5, 'Raihan', True)\n"
     ]
    }
   ],
   "source": [
    "days = ('Monday','Tuesday','Wednesday','Thursday','Friday','Saturday','Sunday')\n",
    "months = ('January','February','March','April','May','June','July','August','September','October','November','December')\n",
    "medical_report = (1, 170.5, 'Raihan', True)\n",
    "\n",
    "print(days)\n",
    "print(months)\n",
    "print(medical_report)"
   ]
  },
  {
   "cell_type": "code",
   "execution_count": 27,
   "id": "0de724f6",
   "metadata": {},
   "outputs": [
    {
     "name": "stdout",
     "output_type": "stream",
     "text": [
      "<class 'tuple'>\n"
     ]
    }
   ],
   "source": [
    "alphabets = ('a','b','c','d','e','f','g','h')\n",
    "print(type(alphabets))"
   ]
  },
  {
   "cell_type": "markdown",
   "id": "88650c4d",
   "metadata": {},
   "source": [
    "# ---------------------------------------------------------------------------------------------------------------"
   ]
  },
  {
   "cell_type": "markdown",
   "id": "6eb7ff9e",
   "metadata": {},
   "source": [
    "### How to print the elements of a tuple using loop"
   ]
  },
  {
   "cell_type": "code",
   "execution_count": 28,
   "id": "67688089",
   "metadata": {},
   "outputs": [
    {
     "name": "stdout",
     "output_type": "stream",
     "text": [
      "a\n",
      "b\n",
      "c\n",
      "d\n",
      "e\n",
      "f\n",
      "g\n",
      "h\n"
     ]
    }
   ],
   "source": [
    "for i in alphabets:\n",
    "    print(i)"
   ]
  },
  {
   "cell_type": "code",
   "execution_count": 29,
   "id": "d0b2ef2f",
   "metadata": {},
   "outputs": [
    {
     "name": "stdout",
     "output_type": "stream",
     "text": [
      "a\n",
      "b\n",
      "c\n",
      "d\n",
      "e\n",
      "f\n",
      "g\n",
      "h\n"
     ]
    }
   ],
   "source": [
    "alphabets = ('a','b','c','d','e','f','g','h')\n",
    "for i in range(len(alphabets)):\n",
    "    print(alphabets[i])"
   ]
  },
  {
   "cell_type": "markdown",
   "id": "914046e9",
   "metadata": {},
   "source": [
    "# ---------------------------------------------------------------------------------------------------------------"
   ]
  },
  {
   "cell_type": "markdown",
   "id": "2f298599",
   "metadata": {},
   "source": [
    "### Tuple Methods"
   ]
  },
  {
   "cell_type": "code",
   "execution_count": 1,
   "id": "7fc5f4fe",
   "metadata": {},
   "outputs": [
    {
     "name": "stdout",
     "output_type": "stream",
     "text": [
      "8\n"
     ]
    }
   ],
   "source": [
    "alphabets = ('a','b','c','d','e','f','g','h')\n",
    "print(len(alphabets))"
   ]
  },
  {
   "cell_type": "code",
   "execution_count": 3,
   "id": "bbcd9904",
   "metadata": {},
   "outputs": [
    {
     "name": "stdout",
     "output_type": "stream",
     "text": [
      "5\n"
     ]
    }
   ],
   "source": [
    "alphabets = ('a','b','c','d','e','f','g','h','a','a','a','a')\n",
    "print(alphabets.count('a'))"
   ]
  },
  {
   "cell_type": "code",
   "execution_count": 4,
   "id": "dd2d4452",
   "metadata": {},
   "outputs": [
    {
     "name": "stdout",
     "output_type": "stream",
     "text": [
      "3\n"
     ]
    }
   ],
   "source": [
    "alphabets = ('a','b','c','d','e','f','g','h','a','a','a','a')\n",
    "print(alphabets.index('d'))"
   ]
  },
  {
   "cell_type": "markdown",
   "id": "5cbd66d1",
   "metadata": {},
   "source": [
    "### We can perform all the list operations in tuple after converting that tuple into a list and again converting it to a tuple after operation"
   ]
  },
  {
   "cell_type": "code",
   "execution_count": 30,
   "id": "ad49585e",
   "metadata": {},
   "outputs": [
    {
     "ename": "AttributeError",
     "evalue": "'tuple' object has no attribute 'insert'",
     "output_type": "error",
     "traceback": [
      "\u001b[1;31m---------------------------------------------------------------------------\u001b[0m",
      "\u001b[1;31mAttributeError\u001b[0m                            Traceback (most recent call last)",
      "Cell \u001b[1;32mIn[30], line 2\u001b[0m\n\u001b[0;32m      1\u001b[0m alphabets \u001b[38;5;241m=\u001b[39m (\u001b[38;5;124m'\u001b[39m\u001b[38;5;124ma\u001b[39m\u001b[38;5;124m'\u001b[39m,\u001b[38;5;124m'\u001b[39m\u001b[38;5;124mb\u001b[39m\u001b[38;5;124m'\u001b[39m,\u001b[38;5;124m'\u001b[39m\u001b[38;5;124mc\u001b[39m\u001b[38;5;124m'\u001b[39m,\u001b[38;5;124m'\u001b[39m\u001b[38;5;124md\u001b[39m\u001b[38;5;124m'\u001b[39m,\u001b[38;5;124m'\u001b[39m\u001b[38;5;124me\u001b[39m\u001b[38;5;124m'\u001b[39m,\u001b[38;5;124m'\u001b[39m\u001b[38;5;124mf\u001b[39m\u001b[38;5;124m'\u001b[39m,\u001b[38;5;124m'\u001b[39m\u001b[38;5;124mg\u001b[39m\u001b[38;5;124m'\u001b[39m,\u001b[38;5;124m'\u001b[39m\u001b[38;5;124mh\u001b[39m\u001b[38;5;124m'\u001b[39m)\n\u001b[1;32m----> 2\u001b[0m \u001b[43malphabets\u001b[49m\u001b[38;5;241;43m.\u001b[39;49m\u001b[43minsert\u001b[49m(\u001b[38;5;241m0\u001b[39m,\u001b[38;5;124m'\u001b[39m\u001b[38;5;124mi\u001b[39m\u001b[38;5;124m'\u001b[39m)\n",
      "\u001b[1;31mAttributeError\u001b[0m: 'tuple' object has no attribute 'insert'"
     ]
    }
   ],
   "source": [
    "alphabets = ('a','b','c','d','e','f','g','h')\n",
    "alphabets.insert(0,'i')"
   ]
  }
 ],
 "metadata": {
  "kernelspec": {
   "display_name": "Python 3 (ipykernel)",
   "language": "python",
   "name": "python3"
  },
  "language_info": {
   "codemirror_mode": {
    "name": "ipython",
    "version": 3
   },
   "file_extension": ".py",
   "mimetype": "text/x-python",
   "name": "python",
   "nbconvert_exporter": "python",
   "pygments_lexer": "ipython3",
   "version": "3.10.9"
  }
 },
 "nbformat": 4,
 "nbformat_minor": 5
}
